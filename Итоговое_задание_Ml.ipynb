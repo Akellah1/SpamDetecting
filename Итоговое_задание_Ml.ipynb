{
  "nbformat": 4,
  "nbformat_minor": 0,
  "metadata": {
    "colab": {
      "provenance": []
    },
    "kernelspec": {
      "name": "python3",
      "display_name": "Python 3"
    },
    "language_info": {
      "name": "python"
    }
  },
  "cells": [
    {
      "cell_type": "code",
      "execution_count": 1,
      "metadata": {
        "id": "gRsgpdyEg6r4"
      },
      "outputs": [],
      "source": [
        "#Import libs\n",
        "import pandas as pd \n",
        "import numpy as np \n",
        "import matplotlib.pyplot as plt \n",
        "import seaborn as sns\n",
        "from nltk.stem.porter import PorterStemmer\n",
        "from nltk.stem import WordNetLemmatizer\n",
        "from nltk.sentiment.vader import SentimentIntensityAnalyzer\n",
        "from sklearn.feature_extraction.text import CountVectorizer,TfidfVectorizer\n",
        "from nltk.corpus import stopwords\n",
        "from nltk.tokenize import word_tokenize, sent_tokenize\n",
        "from sklearn.preprocessing import LabelEncoder\n",
        "from sklearn.metrics import accuracy_score, precision_score, recall_score\n",
        "from sklearn.model_selection import train_test_split\n",
        "from sklearn.linear_model import LogisticRegression\n",
        "from sklearn.naive_bayes import MultinomialNB\n",
        "from sklearn.neighbors import KNeighborsClassifier\n",
        "from sklearn.ensemble import RandomForestClassifier,GradientBoostingClassifier,AdaBoostClassifier,ExtraTreesClassifier\n",
        "from collections import Counter\n",
        "import string\n",
        "import warnings\n",
        "warnings.filterwarnings('ignore')\n",
        "import warnings\n",
        "warnings.filterwarnings('ignore')"
      ]
    },
    {
      "cell_type": "code",
      "source": [
        "df=pd.read_csv('traindata1.csv', sep = ';')\n",
        "df.head()"
      ],
      "metadata": {
        "colab": {
          "base_uri": "https://localhost:8080/",
          "height": 206
        },
        "id": "72i0nYDFhI3I",
        "outputId": "34559885-c516-4de2-d8eb-b000526df685"
      },
      "execution_count": 2,
      "outputs": [
        {
          "output_type": "execute_result",
          "data": {
            "text/plain": [
              "                                 subject  \\\n",
              "0               Re: New Sequences Window   \n",
              "1              [zzzzteana] RE: Alexander   \n",
              "2              [zzzzteana] Moscow bomber   \n",
              "3  [IRR] Klez: The Virus That  Won't Die   \n",
              "4                   Re: Insert signature   \n",
              "\n",
              "                                             message  label  \n",
              "0      Date:        Wed, 21 Aug 2002 10:54:46 -05...      0  \n",
              "1  Martin A posted:\\n Tassos Papadopoulos, the Gr...      0  \n",
              "2  Man Threatens Explosion In Moscow \\n \\n Thursd...      0  \n",
              "3  Klez: The Virus That Won't Die\\n  \\n Already t...      0  \n",
              "4  On Wed Aug 21 2002 at 15:46, Ulises Ponce wrot...      0  "
            ],
            "text/html": [
              "\n",
              "  <div id=\"df-872870fd-1950-423b-98cb-85e043749ecc\">\n",
              "    <div class=\"colab-df-container\">\n",
              "      <div>\n",
              "<style scoped>\n",
              "    .dataframe tbody tr th:only-of-type {\n",
              "        vertical-align: middle;\n",
              "    }\n",
              "\n",
              "    .dataframe tbody tr th {\n",
              "        vertical-align: top;\n",
              "    }\n",
              "\n",
              "    .dataframe thead th {\n",
              "        text-align: right;\n",
              "    }\n",
              "</style>\n",
              "<table border=\"1\" class=\"dataframe\">\n",
              "  <thead>\n",
              "    <tr style=\"text-align: right;\">\n",
              "      <th></th>\n",
              "      <th>subject</th>\n",
              "      <th>message</th>\n",
              "      <th>label</th>\n",
              "    </tr>\n",
              "  </thead>\n",
              "  <tbody>\n",
              "    <tr>\n",
              "      <th>0</th>\n",
              "      <td>Re: New Sequences Window</td>\n",
              "      <td>Date:        Wed, 21 Aug 2002 10:54:46 -05...</td>\n",
              "      <td>0</td>\n",
              "    </tr>\n",
              "    <tr>\n",
              "      <th>1</th>\n",
              "      <td>[zzzzteana] RE: Alexander</td>\n",
              "      <td>Martin A posted:\\n Tassos Papadopoulos, the Gr...</td>\n",
              "      <td>0</td>\n",
              "    </tr>\n",
              "    <tr>\n",
              "      <th>2</th>\n",
              "      <td>[zzzzteana] Moscow bomber</td>\n",
              "      <td>Man Threatens Explosion In Moscow \\n \\n Thursd...</td>\n",
              "      <td>0</td>\n",
              "    </tr>\n",
              "    <tr>\n",
              "      <th>3</th>\n",
              "      <td>[IRR] Klez: The Virus That  Won't Die</td>\n",
              "      <td>Klez: The Virus That Won't Die\\n  \\n Already t...</td>\n",
              "      <td>0</td>\n",
              "    </tr>\n",
              "    <tr>\n",
              "      <th>4</th>\n",
              "      <td>Re: Insert signature</td>\n",
              "      <td>On Wed Aug 21 2002 at 15:46, Ulises Ponce wrot...</td>\n",
              "      <td>0</td>\n",
              "    </tr>\n",
              "  </tbody>\n",
              "</table>\n",
              "</div>\n",
              "      <button class=\"colab-df-convert\" onclick=\"convertToInteractive('df-872870fd-1950-423b-98cb-85e043749ecc')\"\n",
              "              title=\"Convert this dataframe to an interactive table.\"\n",
              "              style=\"display:none;\">\n",
              "        \n",
              "  <svg xmlns=\"http://www.w3.org/2000/svg\" height=\"24px\"viewBox=\"0 0 24 24\"\n",
              "       width=\"24px\">\n",
              "    <path d=\"M0 0h24v24H0V0z\" fill=\"none\"/>\n",
              "    <path d=\"M18.56 5.44l.94 2.06.94-2.06 2.06-.94-2.06-.94-.94-2.06-.94 2.06-2.06.94zm-11 1L8.5 8.5l.94-2.06 2.06-.94-2.06-.94L8.5 2.5l-.94 2.06-2.06.94zm10 10l.94 2.06.94-2.06 2.06-.94-2.06-.94-.94-2.06-.94 2.06-2.06.94z\"/><path d=\"M17.41 7.96l-1.37-1.37c-.4-.4-.92-.59-1.43-.59-.52 0-1.04.2-1.43.59L10.3 9.45l-7.72 7.72c-.78.78-.78 2.05 0 2.83L4 21.41c.39.39.9.59 1.41.59.51 0 1.02-.2 1.41-.59l7.78-7.78 2.81-2.81c.8-.78.8-2.07 0-2.86zM5.41 20L4 18.59l7.72-7.72 1.47 1.35L5.41 20z\"/>\n",
              "  </svg>\n",
              "      </button>\n",
              "      \n",
              "  <style>\n",
              "    .colab-df-container {\n",
              "      display:flex;\n",
              "      flex-wrap:wrap;\n",
              "      gap: 12px;\n",
              "    }\n",
              "\n",
              "    .colab-df-convert {\n",
              "      background-color: #E8F0FE;\n",
              "      border: none;\n",
              "      border-radius: 50%;\n",
              "      cursor: pointer;\n",
              "      display: none;\n",
              "      fill: #1967D2;\n",
              "      height: 32px;\n",
              "      padding: 0 0 0 0;\n",
              "      width: 32px;\n",
              "    }\n",
              "\n",
              "    .colab-df-convert:hover {\n",
              "      background-color: #E2EBFA;\n",
              "      box-shadow: 0px 1px 2px rgba(60, 64, 67, 0.3), 0px 1px 3px 1px rgba(60, 64, 67, 0.15);\n",
              "      fill: #174EA6;\n",
              "    }\n",
              "\n",
              "    [theme=dark] .colab-df-convert {\n",
              "      background-color: #3B4455;\n",
              "      fill: #D2E3FC;\n",
              "    }\n",
              "\n",
              "    [theme=dark] .colab-df-convert:hover {\n",
              "      background-color: #434B5C;\n",
              "      box-shadow: 0px 1px 3px 1px rgba(0, 0, 0, 0.15);\n",
              "      filter: drop-shadow(0px 1px 2px rgba(0, 0, 0, 0.3));\n",
              "      fill: #FFFFFF;\n",
              "    }\n",
              "  </style>\n",
              "\n",
              "      <script>\n",
              "        const buttonEl =\n",
              "          document.querySelector('#df-872870fd-1950-423b-98cb-85e043749ecc button.colab-df-convert');\n",
              "        buttonEl.style.display =\n",
              "          google.colab.kernel.accessAllowed ? 'block' : 'none';\n",
              "\n",
              "        async function convertToInteractive(key) {\n",
              "          const element = document.querySelector('#df-872870fd-1950-423b-98cb-85e043749ecc');\n",
              "          const dataTable =\n",
              "            await google.colab.kernel.invokeFunction('convertToInteractive',\n",
              "                                                     [key], {});\n",
              "          if (!dataTable) return;\n",
              "\n",
              "          const docLinkHtml = 'Like what you see? Visit the ' +\n",
              "            '<a target=\"_blank\" href=https://colab.research.google.com/notebooks/data_table.ipynb>data table notebook</a>'\n",
              "            + ' to learn more about interactive tables.';\n",
              "          element.innerHTML = '';\n",
              "          dataTable['output_type'] = 'display_data';\n",
              "          await google.colab.output.renderOutput(dataTable, element);\n",
              "          const docLink = document.createElement('div');\n",
              "          docLink.innerHTML = docLinkHtml;\n",
              "          element.appendChild(docLink);\n",
              "        }\n",
              "      </script>\n",
              "    </div>\n",
              "  </div>\n",
              "  "
            ]
          },
          "metadata": {},
          "execution_count": 2
        }
      ]
    },
    {
      "cell_type": "code",
      "source": [
        "df['message'] = df['message'].str.lower()"
      ],
      "metadata": {
        "id": "YZQEQ0Zqhrsx"
      },
      "execution_count": 3,
      "outputs": []
    },
    {
      "cell_type": "code",
      "source": [
        "df.head()"
      ],
      "metadata": {
        "colab": {
          "base_uri": "https://localhost:8080/",
          "height": 206
        },
        "id": "ZQXC7-VMhr_u",
        "outputId": "e8d54739-43b7-4bfe-eae0-453463556db1"
      },
      "execution_count": 4,
      "outputs": [
        {
          "output_type": "execute_result",
          "data": {
            "text/plain": [
              "                                 subject  \\\n",
              "0               Re: New Sequences Window   \n",
              "1              [zzzzteana] RE: Alexander   \n",
              "2              [zzzzteana] Moscow bomber   \n",
              "3  [IRR] Klez: The Virus That  Won't Die   \n",
              "4                   Re: Insert signature   \n",
              "\n",
              "                                             message  label  \n",
              "0      date:        wed, 21 aug 2002 10:54:46 -05...      0  \n",
              "1  martin a posted:\\n tassos papadopoulos, the gr...      0  \n",
              "2  man threatens explosion in moscow \\n \\n thursd...      0  \n",
              "3  klez: the virus that won't die\\n  \\n already t...      0  \n",
              "4  on wed aug 21 2002 at 15:46, ulises ponce wrot...      0  "
            ],
            "text/html": [
              "\n",
              "  <div id=\"df-c128923d-0c2d-4dd9-afdc-df8df361ed42\">\n",
              "    <div class=\"colab-df-container\">\n",
              "      <div>\n",
              "<style scoped>\n",
              "    .dataframe tbody tr th:only-of-type {\n",
              "        vertical-align: middle;\n",
              "    }\n",
              "\n",
              "    .dataframe tbody tr th {\n",
              "        vertical-align: top;\n",
              "    }\n",
              "\n",
              "    .dataframe thead th {\n",
              "        text-align: right;\n",
              "    }\n",
              "</style>\n",
              "<table border=\"1\" class=\"dataframe\">\n",
              "  <thead>\n",
              "    <tr style=\"text-align: right;\">\n",
              "      <th></th>\n",
              "      <th>subject</th>\n",
              "      <th>message</th>\n",
              "      <th>label</th>\n",
              "    </tr>\n",
              "  </thead>\n",
              "  <tbody>\n",
              "    <tr>\n",
              "      <th>0</th>\n",
              "      <td>Re: New Sequences Window</td>\n",
              "      <td>date:        wed, 21 aug 2002 10:54:46 -05...</td>\n",
              "      <td>0</td>\n",
              "    </tr>\n",
              "    <tr>\n",
              "      <th>1</th>\n",
              "      <td>[zzzzteana] RE: Alexander</td>\n",
              "      <td>martin a posted:\\n tassos papadopoulos, the gr...</td>\n",
              "      <td>0</td>\n",
              "    </tr>\n",
              "    <tr>\n",
              "      <th>2</th>\n",
              "      <td>[zzzzteana] Moscow bomber</td>\n",
              "      <td>man threatens explosion in moscow \\n \\n thursd...</td>\n",
              "      <td>0</td>\n",
              "    </tr>\n",
              "    <tr>\n",
              "      <th>3</th>\n",
              "      <td>[IRR] Klez: The Virus That  Won't Die</td>\n",
              "      <td>klez: the virus that won't die\\n  \\n already t...</td>\n",
              "      <td>0</td>\n",
              "    </tr>\n",
              "    <tr>\n",
              "      <th>4</th>\n",
              "      <td>Re: Insert signature</td>\n",
              "      <td>on wed aug 21 2002 at 15:46, ulises ponce wrot...</td>\n",
              "      <td>0</td>\n",
              "    </tr>\n",
              "  </tbody>\n",
              "</table>\n",
              "</div>\n",
              "      <button class=\"colab-df-convert\" onclick=\"convertToInteractive('df-c128923d-0c2d-4dd9-afdc-df8df361ed42')\"\n",
              "              title=\"Convert this dataframe to an interactive table.\"\n",
              "              style=\"display:none;\">\n",
              "        \n",
              "  <svg xmlns=\"http://www.w3.org/2000/svg\" height=\"24px\"viewBox=\"0 0 24 24\"\n",
              "       width=\"24px\">\n",
              "    <path d=\"M0 0h24v24H0V0z\" fill=\"none\"/>\n",
              "    <path d=\"M18.56 5.44l.94 2.06.94-2.06 2.06-.94-2.06-.94-.94-2.06-.94 2.06-2.06.94zm-11 1L8.5 8.5l.94-2.06 2.06-.94-2.06-.94L8.5 2.5l-.94 2.06-2.06.94zm10 10l.94 2.06.94-2.06 2.06-.94-2.06-.94-.94-2.06-.94 2.06-2.06.94z\"/><path d=\"M17.41 7.96l-1.37-1.37c-.4-.4-.92-.59-1.43-.59-.52 0-1.04.2-1.43.59L10.3 9.45l-7.72 7.72c-.78.78-.78 2.05 0 2.83L4 21.41c.39.39.9.59 1.41.59.51 0 1.02-.2 1.41-.59l7.78-7.78 2.81-2.81c.8-.78.8-2.07 0-2.86zM5.41 20L4 18.59l7.72-7.72 1.47 1.35L5.41 20z\"/>\n",
              "  </svg>\n",
              "      </button>\n",
              "      \n",
              "  <style>\n",
              "    .colab-df-container {\n",
              "      display:flex;\n",
              "      flex-wrap:wrap;\n",
              "      gap: 12px;\n",
              "    }\n",
              "\n",
              "    .colab-df-convert {\n",
              "      background-color: #E8F0FE;\n",
              "      border: none;\n",
              "      border-radius: 50%;\n",
              "      cursor: pointer;\n",
              "      display: none;\n",
              "      fill: #1967D2;\n",
              "      height: 32px;\n",
              "      padding: 0 0 0 0;\n",
              "      width: 32px;\n",
              "    }\n",
              "\n",
              "    .colab-df-convert:hover {\n",
              "      background-color: #E2EBFA;\n",
              "      box-shadow: 0px 1px 2px rgba(60, 64, 67, 0.3), 0px 1px 3px 1px rgba(60, 64, 67, 0.15);\n",
              "      fill: #174EA6;\n",
              "    }\n",
              "\n",
              "    [theme=dark] .colab-df-convert {\n",
              "      background-color: #3B4455;\n",
              "      fill: #D2E3FC;\n",
              "    }\n",
              "\n",
              "    [theme=dark] .colab-df-convert:hover {\n",
              "      background-color: #434B5C;\n",
              "      box-shadow: 0px 1px 3px 1px rgba(0, 0, 0, 0.15);\n",
              "      filter: drop-shadow(0px 1px 2px rgba(0, 0, 0, 0.3));\n",
              "      fill: #FFFFFF;\n",
              "    }\n",
              "  </style>\n",
              "\n",
              "      <script>\n",
              "        const buttonEl =\n",
              "          document.querySelector('#df-c128923d-0c2d-4dd9-afdc-df8df361ed42 button.colab-df-convert');\n",
              "        buttonEl.style.display =\n",
              "          google.colab.kernel.accessAllowed ? 'block' : 'none';\n",
              "\n",
              "        async function convertToInteractive(key) {\n",
              "          const element = document.querySelector('#df-c128923d-0c2d-4dd9-afdc-df8df361ed42');\n",
              "          const dataTable =\n",
              "            await google.colab.kernel.invokeFunction('convertToInteractive',\n",
              "                                                     [key], {});\n",
              "          if (!dataTable) return;\n",
              "\n",
              "          const docLinkHtml = 'Like what you see? Visit the ' +\n",
              "            '<a target=\"_blank\" href=https://colab.research.google.com/notebooks/data_table.ipynb>data table notebook</a>'\n",
              "            + ' to learn more about interactive tables.';\n",
              "          element.innerHTML = '';\n",
              "          dataTable['output_type'] = 'display_data';\n",
              "          await google.colab.output.renderOutput(dataTable, element);\n",
              "          const docLink = document.createElement('div');\n",
              "          docLink.innerHTML = docLinkHtml;\n",
              "          element.appendChild(docLink);\n",
              "        }\n",
              "      </script>\n",
              "    </div>\n",
              "  </div>\n",
              "  "
            ]
          },
          "metadata": {},
          "execution_count": 4
        }
      ]
    },
    {
      "cell_type": "code",
      "source": [
        "df.isnull().sum()"
      ],
      "metadata": {
        "colab": {
          "base_uri": "https://localhost:8080/"
        },
        "id": "5lQ91lYGhyUG",
        "outputId": "f844f507-b960-4938-e12c-92138791780a"
      },
      "execution_count": 5,
      "outputs": [
        {
          "output_type": "execute_result",
          "data": {
            "text/plain": [
              "subject    11\n",
              "message     0\n",
              "label       0\n",
              "dtype: int64"
            ]
          },
          "metadata": {},
          "execution_count": 5
        }
      ]
    },
    {
      "cell_type": "code",
      "source": [
        "df.fillna(df['subject'].mode().values[0],inplace=True)"
      ],
      "metadata": {
        "id": "f2rmni4Lh0uj"
      },
      "execution_count": 6,
      "outputs": []
    },
    {
      "cell_type": "code",
      "source": [
        "df.isnull().sum()"
      ],
      "metadata": {
        "colab": {
          "base_uri": "https://localhost:8080/"
        },
        "id": "ubxKD6Fyh2Jd",
        "outputId": "7749c461-103f-4422-ecf2-576476a99b66"
      },
      "execution_count": 7,
      "outputs": [
        {
          "output_type": "execute_result",
          "data": {
            "text/plain": [
              "subject    0\n",
              "message    0\n",
              "label      0\n",
              "dtype: int64"
            ]
          },
          "metadata": {},
          "execution_count": 7
        }
      ]
    },
    {
      "cell_type": "code",
      "source": [
        "df['sub_mssg']=df['subject']+df['message']\n",
        "df.head()"
      ],
      "metadata": {
        "colab": {
          "base_uri": "https://localhost:8080/",
          "height": 206
        },
        "id": "poW33e37h3lg",
        "outputId": "6e827fa7-3720-47c8-aa15-6f22da444afd"
      },
      "execution_count": 8,
      "outputs": [
        {
          "output_type": "execute_result",
          "data": {
            "text/plain": [
              "                                 subject  \\\n",
              "0               Re: New Sequences Window   \n",
              "1              [zzzzteana] RE: Alexander   \n",
              "2              [zzzzteana] Moscow bomber   \n",
              "3  [IRR] Klez: The Virus That  Won't Die   \n",
              "4                   Re: Insert signature   \n",
              "\n",
              "                                             message  label  \\\n",
              "0      date:        wed, 21 aug 2002 10:54:46 -05...      0   \n",
              "1  martin a posted:\\n tassos papadopoulos, the gr...      0   \n",
              "2  man threatens explosion in moscow \\n \\n thursd...      0   \n",
              "3  klez: the virus that won't die\\n  \\n already t...      0   \n",
              "4  on wed aug 21 2002 at 15:46, ulises ponce wrot...      0   \n",
              "\n",
              "                                            sub_mssg  \n",
              "0  Re: New Sequences Window    date:        wed, ...  \n",
              "1  [zzzzteana] RE: Alexandermartin a posted:\\n ta...  \n",
              "2  [zzzzteana] Moscow bomberman threatens explosi...  \n",
              "3  [IRR] Klez: The Virus That  Won't Dieklez: the...  \n",
              "4  Re: Insert signatureon wed aug 21 2002 at 15:4...  "
            ],
            "text/html": [
              "\n",
              "  <div id=\"df-e5257135-f6a0-4958-9658-f09f98adb51d\">\n",
              "    <div class=\"colab-df-container\">\n",
              "      <div>\n",
              "<style scoped>\n",
              "    .dataframe tbody tr th:only-of-type {\n",
              "        vertical-align: middle;\n",
              "    }\n",
              "\n",
              "    .dataframe tbody tr th {\n",
              "        vertical-align: top;\n",
              "    }\n",
              "\n",
              "    .dataframe thead th {\n",
              "        text-align: right;\n",
              "    }\n",
              "</style>\n",
              "<table border=\"1\" class=\"dataframe\">\n",
              "  <thead>\n",
              "    <tr style=\"text-align: right;\">\n",
              "      <th></th>\n",
              "      <th>subject</th>\n",
              "      <th>message</th>\n",
              "      <th>label</th>\n",
              "      <th>sub_mssg</th>\n",
              "    </tr>\n",
              "  </thead>\n",
              "  <tbody>\n",
              "    <tr>\n",
              "      <th>0</th>\n",
              "      <td>Re: New Sequences Window</td>\n",
              "      <td>date:        wed, 21 aug 2002 10:54:46 -05...</td>\n",
              "      <td>0</td>\n",
              "      <td>Re: New Sequences Window    date:        wed, ...</td>\n",
              "    </tr>\n",
              "    <tr>\n",
              "      <th>1</th>\n",
              "      <td>[zzzzteana] RE: Alexander</td>\n",
              "      <td>martin a posted:\\n tassos papadopoulos, the gr...</td>\n",
              "      <td>0</td>\n",
              "      <td>[zzzzteana] RE: Alexandermartin a posted:\\n ta...</td>\n",
              "    </tr>\n",
              "    <tr>\n",
              "      <th>2</th>\n",
              "      <td>[zzzzteana] Moscow bomber</td>\n",
              "      <td>man threatens explosion in moscow \\n \\n thursd...</td>\n",
              "      <td>0</td>\n",
              "      <td>[zzzzteana] Moscow bomberman threatens explosi...</td>\n",
              "    </tr>\n",
              "    <tr>\n",
              "      <th>3</th>\n",
              "      <td>[IRR] Klez: The Virus That  Won't Die</td>\n",
              "      <td>klez: the virus that won't die\\n  \\n already t...</td>\n",
              "      <td>0</td>\n",
              "      <td>[IRR] Klez: The Virus That  Won't Dieklez: the...</td>\n",
              "    </tr>\n",
              "    <tr>\n",
              "      <th>4</th>\n",
              "      <td>Re: Insert signature</td>\n",
              "      <td>on wed aug 21 2002 at 15:46, ulises ponce wrot...</td>\n",
              "      <td>0</td>\n",
              "      <td>Re: Insert signatureon wed aug 21 2002 at 15:4...</td>\n",
              "    </tr>\n",
              "  </tbody>\n",
              "</table>\n",
              "</div>\n",
              "      <button class=\"colab-df-convert\" onclick=\"convertToInteractive('df-e5257135-f6a0-4958-9658-f09f98adb51d')\"\n",
              "              title=\"Convert this dataframe to an interactive table.\"\n",
              "              style=\"display:none;\">\n",
              "        \n",
              "  <svg xmlns=\"http://www.w3.org/2000/svg\" height=\"24px\"viewBox=\"0 0 24 24\"\n",
              "       width=\"24px\">\n",
              "    <path d=\"M0 0h24v24H0V0z\" fill=\"none\"/>\n",
              "    <path d=\"M18.56 5.44l.94 2.06.94-2.06 2.06-.94-2.06-.94-.94-2.06-.94 2.06-2.06.94zm-11 1L8.5 8.5l.94-2.06 2.06-.94-2.06-.94L8.5 2.5l-.94 2.06-2.06.94zm10 10l.94 2.06.94-2.06 2.06-.94-2.06-.94-.94-2.06-.94 2.06-2.06.94z\"/><path d=\"M17.41 7.96l-1.37-1.37c-.4-.4-.92-.59-1.43-.59-.52 0-1.04.2-1.43.59L10.3 9.45l-7.72 7.72c-.78.78-.78 2.05 0 2.83L4 21.41c.39.39.9.59 1.41.59.51 0 1.02-.2 1.41-.59l7.78-7.78 2.81-2.81c.8-.78.8-2.07 0-2.86zM5.41 20L4 18.59l7.72-7.72 1.47 1.35L5.41 20z\"/>\n",
              "  </svg>\n",
              "      </button>\n",
              "      \n",
              "  <style>\n",
              "    .colab-df-container {\n",
              "      display:flex;\n",
              "      flex-wrap:wrap;\n",
              "      gap: 12px;\n",
              "    }\n",
              "\n",
              "    .colab-df-convert {\n",
              "      background-color: #E8F0FE;\n",
              "      border: none;\n",
              "      border-radius: 50%;\n",
              "      cursor: pointer;\n",
              "      display: none;\n",
              "      fill: #1967D2;\n",
              "      height: 32px;\n",
              "      padding: 0 0 0 0;\n",
              "      width: 32px;\n",
              "    }\n",
              "\n",
              "    .colab-df-convert:hover {\n",
              "      background-color: #E2EBFA;\n",
              "      box-shadow: 0px 1px 2px rgba(60, 64, 67, 0.3), 0px 1px 3px 1px rgba(60, 64, 67, 0.15);\n",
              "      fill: #174EA6;\n",
              "    }\n",
              "\n",
              "    [theme=dark] .colab-df-convert {\n",
              "      background-color: #3B4455;\n",
              "      fill: #D2E3FC;\n",
              "    }\n",
              "\n",
              "    [theme=dark] .colab-df-convert:hover {\n",
              "      background-color: #434B5C;\n",
              "      box-shadow: 0px 1px 3px 1px rgba(0, 0, 0, 0.15);\n",
              "      filter: drop-shadow(0px 1px 2px rgba(0, 0, 0, 0.3));\n",
              "      fill: #FFFFFF;\n",
              "    }\n",
              "  </style>\n",
              "\n",
              "      <script>\n",
              "        const buttonEl =\n",
              "          document.querySelector('#df-e5257135-f6a0-4958-9658-f09f98adb51d button.colab-df-convert');\n",
              "        buttonEl.style.display =\n",
              "          google.colab.kernel.accessAllowed ? 'block' : 'none';\n",
              "\n",
              "        async function convertToInteractive(key) {\n",
              "          const element = document.querySelector('#df-e5257135-f6a0-4958-9658-f09f98adb51d');\n",
              "          const dataTable =\n",
              "            await google.colab.kernel.invokeFunction('convertToInteractive',\n",
              "                                                     [key], {});\n",
              "          if (!dataTable) return;\n",
              "\n",
              "          const docLinkHtml = 'Like what you see? Visit the ' +\n",
              "            '<a target=\"_blank\" href=https://colab.research.google.com/notebooks/data_table.ipynb>data table notebook</a>'\n",
              "            + ' to learn more about interactive tables.';\n",
              "          element.innerHTML = '';\n",
              "          dataTable['output_type'] = 'display_data';\n",
              "          await google.colab.output.renderOutput(dataTable, element);\n",
              "          const docLink = document.createElement('div');\n",
              "          docLink.innerHTML = docLinkHtml;\n",
              "          element.appendChild(docLink);\n",
              "        }\n",
              "      </script>\n",
              "    </div>\n",
              "  </div>\n",
              "  "
            ]
          },
          "metadata": {},
          "execution_count": 8
        }
      ]
    },
    {
      "cell_type": "code",
      "source": [
        "df['sub_mssg'].describe()"
      ],
      "metadata": {
        "colab": {
          "base_uri": "https://localhost:8080/"
        },
        "id": "UCQoypW0h8Uq",
        "outputId": "e9421423-bc42-4e5d-dc0c-3bae70985cb3"
      },
      "execution_count": 9,
      "outputs": [
        {
          "output_type": "execute_result",
          "data": {
            "text/plain": [
              "count                                                  4196\n",
              "unique                                                 3982\n",
              "top       The database that Bill Gates doesnt want you t...\n",
              "freq                                                      5\n",
              "Name: sub_mssg, dtype: object"
            ]
          },
          "metadata": {},
          "execution_count": 9
        }
      ]
    },
    {
      "cell_type": "code",
      "source": [
        "df['length']=df['sub_mssg'].apply(len)\n",
        "df.head()"
      ],
      "metadata": {
        "colab": {
          "base_uri": "https://localhost:8080/",
          "height": 206
        },
        "id": "kN4PqA6Kh9tB",
        "outputId": "3275a851-1585-43a3-c0c6-37f52c510eed"
      },
      "execution_count": 10,
      "outputs": [
        {
          "output_type": "execute_result",
          "data": {
            "text/plain": [
              "                                 subject  \\\n",
              "0               Re: New Sequences Window   \n",
              "1              [zzzzteana] RE: Alexander   \n",
              "2              [zzzzteana] Moscow bomber   \n",
              "3  [IRR] Klez: The Virus That  Won't Die   \n",
              "4                   Re: Insert signature   \n",
              "\n",
              "                                             message  label  \\\n",
              "0      date:        wed, 21 aug 2002 10:54:46 -05...      0   \n",
              "1  martin a posted:\\n tassos papadopoulos, the gr...      0   \n",
              "2  man threatens explosion in moscow \\n \\n thursd...      0   \n",
              "3  klez: the virus that won't die\\n  \\n already t...      0   \n",
              "4  on wed aug 21 2002 at 15:46, ulises ponce wrot...      0   \n",
              "\n",
              "                                            sub_mssg  length  \n",
              "0  Re: New Sequences Window    date:        wed, ...    1678  \n",
              "1  [zzzzteana] RE: Alexandermartin a posted:\\n ta...     949  \n",
              "2  [zzzzteana] Moscow bomberman threatens explosi...    1813  \n",
              "3  [IRR] Klez: The Virus That  Won't Dieklez: the...    1195  \n",
              "4  Re: Insert signatureon wed aug 21 2002 at 15:4...    1356  "
            ],
            "text/html": [
              "\n",
              "  <div id=\"df-6ce7c6c8-5e41-4abc-aa3c-26c7d869ddc7\">\n",
              "    <div class=\"colab-df-container\">\n",
              "      <div>\n",
              "<style scoped>\n",
              "    .dataframe tbody tr th:only-of-type {\n",
              "        vertical-align: middle;\n",
              "    }\n",
              "\n",
              "    .dataframe tbody tr th {\n",
              "        vertical-align: top;\n",
              "    }\n",
              "\n",
              "    .dataframe thead th {\n",
              "        text-align: right;\n",
              "    }\n",
              "</style>\n",
              "<table border=\"1\" class=\"dataframe\">\n",
              "  <thead>\n",
              "    <tr style=\"text-align: right;\">\n",
              "      <th></th>\n",
              "      <th>subject</th>\n",
              "      <th>message</th>\n",
              "      <th>label</th>\n",
              "      <th>sub_mssg</th>\n",
              "      <th>length</th>\n",
              "    </tr>\n",
              "  </thead>\n",
              "  <tbody>\n",
              "    <tr>\n",
              "      <th>0</th>\n",
              "      <td>Re: New Sequences Window</td>\n",
              "      <td>date:        wed, 21 aug 2002 10:54:46 -05...</td>\n",
              "      <td>0</td>\n",
              "      <td>Re: New Sequences Window    date:        wed, ...</td>\n",
              "      <td>1678</td>\n",
              "    </tr>\n",
              "    <tr>\n",
              "      <th>1</th>\n",
              "      <td>[zzzzteana] RE: Alexander</td>\n",
              "      <td>martin a posted:\\n tassos papadopoulos, the gr...</td>\n",
              "      <td>0</td>\n",
              "      <td>[zzzzteana] RE: Alexandermartin a posted:\\n ta...</td>\n",
              "      <td>949</td>\n",
              "    </tr>\n",
              "    <tr>\n",
              "      <th>2</th>\n",
              "      <td>[zzzzteana] Moscow bomber</td>\n",
              "      <td>man threatens explosion in moscow \\n \\n thursd...</td>\n",
              "      <td>0</td>\n",
              "      <td>[zzzzteana] Moscow bomberman threatens explosi...</td>\n",
              "      <td>1813</td>\n",
              "    </tr>\n",
              "    <tr>\n",
              "      <th>3</th>\n",
              "      <td>[IRR] Klez: The Virus That  Won't Die</td>\n",
              "      <td>klez: the virus that won't die\\n  \\n already t...</td>\n",
              "      <td>0</td>\n",
              "      <td>[IRR] Klez: The Virus That  Won't Dieklez: the...</td>\n",
              "      <td>1195</td>\n",
              "    </tr>\n",
              "    <tr>\n",
              "      <th>4</th>\n",
              "      <td>Re: Insert signature</td>\n",
              "      <td>on wed aug 21 2002 at 15:46, ulises ponce wrot...</td>\n",
              "      <td>0</td>\n",
              "      <td>Re: Insert signatureon wed aug 21 2002 at 15:4...</td>\n",
              "      <td>1356</td>\n",
              "    </tr>\n",
              "  </tbody>\n",
              "</table>\n",
              "</div>\n",
              "      <button class=\"colab-df-convert\" onclick=\"convertToInteractive('df-6ce7c6c8-5e41-4abc-aa3c-26c7d869ddc7')\"\n",
              "              title=\"Convert this dataframe to an interactive table.\"\n",
              "              style=\"display:none;\">\n",
              "        \n",
              "  <svg xmlns=\"http://www.w3.org/2000/svg\" height=\"24px\"viewBox=\"0 0 24 24\"\n",
              "       width=\"24px\">\n",
              "    <path d=\"M0 0h24v24H0V0z\" fill=\"none\"/>\n",
              "    <path d=\"M18.56 5.44l.94 2.06.94-2.06 2.06-.94-2.06-.94-.94-2.06-.94 2.06-2.06.94zm-11 1L8.5 8.5l.94-2.06 2.06-.94-2.06-.94L8.5 2.5l-.94 2.06-2.06.94zm10 10l.94 2.06.94-2.06 2.06-.94-2.06-.94-.94-2.06-.94 2.06-2.06.94z\"/><path d=\"M17.41 7.96l-1.37-1.37c-.4-.4-.92-.59-1.43-.59-.52 0-1.04.2-1.43.59L10.3 9.45l-7.72 7.72c-.78.78-.78 2.05 0 2.83L4 21.41c.39.39.9.59 1.41.59.51 0 1.02-.2 1.41-.59l7.78-7.78 2.81-2.81c.8-.78.8-2.07 0-2.86zM5.41 20L4 18.59l7.72-7.72 1.47 1.35L5.41 20z\"/>\n",
              "  </svg>\n",
              "      </button>\n",
              "      \n",
              "  <style>\n",
              "    .colab-df-container {\n",
              "      display:flex;\n",
              "      flex-wrap:wrap;\n",
              "      gap: 12px;\n",
              "    }\n",
              "\n",
              "    .colab-df-convert {\n",
              "      background-color: #E8F0FE;\n",
              "      border: none;\n",
              "      border-radius: 50%;\n",
              "      cursor: pointer;\n",
              "      display: none;\n",
              "      fill: #1967D2;\n",
              "      height: 32px;\n",
              "      padding: 0 0 0 0;\n",
              "      width: 32px;\n",
              "    }\n",
              "\n",
              "    .colab-df-convert:hover {\n",
              "      background-color: #E2EBFA;\n",
              "      box-shadow: 0px 1px 2px rgba(60, 64, 67, 0.3), 0px 1px 3px 1px rgba(60, 64, 67, 0.15);\n",
              "      fill: #174EA6;\n",
              "    }\n",
              "\n",
              "    [theme=dark] .colab-df-convert {\n",
              "      background-color: #3B4455;\n",
              "      fill: #D2E3FC;\n",
              "    }\n",
              "\n",
              "    [theme=dark] .colab-df-convert:hover {\n",
              "      background-color: #434B5C;\n",
              "      box-shadow: 0px 1px 3px 1px rgba(0, 0, 0, 0.15);\n",
              "      filter: drop-shadow(0px 1px 2px rgba(0, 0, 0, 0.3));\n",
              "      fill: #FFFFFF;\n",
              "    }\n",
              "  </style>\n",
              "\n",
              "      <script>\n",
              "        const buttonEl =\n",
              "          document.querySelector('#df-6ce7c6c8-5e41-4abc-aa3c-26c7d869ddc7 button.colab-df-convert');\n",
              "        buttonEl.style.display =\n",
              "          google.colab.kernel.accessAllowed ? 'block' : 'none';\n",
              "\n",
              "        async function convertToInteractive(key) {\n",
              "          const element = document.querySelector('#df-6ce7c6c8-5e41-4abc-aa3c-26c7d869ddc7');\n",
              "          const dataTable =\n",
              "            await google.colab.kernel.invokeFunction('convertToInteractive',\n",
              "                                                     [key], {});\n",
              "          if (!dataTable) return;\n",
              "\n",
              "          const docLinkHtml = 'Like what you see? Visit the ' +\n",
              "            '<a target=\"_blank\" href=https://colab.research.google.com/notebooks/data_table.ipynb>data table notebook</a>'\n",
              "            + ' to learn more about interactive tables.';\n",
              "          element.innerHTML = '';\n",
              "          dataTable['output_type'] = 'display_data';\n",
              "          await google.colab.output.renderOutput(dataTable, element);\n",
              "          const docLink = document.createElement('div');\n",
              "          docLink.innerHTML = docLinkHtml;\n",
              "          element.appendChild(docLink);\n",
              "        }\n",
              "      </script>\n",
              "    </div>\n",
              "  </div>\n",
              "  "
            ]
          },
          "metadata": {},
          "execution_count": 10
        }
      ]
    },
    {
      "cell_type": "code",
      "source": [
        "df.drop('subject',axis=1,inplace=True)"
      ],
      "metadata": {
        "id": "TiTeuk6Ih-yW"
      },
      "execution_count": 11,
      "outputs": []
    },
    {
      "cell_type": "code",
      "source": [
        "df.head()"
      ],
      "metadata": {
        "colab": {
          "base_uri": "https://localhost:8080/",
          "height": 206
        },
        "id": "d0jLddcriApG",
        "outputId": "6abc6a51-7a6b-48d9-9afc-3c104497781c"
      },
      "execution_count": 12,
      "outputs": [
        {
          "output_type": "execute_result",
          "data": {
            "text/plain": [
              "                                             message  label  \\\n",
              "0      date:        wed, 21 aug 2002 10:54:46 -05...      0   \n",
              "1  martin a posted:\\n tassos papadopoulos, the gr...      0   \n",
              "2  man threatens explosion in moscow \\n \\n thursd...      0   \n",
              "3  klez: the virus that won't die\\n  \\n already t...      0   \n",
              "4  on wed aug 21 2002 at 15:46, ulises ponce wrot...      0   \n",
              "\n",
              "                                            sub_mssg  length  \n",
              "0  Re: New Sequences Window    date:        wed, ...    1678  \n",
              "1  [zzzzteana] RE: Alexandermartin a posted:\\n ta...     949  \n",
              "2  [zzzzteana] Moscow bomberman threatens explosi...    1813  \n",
              "3  [IRR] Klez: The Virus That  Won't Dieklez: the...    1195  \n",
              "4  Re: Insert signatureon wed aug 21 2002 at 15:4...    1356  "
            ],
            "text/html": [
              "\n",
              "  <div id=\"df-725d984a-b31c-4550-944b-cd8fb5bc01b7\">\n",
              "    <div class=\"colab-df-container\">\n",
              "      <div>\n",
              "<style scoped>\n",
              "    .dataframe tbody tr th:only-of-type {\n",
              "        vertical-align: middle;\n",
              "    }\n",
              "\n",
              "    .dataframe tbody tr th {\n",
              "        vertical-align: top;\n",
              "    }\n",
              "\n",
              "    .dataframe thead th {\n",
              "        text-align: right;\n",
              "    }\n",
              "</style>\n",
              "<table border=\"1\" class=\"dataframe\">\n",
              "  <thead>\n",
              "    <tr style=\"text-align: right;\">\n",
              "      <th></th>\n",
              "      <th>message</th>\n",
              "      <th>label</th>\n",
              "      <th>sub_mssg</th>\n",
              "      <th>length</th>\n",
              "    </tr>\n",
              "  </thead>\n",
              "  <tbody>\n",
              "    <tr>\n",
              "      <th>0</th>\n",
              "      <td>date:        wed, 21 aug 2002 10:54:46 -05...</td>\n",
              "      <td>0</td>\n",
              "      <td>Re: New Sequences Window    date:        wed, ...</td>\n",
              "      <td>1678</td>\n",
              "    </tr>\n",
              "    <tr>\n",
              "      <th>1</th>\n",
              "      <td>martin a posted:\\n tassos papadopoulos, the gr...</td>\n",
              "      <td>0</td>\n",
              "      <td>[zzzzteana] RE: Alexandermartin a posted:\\n ta...</td>\n",
              "      <td>949</td>\n",
              "    </tr>\n",
              "    <tr>\n",
              "      <th>2</th>\n",
              "      <td>man threatens explosion in moscow \\n \\n thursd...</td>\n",
              "      <td>0</td>\n",
              "      <td>[zzzzteana] Moscow bomberman threatens explosi...</td>\n",
              "      <td>1813</td>\n",
              "    </tr>\n",
              "    <tr>\n",
              "      <th>3</th>\n",
              "      <td>klez: the virus that won't die\\n  \\n already t...</td>\n",
              "      <td>0</td>\n",
              "      <td>[IRR] Klez: The Virus That  Won't Dieklez: the...</td>\n",
              "      <td>1195</td>\n",
              "    </tr>\n",
              "    <tr>\n",
              "      <th>4</th>\n",
              "      <td>on wed aug 21 2002 at 15:46, ulises ponce wrot...</td>\n",
              "      <td>0</td>\n",
              "      <td>Re: Insert signatureon wed aug 21 2002 at 15:4...</td>\n",
              "      <td>1356</td>\n",
              "    </tr>\n",
              "  </tbody>\n",
              "</table>\n",
              "</div>\n",
              "      <button class=\"colab-df-convert\" onclick=\"convertToInteractive('df-725d984a-b31c-4550-944b-cd8fb5bc01b7')\"\n",
              "              title=\"Convert this dataframe to an interactive table.\"\n",
              "              style=\"display:none;\">\n",
              "        \n",
              "  <svg xmlns=\"http://www.w3.org/2000/svg\" height=\"24px\"viewBox=\"0 0 24 24\"\n",
              "       width=\"24px\">\n",
              "    <path d=\"M0 0h24v24H0V0z\" fill=\"none\"/>\n",
              "    <path d=\"M18.56 5.44l.94 2.06.94-2.06 2.06-.94-2.06-.94-.94-2.06-.94 2.06-2.06.94zm-11 1L8.5 8.5l.94-2.06 2.06-.94-2.06-.94L8.5 2.5l-.94 2.06-2.06.94zm10 10l.94 2.06.94-2.06 2.06-.94-2.06-.94-.94-2.06-.94 2.06-2.06.94z\"/><path d=\"M17.41 7.96l-1.37-1.37c-.4-.4-.92-.59-1.43-.59-.52 0-1.04.2-1.43.59L10.3 9.45l-7.72 7.72c-.78.78-.78 2.05 0 2.83L4 21.41c.39.39.9.59 1.41.59.51 0 1.02-.2 1.41-.59l7.78-7.78 2.81-2.81c.8-.78.8-2.07 0-2.86zM5.41 20L4 18.59l7.72-7.72 1.47 1.35L5.41 20z\"/>\n",
              "  </svg>\n",
              "      </button>\n",
              "      \n",
              "  <style>\n",
              "    .colab-df-container {\n",
              "      display:flex;\n",
              "      flex-wrap:wrap;\n",
              "      gap: 12px;\n",
              "    }\n",
              "\n",
              "    .colab-df-convert {\n",
              "      background-color: #E8F0FE;\n",
              "      border: none;\n",
              "      border-radius: 50%;\n",
              "      cursor: pointer;\n",
              "      display: none;\n",
              "      fill: #1967D2;\n",
              "      height: 32px;\n",
              "      padding: 0 0 0 0;\n",
              "      width: 32px;\n",
              "    }\n",
              "\n",
              "    .colab-df-convert:hover {\n",
              "      background-color: #E2EBFA;\n",
              "      box-shadow: 0px 1px 2px rgba(60, 64, 67, 0.3), 0px 1px 3px 1px rgba(60, 64, 67, 0.15);\n",
              "      fill: #174EA6;\n",
              "    }\n",
              "\n",
              "    [theme=dark] .colab-df-convert {\n",
              "      background-color: #3B4455;\n",
              "      fill: #D2E3FC;\n",
              "    }\n",
              "\n",
              "    [theme=dark] .colab-df-convert:hover {\n",
              "      background-color: #434B5C;\n",
              "      box-shadow: 0px 1px 3px 1px rgba(0, 0, 0, 0.15);\n",
              "      filter: drop-shadow(0px 1px 2px rgba(0, 0, 0, 0.3));\n",
              "      fill: #FFFFFF;\n",
              "    }\n",
              "  </style>\n",
              "\n",
              "      <script>\n",
              "        const buttonEl =\n",
              "          document.querySelector('#df-725d984a-b31c-4550-944b-cd8fb5bc01b7 button.colab-df-convert');\n",
              "        buttonEl.style.display =\n",
              "          google.colab.kernel.accessAllowed ? 'block' : 'none';\n",
              "\n",
              "        async function convertToInteractive(key) {\n",
              "          const element = document.querySelector('#df-725d984a-b31c-4550-944b-cd8fb5bc01b7');\n",
              "          const dataTable =\n",
              "            await google.colab.kernel.invokeFunction('convertToInteractive',\n",
              "                                                     [key], {});\n",
              "          if (!dataTable) return;\n",
              "\n",
              "          const docLinkHtml = 'Like what you see? Visit the ' +\n",
              "            '<a target=\"_blank\" href=https://colab.research.google.com/notebooks/data_table.ipynb>data table notebook</a>'\n",
              "            + ' to learn more about interactive tables.';\n",
              "          element.innerHTML = '';\n",
              "          dataTable['output_type'] = 'display_data';\n",
              "          await google.colab.output.renderOutput(dataTable, element);\n",
              "          const docLink = document.createElement('div');\n",
              "          docLink.innerHTML = docLinkHtml;\n",
              "          element.appendChild(docLink);\n",
              "        }\n",
              "      </script>\n",
              "    </div>\n",
              "  </div>\n",
              "  "
            ]
          },
          "metadata": {},
          "execution_count": 12
        }
      ]
    },
    {
      "cell_type": "code",
      "source": [
        "lb=df['label'].value_counts().index.tolist()\n",
        "val=df['label'].value_counts().values.tolist()\n",
        "exp=(0.025,0)\n",
        "clr=('orange','blue')\n",
        "plt.figure(figsize=(10,5),dpi=140)\n",
        "plt.pie(x=val,explode=exp,labels=lb,colors=clr,autopct='%2.0f%%',pctdistance=0.5, shadow=True,radius=0.9)\n",
        "plt.legend([\"0 = NO SPAM\",'1 = SPAM'])\n",
        "plt.show()"
      ],
      "metadata": {
        "colab": {
          "base_uri": "https://localhost:8080/",
          "height": 573
        },
        "id": "9VWHgBMAiCsZ",
        "outputId": "3d60e815-c126-437b-a2f7-8842e884149d"
      },
      "execution_count": 13,
      "outputs": [
        {
          "output_type": "display_data",
          "data": {
            "text/plain": [
              "<Figure size 1400x700 with 1 Axes>"
            ],
            "image/png": "[encoded data removed]"
          },
          "metadata": {}
        }
      ]
    },
    {
      "cell_type": "code",
      "source": [
        "df['message'][0]"
      ],
      "metadata": {
        "colab": {
          "base_uri": "https://localhost:8080/",
          "height": 139
        },
        "id": "4vMhkXzCiE0h",
        "outputId": "f3142077-72c4-4018-bbc6-ab1abe44bd46"
      },
      "execution_count": 14,
      "outputs": [
        {
          "output_type": "execute_result",
          "data": {
            "text/plain": [
              "'    date:        wed, 21 aug 2002 10:54:46 -0500\\n     from:        chris garrigues <cwg-dated-1030377287.06fa6d@deepeddy.com>\\n     message-id:  <1029945287.4797.tmda@deepeddy.vircio.com>\\n \\n \\n   || i can\\'t reproduce this error.\\n \\n for me it is very repeatable... (like every time, without fail).\\n \\n this is the debug log of the pick happening ...\\n \\n 18:19:03 pick_it {exec pick +inbox -list -lbrace -lbrace -subject ftp -rbrace -rbrace} {4852-4852 -sequence mercury}\\n 18:19:03 exec pick +inbox -list -lbrace -lbrace -subject ftp -rbrace -rbrace 4852-4852 -sequence mercury\\n 18:19:04 ftoc_pickmsgs {{1 hit}}\\n 18:19:04 marking 1 hits\\n 18:19:04 tkerror: syntax error in expression \"int ...\\n \\n note, if i run the pick command by hand ...\\n \\n delta$ pick +inbox -list -lbrace -lbrace -subject ftp -rbrace -rbrace  4852-4852 -sequence mercury\\n 1 hit\\n \\n that\\'s where the \"1 hit\" comes from (obviously).  the version of nmh i\\'m\\n using is ...\\n \\n delta$ pick -version\\n pick -- nmh-1.0.4 [compiled on fuchsia.cs.mu.oz.au at sun mar 17 14:55:56 ict 2002]\\n \\n and the relevant part of my .mh_profile ...\\n \\n delta$ mhparam pick\\n -seq sel -list\\n \\n \\n since the pick command works, the sequence (actually, both of them, the\\n one that\\'s explicit on the command line, from the search popup, and the\\n one that comes from .mh_profile) do get created.\\n \\n kre\\n \\n ps: this is still using the version of the code form a day ago, i haven\\'t\\n been able to reach the cvs repository today (local routing issue i think).\\n \\n \\n \\n _______________________________________________\\n exmh-workers mailing list\\n exmh-workers@redhat.com\\n https://listman.redhat.com/mailman/listinfo/exmh-workers\\n \\n'"
            ],
            "application/vnd.google.colaboratory.intrinsic+json": {
              "type": "string"
            }
          },
          "metadata": {},
          "execution_count": 14
        }
      ]
    },
    {
      "cell_type": "code",
      "source": [
        "import re"
      ],
      "metadata": {
        "id": "J9zkxvXAiGlv"
      },
      "execution_count": 15,
      "outputs": []
    },
    {
      "cell_type": "code",
      "source": [
        "def decontact(phrase):\n",
        "    # specific\n",
        "    phrase = re.sub(r\"won't\", \"will not\", phrase)\n",
        "    phrase = re.sub(r\"can\\'t\", \"can not\", phrase)\n",
        "\n",
        "    # general\n",
        "    phrase = re.sub(r\"n\\'t\", \" not\", phrase)\n",
        "    phrase = re.sub(r\"\\'re\", \" are\", phrase)\n",
        "    phrase = re.sub(r\"\\'s\", \" is\", phrase)\n",
        "    phrase = re.sub(r\"\\'d\", \" would\", phrase)\n",
        "    phrase = re.sub(r\"\\'ll\", \" will\", phrase)\n",
        "    phrase = re.sub(r\"\\'t\", \" not\", phrase)\n",
        "    phrase = re.sub(r\"\\'ve\", \" have\", phrase)\n",
        "    phrase = re.sub(r\"\\'m\", \" am\", phrase)\n",
        "    return phrase"
      ],
      "metadata": {
        "id": "W6tts-DTiKQR"
      },
      "execution_count": 16,
      "outputs": []
    },
    {
      "cell_type": "code",
      "source": [
        "mssg=decontact(df['message'][70])\n",
        "mssg"
      ],
      "metadata": {
        "colab": {
          "base_uri": "https://localhost:8080/",
          "height": 139
        },
        "id": "4358EhZUiLzB",
        "outputId": "d9fcc5f0-8b90-48b6-eca8-0575fc538ccc"
      },
      "execution_count": 17,
      "outputs": [
        {
          "output_type": "execute_result",
          "data": {
            "text/plain": [
              "'>>>>> \"e\" == eirikur hallgrimsson <eh@mad.scientist.com> writes:\\n \\n     e> gary is news service at teledyn.com has an article on internet\\n     e> saturation.  let me ask you....if you were on a rock in the\\n     e> middle of the atlantic, mostly in the dark for half the year,\\n     e> would not *you* like a bit of internet distraction?  they have\\n     e> already done the obvious and fiber-ringed the island.\\n \\n there is lots of similar places.  saskatchewan, for example, once\\n shared with iceland the distinction of most telephone connections per\\n capita, and for a long time shared the internet penetration lead with\\n iceland (sask is a land-locked massive expanse of ultra-flat dust with\\n only two rivers and farm sizes measured in the\\n hundred-thousand-hectares).\\n \\n it is still curious iceland leads.  maybe there is just a deep cultural\\n curiousity and fascination with watching advertising from the rest of\\n the world. maybe they are downloading bjork videos.\\n \\n -- \\n gary lawrence murphy <garym@teledyn.com> teledynamics communications inc\\n  business advantage through community software : http://www.teledyn.com\\n \"computers are useless.  they can only give you answers.\"(pablo picasso)\\n \\n \\n'"
            ],
            "application/vnd.google.colaboratory.intrinsic+json": {
              "type": "string"
            }
          },
          "metadata": {},
          "execution_count": 17
        }
      ]
    },
    {
      "cell_type": "code",
      "source": [
        "df['sub_mssg']=df['sub_mssg'].str.replace(r'\\d+(\\.\\d+)?', 'numbers')\n",
        "df['sub_mssg'][0]"
      ],
      "metadata": {
        "colab": {
          "base_uri": "https://localhost:8080/",
          "height": 139
        },
        "id": "IYYKGXMeiM4c",
        "outputId": "2f4ae13b-2e38-48dd-bad7-1da12035c5a4"
      },
      "execution_count": 18,
      "outputs": [
        {
          "output_type": "execute_result",
          "data": {
            "text/plain": [
              "'Re: New Sequences Window    date:        wed, numbers aug numbers numbers:numbers:numbers -numbers\\n     from:        chris garrigues <cwg-dated-numbersfanumbersd@deepeddy.com>\\n     message-id:  <numbers.tmda@deepeddy.vircio.com>\\n \\n \\n   || i can\\'t reproduce this error.\\n \\n for me it is very repeatable... (like every time, without fail).\\n \\n this is the debug log of the pick happening ...\\n \\n numbers:numbers:numbers pick_it {exec pick +inbox -list -lbrace -lbrace -subject ftp -rbrace -rbrace} {numbers-numbers -sequence mercury}\\n numbers:numbers:numbers exec pick +inbox -list -lbrace -lbrace -subject ftp -rbrace -rbrace numbers-numbers -sequence mercury\\n numbers:numbers:numbers ftoc_pickmsgs {{numbers hit}}\\n numbers:numbers:numbers marking numbers hits\\n numbers:numbers:numbers tkerror: syntax error in expression \"int ...\\n \\n note, if i run the pick command by hand ...\\n \\n delta$ pick +inbox -list -lbrace -lbrace -subject ftp -rbrace -rbrace  numbers-numbers -sequence mercury\\n numbers hit\\n \\n that\\'s where the \"numbers hit\" comes from (obviously).  the version of nmh i\\'m\\n using is ...\\n \\n delta$ pick -version\\n pick -- nmh-numbers.numbers [compiled on fuchsia.cs.mu.oz.au at sun mar numbers numbers:numbers:numbers ict numbers]\\n \\n and the relevant part of my .mh_profile ...\\n \\n delta$ mhparam pick\\n -seq sel -list\\n \\n \\n since the pick command works, the sequence (actually, both of them, the\\n one that\\'s explicit on the command line, from the search popup, and the\\n one that comes from .mh_profile) do get created.\\n \\n kre\\n \\n ps: this is still using the version of the code form a day ago, i haven\\'t\\n been able to reach the cvs repository today (local routing issue i think).\\n \\n \\n \\n _______________________________________________\\n exmh-workers mailing list\\n exmh-workers@redhat.com\\n https://listman.redhat.com/mailman/listinfo/exmh-workers\\n \\n'"
            ],
            "application/vnd.google.colaboratory.intrinsic+json": {
              "type": "string"
            }
          },
          "metadata": {},
          "execution_count": 18
        }
      ]
    },
    {
      "cell_type": "code",
      "source": [
        "#CONVRTING EVERYTHING TO LOWERCASE\n",
        "df['sub_mssg']=df['sub_mssg'].str.lower()\n",
        "#REPLACING NEXT LINES BY 'WHITE SPACE'\n",
        "df['sub_mssg']=df['sub_mssg'].str.replace(r'\\n',\" \") \n",
        "# REPLACING EMAIL IDs BY 'MAILID'\n",
        "df['sub_mssg']=df['sub_mssg'].str.replace(r'^.+@[^\\.].*\\.[a-z]{2,}$','MailID')\n",
        "# REPLACING URLs  BY 'Links'\n",
        "df['sub_mssg']=df['sub_mssg'].str.replace(r'^http\\://[a-zA-Z0-9\\-\\.]+\\.[a-zA-Z]{2,3}(/\\S*)?$','Links')\n",
        "# REPLACING CURRENCY SIGNS BY 'MONEY'\n",
        "df['sub_mssg']=df['sub_mssg'].str.replace(r'£|\\$', 'Money')\n",
        "# REPLACING LARGE WHITE SPACE BY SINGLE WHITE SPACE\n",
        "df['sub_mssg']=df['sub_mssg'].str.replace(r'\\s+', ' ')\n",
        "\n",
        "# REPLACING LEADING AND TRAILING WHITE SPACE BY SINGLE WHITE SPACE\n",
        "df['sub_mssg']=df['sub_mssg'].str.replace(r'^\\s+|\\s+?$', '')\n",
        "#REPLACING CONTACT NUMBERS\n",
        "df['sub_mssg']=df['sub_mssg'].str.replace(r'^\\(?[\\d]{3}\\)?[\\s-]?[\\d]{3}[\\s-]?[\\d]{4}$','contact number')\n",
        "#REPLACING SPECIAL CHARACTERS  BY WHITE SPACE \n",
        "df['sub_mssg']=df['sub_mssg'].str.replace(r\"[^a-zA-Z0-9]+\", \" \")"
      ],
      "metadata": {
        "id": "-sRrdDZtiOMk"
      },
      "execution_count": 19,
      "outputs": []
    },
    {
      "cell_type": "code",
      "source": [
        "#CONVRTING EVERYTHING TO LOWERCASE\n",
        "df['message']=df['message'].str.lower()\n",
        "#REPLACING NEXT LINES BY 'WHITE SPACE'\n",
        "df['message']=df['message'].str.replace(r'\\n',\" \") \n",
        "# REPLACING EMAIL IDs BY 'MAILID'\n",
        "df['message']=df['message'].str.replace(r'^.+@[^\\.].*\\.[a-z]{2,}$','MailID')\n",
        "# REPLACING URLs  BY 'Links'\n",
        "df['message']=df['message'].str.replace(r'^http\\://[a-zA-Z0-9\\-\\.]+\\.[a-zA-Z]{2,3}(/\\S*)?$','Links')\n",
        "# REPLACING CURRENCY SIGNS BY 'MONEY'\n",
        "df['message']=df['message'].str.replace(r'£|\\$', 'Money')\n",
        "# REPLACING LARGE WHITE SPACE BY SINGLE WHITE SPACE\n",
        "df['message']=df['message'].str.replace(r'\\s+', ' ')\n",
        "\n",
        "# REPLACING LEADING AND TRAILING WHITE SPACE BY SINGLE WHITE SPACE\n",
        "df['message']=df['message'].str.replace(r'^\\s+|\\s+?$', '')\n",
        "#REPLACING CONTACT NUMBERS\n",
        "df['message']=df['message'].str.replace(r'^\\(?[\\d]{3}\\)?[\\s-]?[\\d]{3}[\\s-]?[\\d]{4}$','contact number')\n",
        "#REPLACING SPECIAL CHARACTERS  BY WHITE SPACE \n",
        "df['message']=df['message'].str.replace(r\"[^a-zA-Z0-9]+\", \" \")"
      ],
      "metadata": {
        "id": "kDwJutIniRqL"
      },
      "execution_count": 20,
      "outputs": []
    },
    {
      "cell_type": "code",
      "source": [
        "df['sub_mssg'][0]"
      ],
      "metadata": {
        "colab": {
          "base_uri": "https://localhost:8080/",
          "height": 139
        },
        "id": "uqD_hhL8iTTA",
        "outputId": "d482a667-3e8f-44b1-f7d4-70bf0ea1e202"
      },
      "execution_count": 21,
      "outputs": [
        {
          "output_type": "execute_result",
          "data": {
            "text/plain": [
              "'re new sequences window date wed numbers aug numbers numbers numbers numbers numbers from chris garrigues cwg dated numbersfanumbersd deepeddy com message id numbers tmda deepeddy vircio com i can t reproduce this error for me it is very repeatable like every time without fail this is the debug log of the pick happening numbers numbers numbers pick it exec pick inbox list lbrace lbrace subject ftp rbrace rbrace numbers numbers sequence mercury numbers numbers numbers exec pick inbox list lbrace lbrace subject ftp rbrace rbrace numbers numbers sequence mercury numbers numbers numbers ftoc pickmsgs numbers hit numbers numbers numbers marking numbers hits numbers numbers numbers tkerror syntax error in expression int note if i run the pick command by hand deltaMoney pick inbox list lbrace lbrace subject ftp rbrace rbrace numbers numbers sequence mercury numbers hit that s where the numbers hit comes from obviously the version of nmh i m using is deltaMoney pick version pick nmh numbers numbers compiled on fuchsia cs mu oz au at sun mar numbers numbers numbers numbers ict numbers and the relevant part of my mh profile deltaMoney mhparam pick seq sel list since the pick command works the sequence actually both of them the one that s explicit on the command line from the search popup and the one that comes from mh profile do get created kre ps this is still using the version of the code form a day ago i haven t been able to reach the cvs repository today local routing issue i think exmh workers mailing list exmh workers redhat com https listman redhat com mailman listinfo exmh workers'"
            ],
            "application/vnd.google.colaboratory.intrinsic+json": {
              "type": "string"
            }
          },
          "metadata": {},
          "execution_count": 21
        }
      ]
    },
    {
      "cell_type": "code",
      "source": [
        "df.head()"
      ],
      "metadata": {
        "colab": {
          "base_uri": "https://localhost:8080/",
          "height": 206
        },
        "id": "ZAwP3Ng4iUXG",
        "outputId": "1572b443-16ec-4988-f813-f033a63dfc39"
      },
      "execution_count": 22,
      "outputs": [
        {
          "output_type": "execute_result",
          "data": {
            "text/plain": [
              "                                             message  label  \\\n",
              "0  date wed 21 aug 2002 10 54 46 0500 from chris ...      0   \n",
              "1  martin a posted tassos papadopoulos the greek ...      0   \n",
              "2  man threatens explosion in moscow thursday aug...      0   \n",
              "3  klez the virus that won t die already the most...      0   \n",
              "4  on wed aug 21 2002 at 15 46 ulises ponce wrote...      0   \n",
              "\n",
              "                                            sub_mssg  length  \n",
              "0  re new sequences window date wed numbers aug n...    1678  \n",
              "1   zzzzteana re alexandermartin a posted tassos ...     949  \n",
              "2   zzzzteana moscow bomberman threatens explosio...    1813  \n",
              "3   irr klez the virus that won t dieklez the vir...    1195  \n",
              "4  re insert signatureon wed aug numbers numbers ...    1356  "
            ],
            "text/html": [
              "\n",
              "  <div id=\"df-59ed7fdd-ff7d-4547-8c4c-b73c987da6f3\">\n",
              "    <div class=\"colab-df-container\">\n",
              "      <div>\n",
              "<style scoped>\n",
              "    .dataframe tbody tr th:only-of-type {\n",
              "        vertical-align: middle;\n",
              "    }\n",
              "\n",
              "    .dataframe tbody tr th {\n",
              "        vertical-align: top;\n",
              "    }\n",
              "\n",
              "    .dataframe thead th {\n",
              "        text-align: right;\n",
              "    }\n",
              "</style>\n",
              "<table border=\"1\" class=\"dataframe\">\n",
              "  <thead>\n",
              "    <tr style=\"text-align: right;\">\n",
              "      <th></th>\n",
              "      <th>message</th>\n",
              "      <th>label</th>\n",
              "      <th>sub_mssg</th>\n",
              "      <th>length</th>\n",
              "    </tr>\n",
              "  </thead>\n",
              "  <tbody>\n",
              "    <tr>\n",
              "      <th>0</th>\n",
              "      <td>date wed 21 aug 2002 10 54 46 0500 from chris ...</td>\n",
              "      <td>0</td>\n",
              "      <td>re new sequences window date wed numbers aug n...</td>\n",
              "      <td>1678</td>\n",
              "    </tr>\n",
              "    <tr>\n",
              "      <th>1</th>\n",
              "      <td>martin a posted tassos papadopoulos the greek ...</td>\n",
              "      <td>0</td>\n",
              "      <td>zzzzteana re alexandermartin a posted tassos ...</td>\n",
              "      <td>949</td>\n",
              "    </tr>\n",
              "    <tr>\n",
              "      <th>2</th>\n",
              "      <td>man threatens explosion in moscow thursday aug...</td>\n",
              "      <td>0</td>\n",
              "      <td>zzzzteana moscow bomberman threatens explosio...</td>\n",
              "      <td>1813</td>\n",
              "    </tr>\n",
              "    <tr>\n",
              "      <th>3</th>\n",
              "      <td>klez the virus that won t die already the most...</td>\n",
              "      <td>0</td>\n",
              "      <td>irr klez the virus that won t dieklez the vir...</td>\n",
              "      <td>1195</td>\n",
              "    </tr>\n",
              "    <tr>\n",
              "      <th>4</th>\n",
              "      <td>on wed aug 21 2002 at 15 46 ulises ponce wrote...</td>\n",
              "      <td>0</td>\n",
              "      <td>re insert signatureon wed aug numbers numbers ...</td>\n",
              "      <td>1356</td>\n",
              "    </tr>\n",
              "  </tbody>\n",
              "</table>\n",
              "</div>\n",
              "      <button class=\"colab-df-convert\" onclick=\"convertToInteractive('df-59ed7fdd-ff7d-4547-8c4c-b73c987da6f3')\"\n",
              "              title=\"Convert this dataframe to an interactive table.\"\n",
              "              style=\"display:none;\">\n",
              "        \n",
              "  <svg xmlns=\"http://www.w3.org/2000/svg\" height=\"24px\"viewBox=\"0 0 24 24\"\n",
              "       width=\"24px\">\n",
              "    <path d=\"M0 0h24v24H0V0z\" fill=\"none\"/>\n",
              "    <path d=\"M18.56 5.44l.94 2.06.94-2.06 2.06-.94-2.06-.94-.94-2.06-.94 2.06-2.06.94zm-11 1L8.5 8.5l.94-2.06 2.06-.94-2.06-.94L8.5 2.5l-.94 2.06-2.06.94zm10 10l.94 2.06.94-2.06 2.06-.94-2.06-.94-.94-2.06-.94 2.06-2.06.94z\"/><path d=\"M17.41 7.96l-1.37-1.37c-.4-.4-.92-.59-1.43-.59-.52 0-1.04.2-1.43.59L10.3 9.45l-7.72 7.72c-.78.78-.78 2.05 0 2.83L4 21.41c.39.39.9.59 1.41.59.51 0 1.02-.2 1.41-.59l7.78-7.78 2.81-2.81c.8-.78.8-2.07 0-2.86zM5.41 20L4 18.59l7.72-7.72 1.47 1.35L5.41 20z\"/>\n",
              "  </svg>\n",
              "      </button>\n",
              "      \n",
              "  <style>\n",
              "    .colab-df-container {\n",
              "      display:flex;\n",
              "      flex-wrap:wrap;\n",
              "      gap: 12px;\n",
              "    }\n",
              "\n",
              "    .colab-df-convert {\n",
              "      background-color: #E8F0FE;\n",
              "      border: none;\n",
              "      border-radius: 50%;\n",
              "      cursor: pointer;\n",
              "      display: none;\n",
              "      fill: #1967D2;\n",
              "      height: 32px;\n",
              "      padding: 0 0 0 0;\n",
              "      width: 32px;\n",
              "    }\n",
              "\n",
              "    .colab-df-convert:hover {\n",
              "      background-color: #E2EBFA;\n",
              "      box-shadow: 0px 1px 2px rgba(60, 64, 67, 0.3), 0px 1px 3px 1px rgba(60, 64, 67, 0.15);\n",
              "      fill: #174EA6;\n",
              "    }\n",
              "\n",
              "    [theme=dark] .colab-df-convert {\n",
              "      background-color: #3B4455;\n",
              "      fill: #D2E3FC;\n",
              "    }\n",
              "\n",
              "    [theme=dark] .colab-df-convert:hover {\n",
              "      background-color: #434B5C;\n",
              "      box-shadow: 0px 1px 3px 1px rgba(0, 0, 0, 0.15);\n",
              "      filter: drop-shadow(0px 1px 2px rgba(0, 0, 0, 0.3));\n",
              "      fill: #FFFFFF;\n",
              "    }\n",
              "  </style>\n",
              "\n",
              "      <script>\n",
              "        const buttonEl =\n",
              "          document.querySelector('#df-59ed7fdd-ff7d-4547-8c4c-b73c987da6f3 button.colab-df-convert');\n",
              "        buttonEl.style.display =\n",
              "          google.colab.kernel.accessAllowed ? 'block' : 'none';\n",
              "\n",
              "        async function convertToInteractive(key) {\n",
              "          const element = document.querySelector('#df-59ed7fdd-ff7d-4547-8c4c-b73c987da6f3');\n",
              "          const dataTable =\n",
              "            await google.colab.kernel.invokeFunction('convertToInteractive',\n",
              "                                                     [key], {});\n",
              "          if (!dataTable) return;\n",
              "\n",
              "          const docLinkHtml = 'Like what you see? Visit the ' +\n",
              "            '<a target=\"_blank\" href=https://colab.research.google.com/notebooks/data_table.ipynb>data table notebook</a>'\n",
              "            + ' to learn more about interactive tables.';\n",
              "          element.innerHTML = '';\n",
              "          dataTable['output_type'] = 'display_data';\n",
              "          await google.colab.output.renderOutput(dataTable, element);\n",
              "          const docLink = document.createElement('div');\n",
              "          docLink.innerHTML = docLinkHtml;\n",
              "          element.appendChild(docLink);\n",
              "        }\n",
              "      </script>\n",
              "    </div>\n",
              "  </div>\n",
              "  "
            ]
          },
          "metadata": {},
          "execution_count": 22
        }
      ]
    },
    {
      "cell_type": "code",
      "source": [
        "import nltk\n",
        "nltk.download('stopwords')"
      ],
      "metadata": {
        "colab": {
          "base_uri": "https://localhost:8080/"
        },
        "id": "qdxTIlDBjT8E",
        "outputId": "d4dcac79-62b5-4d23-ffc6-f36b14803dc2"
      },
      "execution_count": 23,
      "outputs": [
        {
          "output_type": "stream",
          "name": "stderr",
          "text": [
            "[nltk_data] Downloading package stopwords to /root/nltk_data...\n",
            "[nltk_data]   Unzipping corpora/stopwords.zip.\n"
          ]
        },
        {
          "output_type": "execute_result",
          "data": {
            "text/plain": [
              "True"
            ]
          },
          "metadata": {},
          "execution_count": 23
        }
      ]
    },
    {
      "cell_type": "code",
      "source": [
        "from tqdm import tqdm\n",
        "from nltk.corpus import stopwords\n",
        "from nltk.tokenize import word_tokenize, sent_tokenize\n",
        "stop = stopwords.words('english')\n",
        "df['Cleaned_Text'] = df['sub_mssg'].apply(lambda x: ' '.join([word for word in x.split() if word not in (stop)]))"
      ],
      "metadata": {
        "id": "lm71ZuA7iVnJ"
      },
      "execution_count": 24,
      "outputs": []
    },
    {
      "cell_type": "code",
      "source": [
        "df.head()"
      ],
      "metadata": {
        "colab": {
          "base_uri": "https://localhost:8080/",
          "height": 206
        },
        "id": "k6RCyWuDiXVa",
        "outputId": "98d5cb44-8734-4fa7-87e8-64291c45bdda"
      },
      "execution_count": 25,
      "outputs": [
        {
          "output_type": "execute_result",
          "data": {
            "text/plain": [
              "                                             message  label  \\\n",
              "0  date wed 21 aug 2002 10 54 46 0500 from chris ...      0   \n",
              "1  martin a posted tassos papadopoulos the greek ...      0   \n",
              "2  man threatens explosion in moscow thursday aug...      0   \n",
              "3  klez the virus that won t die already the most...      0   \n",
              "4  on wed aug 21 2002 at 15 46 ulises ponce wrote...      0   \n",
              "\n",
              "                                            sub_mssg  length  \\\n",
              "0  re new sequences window date wed numbers aug n...    1678   \n",
              "1   zzzzteana re alexandermartin a posted tassos ...     949   \n",
              "2   zzzzteana moscow bomberman threatens explosio...    1813   \n",
              "3   irr klez the virus that won t dieklez the vir...    1195   \n",
              "4  re insert signatureon wed aug numbers numbers ...    1356   \n",
              "\n",
              "                                        Cleaned_Text  \n",
              "0  new sequences window date wed numbers aug numb...  \n",
              "1  zzzzteana alexandermartin posted tassos papado...  \n",
              "2  zzzzteana moscow bomberman threatens explosion...  \n",
              "3  irr klez virus dieklez virus die already proli...  \n",
              "4  insert signatureon wed aug numbers numbers num...  "
            ],
            "text/html": [
              "\n",
              "  <div id=\"df-42da41d5-fe6a-49cb-a9ed-840608ff555a\">\n",
              "    <div class=\"colab-df-container\">\n",
              "      <div>\n",
              "<style scoped>\n",
              "    .dataframe tbody tr th:only-of-type {\n",
              "        vertical-align: middle;\n",
              "    }\n",
              "\n",
              "    .dataframe tbody tr th {\n",
              "        vertical-align: top;\n",
              "    }\n",
              "\n",
              "    .dataframe thead th {\n",
              "        text-align: right;\n",
              "    }\n",
              "</style>\n",
              "<table border=\"1\" class=\"dataframe\">\n",
              "  <thead>\n",
              "    <tr style=\"text-align: right;\">\n",
              "      <th></th>\n",
              "      <th>message</th>\n",
              "      <th>label</th>\n",
              "      <th>sub_mssg</th>\n",
              "      <th>length</th>\n",
              "      <th>Cleaned_Text</th>\n",
              "    </tr>\n",
              "  </thead>\n",
              "  <tbody>\n",
              "    <tr>\n",
              "      <th>0</th>\n",
              "      <td>date wed 21 aug 2002 10 54 46 0500 from chris ...</td>\n",
              "      <td>0</td>\n",
              "      <td>re new sequences window date wed numbers aug n...</td>\n",
              "      <td>1678</td>\n",
              "      <td>new sequences window date wed numbers aug numb...</td>\n",
              "    </tr>\n",
              "    <tr>\n",
              "      <th>1</th>\n",
              "      <td>martin a posted tassos papadopoulos the greek ...</td>\n",
              "      <td>0</td>\n",
              "      <td>zzzzteana re alexandermartin a posted tassos ...</td>\n",
              "      <td>949</td>\n",
              "      <td>zzzzteana alexandermartin posted tassos papado...</td>\n",
              "    </tr>\n",
              "    <tr>\n",
              "      <th>2</th>\n",
              "      <td>man threatens explosion in moscow thursday aug...</td>\n",
              "      <td>0</td>\n",
              "      <td>zzzzteana moscow bomberman threatens explosio...</td>\n",
              "      <td>1813</td>\n",
              "      <td>zzzzteana moscow bomberman threatens explosion...</td>\n",
              "    </tr>\n",
              "    <tr>\n",
              "      <th>3</th>\n",
              "      <td>klez the virus that won t die already the most...</td>\n",
              "      <td>0</td>\n",
              "      <td>irr klez the virus that won t dieklez the vir...</td>\n",
              "      <td>1195</td>\n",
              "      <td>irr klez virus dieklez virus die already proli...</td>\n",
              "    </tr>\n",
              "    <tr>\n",
              "      <th>4</th>\n",
              "      <td>on wed aug 21 2002 at 15 46 ulises ponce wrote...</td>\n",
              "      <td>0</td>\n",
              "      <td>re insert signatureon wed aug numbers numbers ...</td>\n",
              "      <td>1356</td>\n",
              "      <td>insert signatureon wed aug numbers numbers num...</td>\n",
              "    </tr>\n",
              "  </tbody>\n",
              "</table>\n",
              "</div>\n",
              "      <button class=\"colab-df-convert\" onclick=\"convertToInteractive('df-42da41d5-fe6a-49cb-a9ed-840608ff555a')\"\n",
              "              title=\"Convert this dataframe to an interactive table.\"\n",
              "              style=\"display:none;\">\n",
              "        \n",
              "  <svg xmlns=\"http://www.w3.org/2000/svg\" height=\"24px\"viewBox=\"0 0 24 24\"\n",
              "       width=\"24px\">\n",
              "    <path d=\"M0 0h24v24H0V0z\" fill=\"none\"/>\n",
              "    <path d=\"M18.56 5.44l.94 2.06.94-2.06 2.06-.94-2.06-.94-.94-2.06-.94 2.06-2.06.94zm-11 1L8.5 8.5l.94-2.06 2.06-.94-2.06-.94L8.5 2.5l-.94 2.06-2.06.94zm10 10l.94 2.06.94-2.06 2.06-.94-2.06-.94-.94-2.06-.94 2.06-2.06.94z\"/><path d=\"M17.41 7.96l-1.37-1.37c-.4-.4-.92-.59-1.43-.59-.52 0-1.04.2-1.43.59L10.3 9.45l-7.72 7.72c-.78.78-.78 2.05 0 2.83L4 21.41c.39.39.9.59 1.41.59.51 0 1.02-.2 1.41-.59l7.78-7.78 2.81-2.81c.8-.78.8-2.07 0-2.86zM5.41 20L4 18.59l7.72-7.72 1.47 1.35L5.41 20z\"/>\n",
              "  </svg>\n",
              "      </button>\n",
              "      \n",
              "  <style>\n",
              "    .colab-df-container {\n",
              "      display:flex;\n",
              "      flex-wrap:wrap;\n",
              "      gap: 12px;\n",
              "    }\n",
              "\n",
              "    .colab-df-convert {\n",
              "      background-color: #E8F0FE;\n",
              "      border: none;\n",
              "      border-radius: 50%;\n",
              "      cursor: pointer;\n",
              "      display: none;\n",
              "      fill: #1967D2;\n",
              "      height: 32px;\n",
              "      padding: 0 0 0 0;\n",
              "      width: 32px;\n",
              "    }\n",
              "\n",
              "    .colab-df-convert:hover {\n",
              "      background-color: #E2EBFA;\n",
              "      box-shadow: 0px 1px 2px rgba(60, 64, 67, 0.3), 0px 1px 3px 1px rgba(60, 64, 67, 0.15);\n",
              "      fill: #174EA6;\n",
              "    }\n",
              "\n",
              "    [theme=dark] .colab-df-convert {\n",
              "      background-color: #3B4455;\n",
              "      fill: #D2E3FC;\n",
              "    }\n",
              "\n",
              "    [theme=dark] .colab-df-convert:hover {\n",
              "      background-color: #434B5C;\n",
              "      box-shadow: 0px 1px 3px 1px rgba(0, 0, 0, 0.15);\n",
              "      filter: drop-shadow(0px 1px 2px rgba(0, 0, 0, 0.3));\n",
              "      fill: #FFFFFF;\n",
              "    }\n",
              "  </style>\n",
              "\n",
              "      <script>\n",
              "        const buttonEl =\n",
              "          document.querySelector('#df-42da41d5-fe6a-49cb-a9ed-840608ff555a button.colab-df-convert');\n",
              "        buttonEl.style.display =\n",
              "          google.colab.kernel.accessAllowed ? 'block' : 'none';\n",
              "\n",
              "        async function convertToInteractive(key) {\n",
              "          const element = document.querySelector('#df-42da41d5-fe6a-49cb-a9ed-840608ff555a');\n",
              "          const dataTable =\n",
              "            await google.colab.kernel.invokeFunction('convertToInteractive',\n",
              "                                                     [key], {});\n",
              "          if (!dataTable) return;\n",
              "\n",
              "          const docLinkHtml = 'Like what you see? Visit the ' +\n",
              "            '<a target=\"_blank\" href=https://colab.research.google.com/notebooks/data_table.ipynb>data table notebook</a>'\n",
              "            + ' to learn more about interactive tables.';\n",
              "          element.innerHTML = '';\n",
              "          dataTable['output_type'] = 'display_data';\n",
              "          await google.colab.output.renderOutput(dataTable, element);\n",
              "          const docLink = document.createElement('div');\n",
              "          docLink.innerHTML = docLinkHtml;\n",
              "          element.appendChild(docLink);\n",
              "        }\n",
              "      </script>\n",
              "    </div>\n",
              "  </div>\n",
              "  "
            ]
          },
          "metadata": {},
          "execution_count": 25
        }
      ]
    },
    {
      "cell_type": "code",
      "source": [
        "df.drop('message',axis=1,inplace=True)"
      ],
      "metadata": {
        "id": "KedJbK71iYT7"
      },
      "execution_count": 26,
      "outputs": []
    },
    {
      "cell_type": "code",
      "source": [
        "df.drop('sub_mssg',axis=1,inplace=True)"
      ],
      "metadata": {
        "id": "IQG94-5siaEw"
      },
      "execution_count": 27,
      "outputs": []
    },
    {
      "cell_type": "code",
      "source": [
        "df.head()"
      ],
      "metadata": {
        "colab": {
          "base_uri": "https://localhost:8080/",
          "height": 206
        },
        "id": "b7mWPxy1ibHj",
        "outputId": "10b629d4-0eb3-4702-8128-89593c903b98"
      },
      "execution_count": 28,
      "outputs": [
        {
          "output_type": "execute_result",
          "data": {
            "text/plain": [
              "   label  length                                       Cleaned_Text\n",
              "0      0    1678  new sequences window date wed numbers aug numb...\n",
              "1      0     949  zzzzteana alexandermartin posted tassos papado...\n",
              "2      0    1813  zzzzteana moscow bomberman threatens explosion...\n",
              "3      0    1195  irr klez virus dieklez virus die already proli...\n",
              "4      0    1356  insert signatureon wed aug numbers numbers num..."
            ],
            "text/html": [
              "\n",
              "  <div id=\"df-a28ce463-bc8f-4988-9779-5d15ca4d02d1\">\n",
              "    <div class=\"colab-df-container\">\n",
              "      <div>\n",
              "<style scoped>\n",
              "    .dataframe tbody tr th:only-of-type {\n",
              "        vertical-align: middle;\n",
              "    }\n",
              "\n",
              "    .dataframe tbody tr th {\n",
              "        vertical-align: top;\n",
              "    }\n",
              "\n",
              "    .dataframe thead th {\n",
              "        text-align: right;\n",
              "    }\n",
              "</style>\n",
              "<table border=\"1\" class=\"dataframe\">\n",
              "  <thead>\n",
              "    <tr style=\"text-align: right;\">\n",
              "      <th></th>\n",
              "      <th>label</th>\n",
              "      <th>length</th>\n",
              "      <th>Cleaned_Text</th>\n",
              "    </tr>\n",
              "  </thead>\n",
              "  <tbody>\n",
              "    <tr>\n",
              "      <th>0</th>\n",
              "      <td>0</td>\n",
              "      <td>1678</td>\n",
              "      <td>new sequences window date wed numbers aug numb...</td>\n",
              "    </tr>\n",
              "    <tr>\n",
              "      <th>1</th>\n",
              "      <td>0</td>\n",
              "      <td>949</td>\n",
              "      <td>zzzzteana alexandermartin posted tassos papado...</td>\n",
              "    </tr>\n",
              "    <tr>\n",
              "      <th>2</th>\n",
              "      <td>0</td>\n",
              "      <td>1813</td>\n",
              "      <td>zzzzteana moscow bomberman threatens explosion...</td>\n",
              "    </tr>\n",
              "    <tr>\n",
              "      <th>3</th>\n",
              "      <td>0</td>\n",
              "      <td>1195</td>\n",
              "      <td>irr klez virus dieklez virus die already proli...</td>\n",
              "    </tr>\n",
              "    <tr>\n",
              "      <th>4</th>\n",
              "      <td>0</td>\n",
              "      <td>1356</td>\n",
              "      <td>insert signatureon wed aug numbers numbers num...</td>\n",
              "    </tr>\n",
              "  </tbody>\n",
              "</table>\n",
              "</div>\n",
              "      <button class=\"colab-df-convert\" onclick=\"convertToInteractive('df-a28ce463-bc8f-4988-9779-5d15ca4d02d1')\"\n",
              "              title=\"Convert this dataframe to an interactive table.\"\n",
              "              style=\"display:none;\">\n",
              "        \n",
              "  <svg xmlns=\"http://www.w3.org/2000/svg\" height=\"24px\"viewBox=\"0 0 24 24\"\n",
              "       width=\"24px\">\n",
              "    <path d=\"M0 0h24v24H0V0z\" fill=\"none\"/>\n",
              "    <path d=\"M18.56 5.44l.94 2.06.94-2.06 2.06-.94-2.06-.94-.94-2.06-.94 2.06-2.06.94zm-11 1L8.5 8.5l.94-2.06 2.06-.94-2.06-.94L8.5 2.5l-.94 2.06-2.06.94zm10 10l.94 2.06.94-2.06 2.06-.94-2.06-.94-.94-2.06-.94 2.06-2.06.94z\"/><path d=\"M17.41 7.96l-1.37-1.37c-.4-.4-.92-.59-1.43-.59-.52 0-1.04.2-1.43.59L10.3 9.45l-7.72 7.72c-.78.78-.78 2.05 0 2.83L4 21.41c.39.39.9.59 1.41.59.51 0 1.02-.2 1.41-.59l7.78-7.78 2.81-2.81c.8-.78.8-2.07 0-2.86zM5.41 20L4 18.59l7.72-7.72 1.47 1.35L5.41 20z\"/>\n",
              "  </svg>\n",
              "      </button>\n",
              "      \n",
              "  <style>\n",
              "    .colab-df-container {\n",
              "      display:flex;\n",
              "      flex-wrap:wrap;\n",
              "      gap: 12px;\n",
              "    }\n",
              "\n",
              "    .colab-df-convert {\n",
              "      background-color: #E8F0FE;\n",
              "      border: none;\n",
              "      border-radius: 50%;\n",
              "      cursor: pointer;\n",
              "      display: none;\n",
              "      fill: #1967D2;\n",
              "      height: 32px;\n",
              "      padding: 0 0 0 0;\n",
              "      width: 32px;\n",
              "    }\n",
              "\n",
              "    .colab-df-convert:hover {\n",
              "      background-color: #E2EBFA;\n",
              "      box-shadow: 0px 1px 2px rgba(60, 64, 67, 0.3), 0px 1px 3px 1px rgba(60, 64, 67, 0.15);\n",
              "      fill: #174EA6;\n",
              "    }\n",
              "\n",
              "    [theme=dark] .colab-df-convert {\n",
              "      background-color: #3B4455;\n",
              "      fill: #D2E3FC;\n",
              "    }\n",
              "\n",
              "    [theme=dark] .colab-df-convert:hover {\n",
              "      background-color: #434B5C;\n",
              "      box-shadow: 0px 1px 3px 1px rgba(0, 0, 0, 0.15);\n",
              "      filter: drop-shadow(0px 1px 2px rgba(0, 0, 0, 0.3));\n",
              "      fill: #FFFFFF;\n",
              "    }\n",
              "  </style>\n",
              "\n",
              "      <script>\n",
              "        const buttonEl =\n",
              "          document.querySelector('#df-a28ce463-bc8f-4988-9779-5d15ca4d02d1 button.colab-df-convert');\n",
              "        buttonEl.style.display =\n",
              "          google.colab.kernel.accessAllowed ? 'block' : 'none';\n",
              "\n",
              "        async function convertToInteractive(key) {\n",
              "          const element = document.querySelector('#df-a28ce463-bc8f-4988-9779-5d15ca4d02d1');\n",
              "          const dataTable =\n",
              "            await google.colab.kernel.invokeFunction('convertToInteractive',\n",
              "                                                     [key], {});\n",
              "          if (!dataTable) return;\n",
              "\n",
              "          const docLinkHtml = 'Like what you see? Visit the ' +\n",
              "            '<a target=\"_blank\" href=https://colab.research.google.com/notebooks/data_table.ipynb>data table notebook</a>'\n",
              "            + ' to learn more about interactive tables.';\n",
              "          element.innerHTML = '';\n",
              "          dataTable['output_type'] = 'display_data';\n",
              "          await google.colab.output.renderOutput(dataTable, element);\n",
              "          const docLink = document.createElement('div');\n",
              "          docLink.innerHTML = docLinkHtml;\n",
              "          element.appendChild(docLink);\n",
              "        }\n",
              "      </script>\n",
              "    </div>\n",
              "  </div>\n",
              "  "
            ]
          },
          "metadata": {},
          "execution_count": 28
        }
      ]
    },
    {
      "cell_type": "code",
      "source": [
        "df.isnull().sum()"
      ],
      "metadata": {
        "colab": {
          "base_uri": "https://localhost:8080/"
        },
        "id": "D0YKkVZTicBx",
        "outputId": "8213cef8-6b8e-40f2-e081-0a07e39464c5"
      },
      "execution_count": 29,
      "outputs": [
        {
          "output_type": "execute_result",
          "data": {
            "text/plain": [
              "label           0\n",
              "length          0\n",
              "Cleaned_Text    0\n",
              "dtype: int64"
            ]
          },
          "metadata": {},
          "execution_count": 29
        }
      ]
    },
    {
      "cell_type": "code",
      "source": [
        "df['lgth_clean']=df['Cleaned_Text'].apply(len)\n",
        "df.head()"
      ],
      "metadata": {
        "colab": {
          "base_uri": "https://localhost:8080/",
          "height": 206
        },
        "id": "c_VdqOp9id0m",
        "outputId": "727be99a-6229-4df3-e3f7-75eab0397d5c"
      },
      "execution_count": 30,
      "outputs": [
        {
          "output_type": "execute_result",
          "data": {
            "text/plain": [
              "   label  length                                       Cleaned_Text  \\\n",
              "0      0    1678  new sequences window date wed numbers aug numb...   \n",
              "1      0     949  zzzzteana alexandermartin posted tassos papado...   \n",
              "2      0    1813  zzzzteana moscow bomberman threatens explosion...   \n",
              "3      0    1195  irr klez virus dieklez virus die already proli...   \n",
              "4      0    1356  insert signatureon wed aug numbers numbers num...   \n",
              "\n",
              "   lgth_clean  \n",
              "0        1359  \n",
              "1         620  \n",
              "2        1279  \n",
              "3         846  \n",
              "4         849  "
            ],
            "text/html": [
              "\n",
              "  <div id=\"df-fa353ceb-6f68-45b7-8186-57455f47eeac\">\n",
              "    <div class=\"colab-df-container\">\n",
              "      <div>\n",
              "<style scoped>\n",
              "    .dataframe tbody tr th:only-of-type {\n",
              "        vertical-align: middle;\n",
              "    }\n",
              "\n",
              "    .dataframe tbody tr th {\n",
              "        vertical-align: top;\n",
              "    }\n",
              "\n",
              "    .dataframe thead th {\n",
              "        text-align: right;\n",
              "    }\n",
              "</style>\n",
              "<table border=\"1\" class=\"dataframe\">\n",
              "  <thead>\n",
              "    <tr style=\"text-align: right;\">\n",
              "      <th></th>\n",
              "      <th>label</th>\n",
              "      <th>length</th>\n",
              "      <th>Cleaned_Text</th>\n",
              "      <th>lgth_clean</th>\n",
              "    </tr>\n",
              "  </thead>\n",
              "  <tbody>\n",
              "    <tr>\n",
              "      <th>0</th>\n",
              "      <td>0</td>\n",
              "      <td>1678</td>\n",
              "      <td>new sequences window date wed numbers aug numb...</td>\n",
              "      <td>1359</td>\n",
              "    </tr>\n",
              "    <tr>\n",
              "      <th>1</th>\n",
              "      <td>0</td>\n",
              "      <td>949</td>\n",
              "      <td>zzzzteana alexandermartin posted tassos papado...</td>\n",
              "      <td>620</td>\n",
              "    </tr>\n",
              "    <tr>\n",
              "      <th>2</th>\n",
              "      <td>0</td>\n",
              "      <td>1813</td>\n",
              "      <td>zzzzteana moscow bomberman threatens explosion...</td>\n",
              "      <td>1279</td>\n",
              "    </tr>\n",
              "    <tr>\n",
              "      <th>3</th>\n",
              "      <td>0</td>\n",
              "      <td>1195</td>\n",
              "      <td>irr klez virus dieklez virus die already proli...</td>\n",
              "      <td>846</td>\n",
              "    </tr>\n",
              "    <tr>\n",
              "      <th>4</th>\n",
              "      <td>0</td>\n",
              "      <td>1356</td>\n",
              "      <td>insert signatureon wed aug numbers numbers num...</td>\n",
              "      <td>849</td>\n",
              "    </tr>\n",
              "  </tbody>\n",
              "</table>\n",
              "</div>\n",
              "      <button class=\"colab-df-convert\" onclick=\"convertToInteractive('df-fa353ceb-6f68-45b7-8186-57455f47eeac')\"\n",
              "              title=\"Convert this dataframe to an interactive table.\"\n",
              "              style=\"display:none;\">\n",
              "        \n",
              "  <svg xmlns=\"http://www.w3.org/2000/svg\" height=\"24px\"viewBox=\"0 0 24 24\"\n",
              "       width=\"24px\">\n",
              "    <path d=\"M0 0h24v24H0V0z\" fill=\"none\"/>\n",
              "    <path d=\"M18.56 5.44l.94 2.06.94-2.06 2.06-.94-2.06-.94-.94-2.06-.94 2.06-2.06.94zm-11 1L8.5 8.5l.94-2.06 2.06-.94-2.06-.94L8.5 2.5l-.94 2.06-2.06.94zm10 10l.94 2.06.94-2.06 2.06-.94-2.06-.94-.94-2.06-.94 2.06-2.06.94z\"/><path d=\"M17.41 7.96l-1.37-1.37c-.4-.4-.92-.59-1.43-.59-.52 0-1.04.2-1.43.59L10.3 9.45l-7.72 7.72c-.78.78-.78 2.05 0 2.83L4 21.41c.39.39.9.59 1.41.59.51 0 1.02-.2 1.41-.59l7.78-7.78 2.81-2.81c.8-.78.8-2.07 0-2.86zM5.41 20L4 18.59l7.72-7.72 1.47 1.35L5.41 20z\"/>\n",
              "  </svg>\n",
              "      </button>\n",
              "      \n",
              "  <style>\n",
              "    .colab-df-container {\n",
              "      display:flex;\n",
              "      flex-wrap:wrap;\n",
              "      gap: 12px;\n",
              "    }\n",
              "\n",
              "    .colab-df-convert {\n",
              "      background-color: #E8F0FE;\n",
              "      border: none;\n",
              "      border-radius: 50%;\n",
              "      cursor: pointer;\n",
              "      display: none;\n",
              "      fill: #1967D2;\n",
              "      height: 32px;\n",
              "      padding: 0 0 0 0;\n",
              "      width: 32px;\n",
              "    }\n",
              "\n",
              "    .colab-df-convert:hover {\n",
              "      background-color: #E2EBFA;\n",
              "      box-shadow: 0px 1px 2px rgba(60, 64, 67, 0.3), 0px 1px 3px 1px rgba(60, 64, 67, 0.15);\n",
              "      fill: #174EA6;\n",
              "    }\n",
              "\n",
              "    [theme=dark] .colab-df-convert {\n",
              "      background-color: #3B4455;\n",
              "      fill: #D2E3FC;\n",
              "    }\n",
              "\n",
              "    [theme=dark] .colab-df-convert:hover {\n",
              "      background-color: #434B5C;\n",
              "      box-shadow: 0px 1px 3px 1px rgba(0, 0, 0, 0.15);\n",
              "      filter: drop-shadow(0px 1px 2px rgba(0, 0, 0, 0.3));\n",
              "      fill: #FFFFFF;\n",
              "    }\n",
              "  </style>\n",
              "\n",
              "      <script>\n",
              "        const buttonEl =\n",
              "          document.querySelector('#df-fa353ceb-6f68-45b7-8186-57455f47eeac button.colab-df-convert');\n",
              "        buttonEl.style.display =\n",
              "          google.colab.kernel.accessAllowed ? 'block' : 'none';\n",
              "\n",
              "        async function convertToInteractive(key) {\n",
              "          const element = document.querySelector('#df-fa353ceb-6f68-45b7-8186-57455f47eeac');\n",
              "          const dataTable =\n",
              "            await google.colab.kernel.invokeFunction('convertToInteractive',\n",
              "                                                     [key], {});\n",
              "          if (!dataTable) return;\n",
              "\n",
              "          const docLinkHtml = 'Like what you see? Visit the ' +\n",
              "            '<a target=\"_blank\" href=https://colab.research.google.com/notebooks/data_table.ipynb>data table notebook</a>'\n",
              "            + ' to learn more about interactive tables.';\n",
              "          element.innerHTML = '';\n",
              "          dataTable['output_type'] = 'display_data';\n",
              "          await google.colab.output.renderOutput(dataTable, element);\n",
              "          const docLink = document.createElement('div');\n",
              "          docLink.innerHTML = docLinkHtml;\n",
              "          element.appendChild(docLink);\n",
              "        }\n",
              "      </script>\n",
              "    </div>\n",
              "  </div>\n",
              "  "
            ]
          },
          "metadata": {},
          "execution_count": 30
        }
      ]
    },
    {
      "cell_type": "code",
      "source": [
        "original_length=sum(df['length'])\n",
        "after_cleaning=sum(df['lgth_clean'])"
      ],
      "metadata": {
        "id": "k-qVeCZPifo1"
      },
      "execution_count": 31,
      "outputs": []
    },
    {
      "cell_type": "code",
      "source": [
        "print(\"original_length\",original_length)\n",
        "print('after_cleaning',after_cleaning)"
      ],
      "metadata": {
        "colab": {
          "base_uri": "https://localhost:8080/"
        },
        "id": "sFZN2uZYig1g",
        "outputId": "39339448-b34d-4080-a52b-65211a691157"
      },
      "execution_count": 32,
      "outputs": [
        {
          "output_type": "stream",
          "name": "stdout",
          "text": [
            "original_length 12167249\n",
            "after_cleaning 9767670\n"
          ]
        }
      ]
    },
    {
      "cell_type": "code",
      "source": [
        "# 1. Convert text into vectors using TF-IDF\n",
        "# 2. Instantiate MultinomialNB classifier\n",
        "# 3. Split feature and label\n",
        "from sklearn.feature_extraction.text import TfidfVectorizer\n",
        "from sklearn.naive_bayes import MultinomialNB\n",
        "from sklearn.model_selection import train_test_split\n",
        "from sklearn.metrics import accuracy_score, confusion_matrix, classification_report\n",
        "from sklearn.linear_model import LogisticRegression\n",
        "from sklearn.tree import DecisionTreeClassifier\n",
        "from sklearn.naive_bayes import GaussianNB\n",
        "from sklearn.metrics import confusion_matrix\n",
        "from sklearn.metrics import classification_report\n",
        "from sklearn.model_selection import train_test_split\n",
        "from sklearn.metrics import accuracy_score, precision_score, recall_score\n",
        "from sklearn.model_selection import GridSearchCV\n",
        "from sklearn.model_selection import cross_val_score\n",
        "import warnings\n",
        "from sklearn.pipeline import Pipeline"
      ],
      "metadata": {
        "id": "7KCxB_jOiiAd"
      },
      "execution_count": 33,
      "outputs": []
    },
    {
      "cell_type": "code",
      "source": [
        "tvec = TfidfVectorizer()\n",
        "lr = LogisticRegression(solver = \"lbfgs\")"
      ],
      "metadata": {
        "id": "51rV3pl5jgYl"
      },
      "execution_count": 34,
      "outputs": []
    },
    {
      "cell_type": "code",
      "source": [
        "X = df.Cleaned_Text\n",
        "Y = df.label\n",
        "\n",
        "X_train, X_test, Y_train, Y_test = train_test_split(X, Y, test_size = 0.1, random_state = 225,stratify=Y)"
      ],
      "metadata": {
        "id": "DgYwAGxIjmmZ"
      },
      "execution_count": 35,
      "outputs": []
    },
    {
      "cell_type": "code",
      "source": [
        "X"
      ],
      "metadata": {
        "colab": {
          "base_uri": "https://localhost:8080/"
        },
        "id": "2KQ6x6v2jvAI",
        "outputId": "06bdea17-09d4-4773-caeb-f8c652ecc83b"
      },
      "execution_count": 36,
      "outputs": [
        {
          "output_type": "execute_result",
          "data": {
            "text/plain": [
              "0       new sequences window date wed numbers aug numb...\n",
              "1       zzzzteana alexandermartin posted tassos papado...\n",
              "2       zzzzteana moscow bomberman threatens explosion...\n",
              "3       irr klez virus dieklez virus die already proli...\n",
              "4       insert signatureon wed aug numbers numbers num...\n",
              "                              ...                        \n",
              "4191    busy home study makes sense want boss train se...\n",
              "4192    preferred non smoker rates smokersthis multi p...\n",
              "4193    get numbers numbers free hits per day websited...\n",
              "4194    cannabis difference mid summer customer apprec...\n",
              "4195    ilug wilson kamelaattn sir madan strictly conf...\n",
              "Name: Cleaned_Text, Length: 4196, dtype: object"
            ]
          },
          "metadata": {},
          "execution_count": 36
        }
      ]
    },
    {
      "cell_type": "code",
      "source": [
        "Y"
      ],
      "metadata": {
        "colab": {
          "base_uri": "https://localhost:8080/"
        },
        "id": "xEOi7I7YjxCa",
        "outputId": "f834b8e8-751b-46b2-de2a-b99b42a76c49"
      },
      "execution_count": 37,
      "outputs": [
        {
          "output_type": "execute_result",
          "data": {
            "text/plain": [
              "0       0\n",
              "1       0\n",
              "2       0\n",
              "3       0\n",
              "4       0\n",
              "       ..\n",
              "4191    1\n",
              "4192    1\n",
              "4193    1\n",
              "4194    1\n",
              "4195    1\n",
              "Name: label, Length: 4196, dtype: int64"
            ]
          },
          "metadata": {},
          "execution_count": 37
        }
      ]
    },
    {
      "cell_type": "code",
      "source": [
        "from sklearn.ensemble import RandomForestClassifier as RFC\n",
        "rfc = RFC(random_state=42)\n",
        "model_7 = Pipeline([('vectorizer',tvec),('classifier',rfc)])\n",
        "model_7.fit(X_train,Y_train)\n",
        "y_pred = model_7.predict(X_test)\n",
        "print(confusion_matrix(y_pred,Y_test))\n",
        "print(\"Accuracy : \", accuracy_score(y_pred,Y_test))\n",
        "print(\"Precision : \", precision_score(y_pred,Y_test, average = 'weighted'))\n",
        "print(\"Recall : \", recall_score(y_pred,Y_test, average = 'weighted'))"
      ],
      "metadata": {
        "colab": {
          "base_uri": "https://localhost:8080/"
        },
        "id": "VUn3Sd7cjC2c",
        "outputId": "38025987-fe4d-413c-a0cb-45791a003563"
      },
      "execution_count": 38,
      "outputs": [
        {
          "output_type": "stream",
          "name": "stdout",
          "text": [
            "[[276   8]\n",
            " [  4 132]]\n",
            "Accuracy :  0.9714285714285714\n",
            "Precision :  0.9718367346938775\n",
            "Recall :  0.9714285714285714\n"
          ]
        }
      ]
    },
    {
      "cell_type": "code",
      "source": [
        "df"
      ],
      "metadata": {
        "colab": {
          "base_uri": "https://localhost:8080/",
          "height": 424
        },
        "id": "eYvbM0bblcPj",
        "outputId": "e8959530-8f5b-4110-ae3b-3d5bd453d7f1"
      },
      "execution_count": 39,
      "outputs": [
        {
          "output_type": "execute_result",
          "data": {
            "text/plain": [
              "      label  length                                       Cleaned_Text  \\\n",
              "0         0    1678  new sequences window date wed numbers aug numb...   \n",
              "1         0     949  zzzzteana alexandermartin posted tassos papado...   \n",
              "2         0    1813  zzzzteana moscow bomberman threatens explosion...   \n",
              "3         0    1195  irr klez virus dieklez virus die already proli...   \n",
              "4         0    1356  insert signatureon wed aug numbers numbers num...   \n",
              "...     ...     ...                                                ...   \n",
              "4191      1    2557  busy home study makes sense want boss train se...   \n",
              "4192      1   12612  preferred non smoker rates smokersthis multi p...   \n",
              "4193      1    2575  get numbers numbers free hits per day websited...   \n",
              "4194      1   24078  cannabis difference mid summer customer apprec...   \n",
              "4195      1    2606  ilug wilson kamelaattn sir madan strictly conf...   \n",
              "\n",
              "      lgth_clean  \n",
              "0           1359  \n",
              "1            620  \n",
              "2           1279  \n",
              "3            846  \n",
              "4            849  \n",
              "...          ...  \n",
              "4191        1584  \n",
              "4192       10457  \n",
              "4193        1658  \n",
              "4194       19478  \n",
              "4195        1720  \n",
              "\n",
              "[4196 rows x 4 columns]"
            ],
            "text/html": [
              "\n",
              "  <div id=\"df-084f915b-1fa7-4f47-8a8c-9caf829cb3f9\">\n",
              "    <div class=\"colab-df-container\">\n",
              "      <div>\n",
              "<style scoped>\n",
              "    .dataframe tbody tr th:only-of-type {\n",
              "        vertical-align: middle;\n",
              "    }\n",
              "\n",
              "    .dataframe tbody tr th {\n",
              "        vertical-align: top;\n",
              "    }\n",
              "\n",
              "    .dataframe thead th {\n",
              "        text-align: right;\n",
              "    }\n",
              "</style>\n",
              "<table border=\"1\" class=\"dataframe\">\n",
              "  <thead>\n",
              "    <tr style=\"text-align: right;\">\n",
              "      <th></th>\n",
              "      <th>label</th>\n",
              "      <th>length</th>\n",
              "      <th>Cleaned_Text</th>\n",
              "      <th>lgth_clean</th>\n",
              "    </tr>\n",
              "  </thead>\n",
              "  <tbody>\n",
              "    <tr>\n",
              "      <th>0</th>\n",
              "      <td>0</td>\n",
              "      <td>1678</td>\n",
              "      <td>new sequences window date wed numbers aug numb...</td>\n",
              "      <td>1359</td>\n",
              "    </tr>\n",
              "    <tr>\n",
              "      <th>1</th>\n",
              "      <td>0</td>\n",
              "      <td>949</td>\n",
              "      <td>zzzzteana alexandermartin posted tassos papado...</td>\n",
              "      <td>620</td>\n",
              "    </tr>\n",
              "    <tr>\n",
              "      <th>2</th>\n",
              "      <td>0</td>\n",
              "      <td>1813</td>\n",
              "      <td>zzzzteana moscow bomberman threatens explosion...</td>\n",
              "      <td>1279</td>\n",
              "    </tr>\n",
              "    <tr>\n",
              "      <th>3</th>\n",
              "      <td>0</td>\n",
              "      <td>1195</td>\n",
              "      <td>irr klez virus dieklez virus die already proli...</td>\n",
              "      <td>846</td>\n",
              "    </tr>\n",
              "    <tr>\n",
              "      <th>4</th>\n",
              "      <td>0</td>\n",
              "      <td>1356</td>\n",
              "      <td>insert signatureon wed aug numbers numbers num...</td>\n",
              "      <td>849</td>\n",
              "    </tr>\n",
              "    <tr>\n",
              "      <th>...</th>\n",
              "      <td>...</td>\n",
              "      <td>...</td>\n",
              "      <td>...</td>\n",
              "      <td>...</td>\n",
              "    </tr>\n",
              "    <tr>\n",
              "      <th>4191</th>\n",
              "      <td>1</td>\n",
              "      <td>2557</td>\n",
              "      <td>busy home study makes sense want boss train se...</td>\n",
              "      <td>1584</td>\n",
              "    </tr>\n",
              "    <tr>\n",
              "      <th>4192</th>\n",
              "      <td>1</td>\n",
              "      <td>12612</td>\n",
              "      <td>preferred non smoker rates smokersthis multi p...</td>\n",
              "      <td>10457</td>\n",
              "    </tr>\n",
              "    <tr>\n",
              "      <th>4193</th>\n",
              "      <td>1</td>\n",
              "      <td>2575</td>\n",
              "      <td>get numbers numbers free hits per day websited...</td>\n",
              "      <td>1658</td>\n",
              "    </tr>\n",
              "    <tr>\n",
              "      <th>4194</th>\n",
              "      <td>1</td>\n",
              "      <td>24078</td>\n",
              "      <td>cannabis difference mid summer customer apprec...</td>\n",
              "      <td>19478</td>\n",
              "    </tr>\n",
              "    <tr>\n",
              "      <th>4195</th>\n",
              "      <td>1</td>\n",
              "      <td>2606</td>\n",
              "      <td>ilug wilson kamelaattn sir madan strictly conf...</td>\n",
              "      <td>1720</td>\n",
              "    </tr>\n",
              "  </tbody>\n",
              "</table>\n",
              "<p>4196 rows × 4 columns</p>\n",
              "</div>\n",
              "      <button class=\"colab-df-convert\" onclick=\"convertToInteractive('df-084f915b-1fa7-4f47-8a8c-9caf829cb3f9')\"\n",
              "              title=\"Convert this dataframe to an interactive table.\"\n",
              "              style=\"display:none;\">\n",
              "        \n",
              "  <svg xmlns=\"http://www.w3.org/2000/svg\" height=\"24px\"viewBox=\"0 0 24 24\"\n",
              "       width=\"24px\">\n",
              "    <path d=\"M0 0h24v24H0V0z\" fill=\"none\"/>\n",
              "    <path d=\"M18.56 5.44l.94 2.06.94-2.06 2.06-.94-2.06-.94-.94-2.06-.94 2.06-2.06.94zm-11 1L8.5 8.5l.94-2.06 2.06-.94-2.06-.94L8.5 2.5l-.94 2.06-2.06.94zm10 10l.94 2.06.94-2.06 2.06-.94-2.06-.94-.94-2.06-.94 2.06-2.06.94z\"/><path d=\"M17.41 7.96l-1.37-1.37c-.4-.4-.92-.59-1.43-.59-.52 0-1.04.2-1.43.59L10.3 9.45l-7.72 7.72c-.78.78-.78 2.05 0 2.83L4 21.41c.39.39.9.59 1.41.59.51 0 1.02-.2 1.41-.59l7.78-7.78 2.81-2.81c.8-.78.8-2.07 0-2.86zM5.41 20L4 18.59l7.72-7.72 1.47 1.35L5.41 20z\"/>\n",
              "  </svg>\n",
              "      </button>\n",
              "      \n",
              "  <style>\n",
              "    .colab-df-container {\n",
              "      display:flex;\n",
              "      flex-wrap:wrap;\n",
              "      gap: 12px;\n",
              "    }\n",
              "\n",
              "    .colab-df-convert {\n",
              "      background-color: #E8F0FE;\n",
              "      border: none;\n",
              "      border-radius: 50%;\n",
              "      cursor: pointer;\n",
              "      display: none;\n",
              "      fill: #1967D2;\n",
              "      height: 32px;\n",
              "      padding: 0 0 0 0;\n",
              "      width: 32px;\n",
              "    }\n",
              "\n",
              "    .colab-df-convert:hover {\n",
              "      background-color: #E2EBFA;\n",
              "      box-shadow: 0px 1px 2px rgba(60, 64, 67, 0.3), 0px 1px 3px 1px rgba(60, 64, 67, 0.15);\n",
              "      fill: #174EA6;\n",
              "    }\n",
              "\n",
              "    [theme=dark] .colab-df-convert {\n",
              "      background-color: #3B4455;\n",
              "      fill: #D2E3FC;\n",
              "    }\n",
              "\n",
              "    [theme=dark] .colab-df-convert:hover {\n",
              "      background-color: #434B5C;\n",
              "      box-shadow: 0px 1px 3px 1px rgba(0, 0, 0, 0.15);\n",
              "      filter: drop-shadow(0px 1px 2px rgba(0, 0, 0, 0.3));\n",
              "      fill: #FFFFFF;\n",
              "    }\n",
              "  </style>\n",
              "\n",
              "      <script>\n",
              "        const buttonEl =\n",
              "          document.querySelector('#df-084f915b-1fa7-4f47-8a8c-9caf829cb3f9 button.colab-df-convert');\n",
              "        buttonEl.style.display =\n",
              "          google.colab.kernel.accessAllowed ? 'block' : 'none';\n",
              "\n",
              "        async function convertToInteractive(key) {\n",
              "          const element = document.querySelector('#df-084f915b-1fa7-4f47-8a8c-9caf829cb3f9');\n",
              "          const dataTable =\n",
              "            await google.colab.kernel.invokeFunction('convertToInteractive',\n",
              "                                                     [key], {});\n",
              "          if (!dataTable) return;\n",
              "\n",
              "          const docLinkHtml = 'Like what you see? Visit the ' +\n",
              "            '<a target=\"_blank\" href=https://colab.research.google.com/notebooks/data_table.ipynb>data table notebook</a>'\n",
              "            + ' to learn more about interactive tables.';\n",
              "          element.innerHTML = '';\n",
              "          dataTable['output_type'] = 'display_data';\n",
              "          await google.colab.output.renderOutput(dataTable, element);\n",
              "          const docLink = document.createElement('div');\n",
              "          docLink.innerHTML = docLinkHtml;\n",
              "          element.appendChild(docLink);\n",
              "        }\n",
              "      </script>\n",
              "    </div>\n",
              "  </div>\n",
              "  "
            ]
          },
          "metadata": {},
          "execution_count": 39
        }
      ]
    },
    {
      "cell_type": "markdown",
      "source": [
        "# Проверка на тестовых данных "
      ],
      "metadata": {
        "id": "I9byxql2jlyb"
      }
    },
    {
      "cell_type": "code",
      "source": [
        "df1=pd.read_csv('final.csv')\n",
        "df1.head()"
      ],
      "metadata": {
        "colab": {
          "base_uri": "https://localhost:8080/",
          "height": 206
        },
        "id": "VG8Qaxev7Bzr",
        "outputId": "fdcc0bb2-d66a-49db-ea78-8f8c05f7696f"
      },
      "execution_count": 40,
      "outputs": [
        {
          "output_type": "execute_result",
          "data": {
            "text/plain": [
              "   Unnamed: 0.1  Unnamed: 0  \\\n",
              "0             0           0   \n",
              "1             1           1   \n",
              "2             2           2   \n",
              "3             3           3   \n",
              "4             4           4   \n",
              "\n",
              "                                             subject  \\\n",
              "0  ADV: Professional Teeth Whitening At Home!    ...   \n",
              "1   Your Membership Community & Commentary, 08-03-01   \n",
              "2                               ore info/grant money   \n",
              "3                          Sometimes Less is More...   \n",
              "4                  adv: Put your resume back to work   \n",
              "\n",
              "                                                text  label  \n",
              "0  Whiter teeth and a brighter smile are just a c...      1  \n",
              "1  \\n--1465727098.996838841831.JavaMail.RovAdmin....      1  \n",
              "2  Below is the result of your feedback form.  It...      1  \n",
              "3   Maximizer Select\\t\\n Want to pay less for ter...      1  \n",
              "4  Dear Candidate,\\n\\nWe recently came across a p...      1  "
            ],
            "text/html": [
              "\n",
              "  <div id=\"df-74ef219b-ab24-470f-bd6c-867057e74dfc\">\n",
              "    <div class=\"colab-df-container\">\n",
              "      <div>\n",
              "<style scoped>\n",
              "    .dataframe tbody tr th:only-of-type {\n",
              "        vertical-align: middle;\n",
              "    }\n",
              "\n",
              "    .dataframe tbody tr th {\n",
              "        vertical-align: top;\n",
              "    }\n",
              "\n",
              "    .dataframe thead th {\n",
              "        text-align: right;\n",
              "    }\n",
              "</style>\n",
              "<table border=\"1\" class=\"dataframe\">\n",
              "  <thead>\n",
              "    <tr style=\"text-align: right;\">\n",
              "      <th></th>\n",
              "      <th>Unnamed: 0.1</th>\n",
              "      <th>Unnamed: 0</th>\n",
              "      <th>subject</th>\n",
              "      <th>text</th>\n",
              "      <th>label</th>\n",
              "    </tr>\n",
              "  </thead>\n",
              "  <tbody>\n",
              "    <tr>\n",
              "      <th>0</th>\n",
              "      <td>0</td>\n",
              "      <td>0</td>\n",
              "      <td>ADV: Professional Teeth Whitening At Home!    ...</td>\n",
              "      <td>Whiter teeth and a brighter smile are just a c...</td>\n",
              "      <td>1</td>\n",
              "    </tr>\n",
              "    <tr>\n",
              "      <th>1</th>\n",
              "      <td>1</td>\n",
              "      <td>1</td>\n",
              "      <td>Your Membership Community &amp; Commentary, 08-03-01</td>\n",
              "      <td>\\n--1465727098.996838841831.JavaMail.RovAdmin....</td>\n",
              "      <td>1</td>\n",
              "    </tr>\n",
              "    <tr>\n",
              "      <th>2</th>\n",
              "      <td>2</td>\n",
              "      <td>2</td>\n",
              "      <td>ore info/grant money</td>\n",
              "      <td>Below is the result of your feedback form.  It...</td>\n",
              "      <td>1</td>\n",
              "    </tr>\n",
              "    <tr>\n",
              "      <th>3</th>\n",
              "      <td>3</td>\n",
              "      <td>3</td>\n",
              "      <td>Sometimes Less is More...</td>\n",
              "      <td>Maximizer Select\\t\\n Want to pay less for ter...</td>\n",
              "      <td>1</td>\n",
              "    </tr>\n",
              "    <tr>\n",
              "      <th>4</th>\n",
              "      <td>4</td>\n",
              "      <td>4</td>\n",
              "      <td>adv: Put your resume back to work</td>\n",
              "      <td>Dear Candidate,\\n\\nWe recently came across a p...</td>\n",
              "      <td>1</td>\n",
              "    </tr>\n",
              "  </tbody>\n",
              "</table>\n",
              "</div>\n",
              "      <button class=\"colab-df-convert\" onclick=\"convertToInteractive('df-74ef219b-ab24-470f-bd6c-867057e74dfc')\"\n",
              "              title=\"Convert this dataframe to an interactive table.\"\n",
              "              style=\"display:none;\">\n",
              "        \n",
              "  <svg xmlns=\"http://www.w3.org/2000/svg\" height=\"24px\"viewBox=\"0 0 24 24\"\n",
              "       width=\"24px\">\n",
              "    <path d=\"M0 0h24v24H0V0z\" fill=\"none\"/>\n",
              "    <path d=\"M18.56 5.44l.94 2.06.94-2.06 2.06-.94-2.06-.94-.94-2.06-.94 2.06-2.06.94zm-11 1L8.5 8.5l.94-2.06 2.06-.94-2.06-.94L8.5 2.5l-.94 2.06-2.06.94zm10 10l.94 2.06.94-2.06 2.06-.94-2.06-.94-.94-2.06-.94 2.06-2.06.94z\"/><path d=\"M17.41 7.96l-1.37-1.37c-.4-.4-.92-.59-1.43-.59-.52 0-1.04.2-1.43.59L10.3 9.45l-7.72 7.72c-.78.78-.78 2.05 0 2.83L4 21.41c.39.39.9.59 1.41.59.51 0 1.02-.2 1.41-.59l7.78-7.78 2.81-2.81c.8-.78.8-2.07 0-2.86zM5.41 20L4 18.59l7.72-7.72 1.47 1.35L5.41 20z\"/>\n",
              "  </svg>\n",
              "      </button>\n",
              "      \n",
              "  <style>\n",
              "    .colab-df-container {\n",
              "      display:flex;\n",
              "      flex-wrap:wrap;\n",
              "      gap: 12px;\n",
              "    }\n",
              "\n",
              "    .colab-df-convert {\n",
              "      background-color: #E8F0FE;\n",
              "      border: none;\n",
              "      border-radius: 50%;\n",
              "      cursor: pointer;\n",
              "      display: none;\n",
              "      fill: #1967D2;\n",
              "      height: 32px;\n",
              "      padding: 0 0 0 0;\n",
              "      width: 32px;\n",
              "    }\n",
              "\n",
              "    .colab-df-convert:hover {\n",
              "      background-color: #E2EBFA;\n",
              "      box-shadow: 0px 1px 2px rgba(60, 64, 67, 0.3), 0px 1px 3px 1px rgba(60, 64, 67, 0.15);\n",
              "      fill: #174EA6;\n",
              "    }\n",
              "\n",
              "    [theme=dark] .colab-df-convert {\n",
              "      background-color: #3B4455;\n",
              "      fill: #D2E3FC;\n",
              "    }\n",
              "\n",
              "    [theme=dark] .colab-df-convert:hover {\n",
              "      background-color: #434B5C;\n",
              "      box-shadow: 0px 1px 3px 1px rgba(0, 0, 0, 0.15);\n",
              "      filter: drop-shadow(0px 1px 2px rgba(0, 0, 0, 0.3));\n",
              "      fill: #FFFFFF;\n",
              "    }\n",
              "  </style>\n",
              "\n",
              "      <script>\n",
              "        const buttonEl =\n",
              "          document.querySelector('#df-74ef219b-ab24-470f-bd6c-867057e74dfc button.colab-df-convert');\n",
              "        buttonEl.style.display =\n",
              "          google.colab.kernel.accessAllowed ? 'block' : 'none';\n",
              "\n",
              "        async function convertToInteractive(key) {\n",
              "          const element = document.querySelector('#df-74ef219b-ab24-470f-bd6c-867057e74dfc');\n",
              "          const dataTable =\n",
              "            await google.colab.kernel.invokeFunction('convertToInteractive',\n",
              "                                                     [key], {});\n",
              "          if (!dataTable) return;\n",
              "\n",
              "          const docLinkHtml = 'Like what you see? Visit the ' +\n",
              "            '<a target=\"_blank\" href=https://colab.research.google.com/notebooks/data_table.ipynb>data table notebook</a>'\n",
              "            + ' to learn more about interactive tables.';\n",
              "          element.innerHTML = '';\n",
              "          dataTable['output_type'] = 'display_data';\n",
              "          await google.colab.output.renderOutput(dataTable, element);\n",
              "          const docLink = document.createElement('div');\n",
              "          docLink.innerHTML = docLinkHtml;\n",
              "          element.appendChild(docLink);\n",
              "        }\n",
              "      </script>\n",
              "    </div>\n",
              "  </div>\n",
              "  "
            ]
          },
          "metadata": {},
          "execution_count": 40
        }
      ]
    },
    {
      "cell_type": "code",
      "source": [
        "df1 = df1.drop('Unnamed: 0',axis = 1)"
      ],
      "metadata": {
        "id": "__L09I8Z7hX-"
      },
      "execution_count": 41,
      "outputs": []
    },
    {
      "cell_type": "code",
      "source": [
        "df1"
      ],
      "metadata": {
        "colab": {
          "base_uri": "https://localhost:8080/",
          "height": 424
        },
        "id": "Tl7bMjYO7zK_",
        "outputId": "c9243e13-ab0b-4836-df6d-914a6467dc58"
      },
      "execution_count": 42,
      "outputs": [
        {
          "output_type": "execute_result",
          "data": {
            "text/plain": [
              "      Unnamed: 0.1                                            subject  \\\n",
              "0                0  ADV: Professional Teeth Whitening At Home!    ...   \n",
              "1                1   Your Membership Community & Commentary, 08-03-01   \n",
              "2                2                               ore info/grant money   \n",
              "3                3                          Sometimes Less is More...   \n",
              "4                4                  adv: Put your resume back to work   \n",
              "...            ...                                                ...   \n",
              "1009           588             Selling Wedded Bliss (was Re: Ouch...)   \n",
              "1010           589                                Java is for kiddies   \n",
              "1011           590                            [ILUG] rpm dependencies   \n",
              "1012           591                             a problem with apt-get   \n",
              "1013           592                             Goodbye Global Warming   \n",
              "\n",
              "                                                   text  label  \n",
              "0     Whiter teeth and a brighter smile are just a c...      1  \n",
              "1     \\n--1465727098.996838841831.JavaMail.RovAdmin....      1  \n",
              "2     Below is the result of your feedback form.  It...      1  \n",
              "3      Maximizer Select\\t\\n Want to pay less for ter...      1  \n",
              "4     Dear Candidate,\\n\\nWe recently came across a p...      1  \n",
              "...                                                 ...    ...  \n",
              "1009  I dunno, BB.  Women who like to be thought of ...      0  \n",
              "1010  <snip>\\nMisc rants about finding jobs, java vs...      0  \n",
              "1011  On Sat, Oct 05, 2002 at 06:06:14PM +0100, Padr...      0  \n",
              "1012  On Mon, 7 Oct 2002, Thomas Vander Stichele wro...      0  \n",
              "1013  > \"the historical record\", by which you mean *...      0  \n",
              "\n",
              "[1014 rows x 4 columns]"
            ],
            "text/html": [
              "\n",
              "  <div id=\"df-1fd91eb3-fd32-410b-9106-762e496e3534\">\n",
              "    <div class=\"colab-df-container\">\n",
              "      <div>\n",
              "<style scoped>\n",
              "    .dataframe tbody tr th:only-of-type {\n",
              "        vertical-align: middle;\n",
              "    }\n",
              "\n",
              "    .dataframe tbody tr th {\n",
              "        vertical-align: top;\n",
              "    }\n",
              "\n",
              "    .dataframe thead th {\n",
              "        text-align: right;\n",
              "    }\n",
              "</style>\n",
              "<table border=\"1\" class=\"dataframe\">\n",
              "  <thead>\n",
              "    <tr style=\"text-align: right;\">\n",
              "      <th></th>\n",
              "      <th>Unnamed: 0.1</th>\n",
              "      <th>subject</th>\n",
              "      <th>text</th>\n",
              "      <th>label</th>\n",
              "    </tr>\n",
              "  </thead>\n",
              "  <tbody>\n",
              "    <tr>\n",
              "      <th>0</th>\n",
              "      <td>0</td>\n",
              "      <td>ADV: Professional Teeth Whitening At Home!    ...</td>\n",
              "      <td>Whiter teeth and a brighter smile are just a c...</td>\n",
              "      <td>1</td>\n",
              "    </tr>\n",
              "    <tr>\n",
              "      <th>1</th>\n",
              "      <td>1</td>\n",
              "      <td>Your Membership Community &amp; Commentary, 08-03-01</td>\n",
              "      <td>\\n--1465727098.996838841831.JavaMail.RovAdmin....</td>\n",
              "      <td>1</td>\n",
              "    </tr>\n",
              "    <tr>\n",
              "      <th>2</th>\n",
              "      <td>2</td>\n",
              "      <td>ore info/grant money</td>\n",
              "      <td>Below is the result of your feedback form.  It...</td>\n",
              "      <td>1</td>\n",
              "    </tr>\n",
              "    <tr>\n",
              "      <th>3</th>\n",
              "      <td>3</td>\n",
              "      <td>Sometimes Less is More...</td>\n",
              "      <td>Maximizer Select\\t\\n Want to pay less for ter...</td>\n",
              "      <td>1</td>\n",
              "    </tr>\n",
              "    <tr>\n",
              "      <th>4</th>\n",
              "      <td>4</td>\n",
              "      <td>adv: Put your resume back to work</td>\n",
              "      <td>Dear Candidate,\\n\\nWe recently came across a p...</td>\n",
              "      <td>1</td>\n",
              "    </tr>\n",
              "    <tr>\n",
              "      <th>...</th>\n",
              "      <td>...</td>\n",
              "      <td>...</td>\n",
              "      <td>...</td>\n",
              "      <td>...</td>\n",
              "    </tr>\n",
              "    <tr>\n",
              "      <th>1009</th>\n",
              "      <td>588</td>\n",
              "      <td>Selling Wedded Bliss (was Re: Ouch...)</td>\n",
              "      <td>I dunno, BB.  Women who like to be thought of ...</td>\n",
              "      <td>0</td>\n",
              "    </tr>\n",
              "    <tr>\n",
              "      <th>1010</th>\n",
              "      <td>589</td>\n",
              "      <td>Java is for kiddies</td>\n",
              "      <td>&lt;snip&gt;\\nMisc rants about finding jobs, java vs...</td>\n",
              "      <td>0</td>\n",
              "    </tr>\n",
              "    <tr>\n",
              "      <th>1011</th>\n",
              "      <td>590</td>\n",
              "      <td>[ILUG] rpm dependencies</td>\n",
              "      <td>On Sat, Oct 05, 2002 at 06:06:14PM +0100, Padr...</td>\n",
              "      <td>0</td>\n",
              "    </tr>\n",
              "    <tr>\n",
              "      <th>1012</th>\n",
              "      <td>591</td>\n",
              "      <td>a problem with apt-get</td>\n",
              "      <td>On Mon, 7 Oct 2002, Thomas Vander Stichele wro...</td>\n",
              "      <td>0</td>\n",
              "    </tr>\n",
              "    <tr>\n",
              "      <th>1013</th>\n",
              "      <td>592</td>\n",
              "      <td>Goodbye Global Warming</td>\n",
              "      <td>&gt; \"the historical record\", by which you mean *...</td>\n",
              "      <td>0</td>\n",
              "    </tr>\n",
              "  </tbody>\n",
              "</table>\n",
              "<p>1014 rows × 4 columns</p>\n",
              "</div>\n",
              "      <button class=\"colab-df-convert\" onclick=\"convertToInteractive('df-1fd91eb3-fd32-410b-9106-762e496e3534')\"\n",
              "              title=\"Convert this dataframe to an interactive table.\"\n",
              "              style=\"display:none;\">\n",
              "        \n",
              "  <svg xmlns=\"http://www.w3.org/2000/svg\" height=\"24px\"viewBox=\"0 0 24 24\"\n",
              "       width=\"24px\">\n",
              "    <path d=\"M0 0h24v24H0V0z\" fill=\"none\"/>\n",
              "    <path d=\"M18.56 5.44l.94 2.06.94-2.06 2.06-.94-2.06-.94-.94-2.06-.94 2.06-2.06.94zm-11 1L8.5 8.5l.94-2.06 2.06-.94-2.06-.94L8.5 2.5l-.94 2.06-2.06.94zm10 10l.94 2.06.94-2.06 2.06-.94-2.06-.94-.94-2.06-.94 2.06-2.06.94z\"/><path d=\"M17.41 7.96l-1.37-1.37c-.4-.4-.92-.59-1.43-.59-.52 0-1.04.2-1.43.59L10.3 9.45l-7.72 7.72c-.78.78-.78 2.05 0 2.83L4 21.41c.39.39.9.59 1.41.59.51 0 1.02-.2 1.41-.59l7.78-7.78 2.81-2.81c.8-.78.8-2.07 0-2.86zM5.41 20L4 18.59l7.72-7.72 1.47 1.35L5.41 20z\"/>\n",
              "  </svg>\n",
              "      </button>\n",
              "      \n",
              "  <style>\n",
              "    .colab-df-container {\n",
              "      display:flex;\n",
              "      flex-wrap:wrap;\n",
              "      gap: 12px;\n",
              "    }\n",
              "\n",
              "    .colab-df-convert {\n",
              "      background-color: #E8F0FE;\n",
              "      border: none;\n",
              "      border-radius: 50%;\n",
              "      cursor: pointer;\n",
              "      display: none;\n",
              "      fill: #1967D2;\n",
              "      height: 32px;\n",
              "      padding: 0 0 0 0;\n",
              "      width: 32px;\n",
              "    }\n",
              "\n",
              "    .colab-df-convert:hover {\n",
              "      background-color: #E2EBFA;\n",
              "      box-shadow: 0px 1px 2px rgba(60, 64, 67, 0.3), 0px 1px 3px 1px rgba(60, 64, 67, 0.15);\n",
              "      fill: #174EA6;\n",
              "    }\n",
              "\n",
              "    [theme=dark] .colab-df-convert {\n",
              "      background-color: #3B4455;\n",
              "      fill: #D2E3FC;\n",
              "    }\n",
              "\n",
              "    [theme=dark] .colab-df-convert:hover {\n",
              "      background-color: #434B5C;\n",
              "      box-shadow: 0px 1px 3px 1px rgba(0, 0, 0, 0.15);\n",
              "      filter: drop-shadow(0px 1px 2px rgba(0, 0, 0, 0.3));\n",
              "      fill: #FFFFFF;\n",
              "    }\n",
              "  </style>\n",
              "\n",
              "      <script>\n",
              "        const buttonEl =\n",
              "          document.querySelector('#df-1fd91eb3-fd32-410b-9106-762e496e3534 button.colab-df-convert');\n",
              "        buttonEl.style.display =\n",
              "          google.colab.kernel.accessAllowed ? 'block' : 'none';\n",
              "\n",
              "        async function convertToInteractive(key) {\n",
              "          const element = document.querySelector('#df-1fd91eb3-fd32-410b-9106-762e496e3534');\n",
              "          const dataTable =\n",
              "            await google.colab.kernel.invokeFunction('convertToInteractive',\n",
              "                                                     [key], {});\n",
              "          if (!dataTable) return;\n",
              "\n",
              "          const docLinkHtml = 'Like what you see? Visit the ' +\n",
              "            '<a target=\"_blank\" href=https://colab.research.google.com/notebooks/data_table.ipynb>data table notebook</a>'\n",
              "            + ' to learn more about interactive tables.';\n",
              "          element.innerHTML = '';\n",
              "          dataTable['output_type'] = 'display_data';\n",
              "          await google.colab.output.renderOutput(dataTable, element);\n",
              "          const docLink = document.createElement('div');\n",
              "          docLink.innerHTML = docLinkHtml;\n",
              "          element.appendChild(docLink);\n",
              "        }\n",
              "      </script>\n",
              "    </div>\n",
              "  </div>\n",
              "  "
            ]
          },
          "metadata": {},
          "execution_count": 42
        }
      ]
    },
    {
      "cell_type": "code",
      "source": [
        "df1 = df1.drop('Unnamed: 0.1',axis = 1)"
      ],
      "metadata": {
        "id": "2_eEFBoB71LI"
      },
      "execution_count": 43,
      "outputs": []
    },
    {
      "cell_type": "code",
      "source": [
        "df1['message'] = df1['text']"
      ],
      "metadata": {
        "id": "MHqf4i-B75DC"
      },
      "execution_count": 44,
      "outputs": []
    },
    {
      "cell_type": "code",
      "source": [
        "df1"
      ],
      "metadata": {
        "colab": {
          "base_uri": "https://localhost:8080/",
          "height": 424
        },
        "id": "8_9qRQrd8T77",
        "outputId": "43641ef4-b3fc-4ab5-c951-d927b82bc5a5"
      },
      "execution_count": 45,
      "outputs": [
        {
          "output_type": "execute_result",
          "data": {
            "text/plain": [
              "                                                subject  \\\n",
              "0     ADV: Professional Teeth Whitening At Home!    ...   \n",
              "1      Your Membership Community & Commentary, 08-03-01   \n",
              "2                                  ore info/grant money   \n",
              "3                             Sometimes Less is More...   \n",
              "4                     adv: Put your resume back to work   \n",
              "...                                                 ...   \n",
              "1009             Selling Wedded Bliss (was Re: Ouch...)   \n",
              "1010                                Java is for kiddies   \n",
              "1011                            [ILUG] rpm dependencies   \n",
              "1012                             a problem with apt-get   \n",
              "1013                             Goodbye Global Warming   \n",
              "\n",
              "                                                   text  label  \\\n",
              "0     Whiter teeth and a brighter smile are just a c...      1   \n",
              "1     \\n--1465727098.996838841831.JavaMail.RovAdmin....      1   \n",
              "2     Below is the result of your feedback form.  It...      1   \n",
              "3      Maximizer Select\\t\\n Want to pay less for ter...      1   \n",
              "4     Dear Candidate,\\n\\nWe recently came across a p...      1   \n",
              "...                                                 ...    ...   \n",
              "1009  I dunno, BB.  Women who like to be thought of ...      0   \n",
              "1010  <snip>\\nMisc rants about finding jobs, java vs...      0   \n",
              "1011  On Sat, Oct 05, 2002 at 06:06:14PM +0100, Padr...      0   \n",
              "1012  On Mon, 7 Oct 2002, Thomas Vander Stichele wro...      0   \n",
              "1013  > \"the historical record\", by which you mean *...      0   \n",
              "\n",
              "                                                message  \n",
              "0     Whiter teeth and a brighter smile are just a c...  \n",
              "1     \\n--1465727098.996838841831.JavaMail.RovAdmin....  \n",
              "2     Below is the result of your feedback form.  It...  \n",
              "3      Maximizer Select\\t\\n Want to pay less for ter...  \n",
              "4     Dear Candidate,\\n\\nWe recently came across a p...  \n",
              "...                                                 ...  \n",
              "1009  I dunno, BB.  Women who like to be thought of ...  \n",
              "1010  <snip>\\nMisc rants about finding jobs, java vs...  \n",
              "1011  On Sat, Oct 05, 2002 at 06:06:14PM +0100, Padr...  \n",
              "1012  On Mon, 7 Oct 2002, Thomas Vander Stichele wro...  \n",
              "1013  > \"the historical record\", by which you mean *...  \n",
              "\n",
              "[1014 rows x 4 columns]"
            ],
            "text/html": [
              "\n",
              "  <div id=\"df-e57d3dbb-7bc6-470d-ba59-01bf35093913\">\n",
              "    <div class=\"colab-df-container\">\n",
              "      <div>\n",
              "<style scoped>\n",
              "    .dataframe tbody tr th:only-of-type {\n",
              "        vertical-align: middle;\n",
              "    }\n",
              "\n",
              "    .dataframe tbody tr th {\n",
              "        vertical-align: top;\n",
              "    }\n",
              "\n",
              "    .dataframe thead th {\n",
              "        text-align: right;\n",
              "    }\n",
              "</style>\n",
              "<table border=\"1\" class=\"dataframe\">\n",
              "  <thead>\n",
              "    <tr style=\"text-align: right;\">\n",
              "      <th></th>\n",
              "      <th>subject</th>\n",
              "      <th>text</th>\n",
              "      <th>label</th>\n",
              "      <th>message</th>\n",
              "    </tr>\n",
              "  </thead>\n",
              "  <tbody>\n",
              "    <tr>\n",
              "      <th>0</th>\n",
              "      <td>ADV: Professional Teeth Whitening At Home!    ...</td>\n",
              "      <td>Whiter teeth and a brighter smile are just a c...</td>\n",
              "      <td>1</td>\n",
              "      <td>Whiter teeth and a brighter smile are just a c...</td>\n",
              "    </tr>\n",
              "    <tr>\n",
              "      <th>1</th>\n",
              "      <td>Your Membership Community &amp; Commentary, 08-03-01</td>\n",
              "      <td>\\n--1465727098.996838841831.JavaMail.RovAdmin....</td>\n",
              "      <td>1</td>\n",
              "      <td>\\n--1465727098.996838841831.JavaMail.RovAdmin....</td>\n",
              "    </tr>\n",
              "    <tr>\n",
              "      <th>2</th>\n",
              "      <td>ore info/grant money</td>\n",
              "      <td>Below is the result of your feedback form.  It...</td>\n",
              "      <td>1</td>\n",
              "      <td>Below is the result of your feedback form.  It...</td>\n",
              "    </tr>\n",
              "    <tr>\n",
              "      <th>3</th>\n",
              "      <td>Sometimes Less is More...</td>\n",
              "      <td>Maximizer Select\\t\\n Want to pay less for ter...</td>\n",
              "      <td>1</td>\n",
              "      <td>Maximizer Select\\t\\n Want to pay less for ter...</td>\n",
              "    </tr>\n",
              "    <tr>\n",
              "      <th>4</th>\n",
              "      <td>adv: Put your resume back to work</td>\n",
              "      <td>Dear Candidate,\\n\\nWe recently came across a p...</td>\n",
              "      <td>1</td>\n",
              "      <td>Dear Candidate,\\n\\nWe recently came across a p...</td>\n",
              "    </tr>\n",
              "    <tr>\n",
              "      <th>...</th>\n",
              "      <td>...</td>\n",
              "      <td>...</td>\n",
              "      <td>...</td>\n",
              "      <td>...</td>\n",
              "    </tr>\n",
              "    <tr>\n",
              "      <th>1009</th>\n",
              "      <td>Selling Wedded Bliss (was Re: Ouch...)</td>\n",
              "      <td>I dunno, BB.  Women who like to be thought of ...</td>\n",
              "      <td>0</td>\n",
              "      <td>I dunno, BB.  Women who like to be thought of ...</td>\n",
              "    </tr>\n",
              "    <tr>\n",
              "      <th>1010</th>\n",
              "      <td>Java is for kiddies</td>\n",
              "      <td>&lt;snip&gt;\\nMisc rants about finding jobs, java vs...</td>\n",
              "      <td>0</td>\n",
              "      <td>&lt;snip&gt;\\nMisc rants about finding jobs, java vs...</td>\n",
              "    </tr>\n",
              "    <tr>\n",
              "      <th>1011</th>\n",
              "      <td>[ILUG] rpm dependencies</td>\n",
              "      <td>On Sat, Oct 05, 2002 at 06:06:14PM +0100, Padr...</td>\n",
              "      <td>0</td>\n",
              "      <td>On Sat, Oct 05, 2002 at 06:06:14PM +0100, Padr...</td>\n",
              "    </tr>\n",
              "    <tr>\n",
              "      <th>1012</th>\n",
              "      <td>a problem with apt-get</td>\n",
              "      <td>On Mon, 7 Oct 2002, Thomas Vander Stichele wro...</td>\n",
              "      <td>0</td>\n",
              "      <td>On Mon, 7 Oct 2002, Thomas Vander Stichele wro...</td>\n",
              "    </tr>\n",
              "    <tr>\n",
              "      <th>1013</th>\n",
              "      <td>Goodbye Global Warming</td>\n",
              "      <td>&gt; \"the historical record\", by which you mean *...</td>\n",
              "      <td>0</td>\n",
              "      <td>&gt; \"the historical record\", by which you mean *...</td>\n",
              "    </tr>\n",
              "  </tbody>\n",
              "</table>\n",
              "<p>1014 rows × 4 columns</p>\n",
              "</div>\n",
              "      <button class=\"colab-df-convert\" onclick=\"convertToInteractive('df-e57d3dbb-7bc6-470d-ba59-01bf35093913')\"\n",
              "              title=\"Convert this dataframe to an interactive table.\"\n",
              "              style=\"display:none;\">\n",
              "        \n",
              "  <svg xmlns=\"http://www.w3.org/2000/svg\" height=\"24px\"viewBox=\"0 0 24 24\"\n",
              "       width=\"24px\">\n",
              "    <path d=\"M0 0h24v24H0V0z\" fill=\"none\"/>\n",
              "    <path d=\"M18.56 5.44l.94 2.06.94-2.06 2.06-.94-2.06-.94-.94-2.06-.94 2.06-2.06.94zm-11 1L8.5 8.5l.94-2.06 2.06-.94-2.06-.94L8.5 2.5l-.94 2.06-2.06.94zm10 10l.94 2.06.94-2.06 2.06-.94-2.06-.94-.94-2.06-.94 2.06-2.06.94z\"/><path d=\"M17.41 7.96l-1.37-1.37c-.4-.4-.92-.59-1.43-.59-.52 0-1.04.2-1.43.59L10.3 9.45l-7.72 7.72c-.78.78-.78 2.05 0 2.83L4 21.41c.39.39.9.59 1.41.59.51 0 1.02-.2 1.41-.59l7.78-7.78 2.81-2.81c.8-.78.8-2.07 0-2.86zM5.41 20L4 18.59l7.72-7.72 1.47 1.35L5.41 20z\"/>\n",
              "  </svg>\n",
              "      </button>\n",
              "      \n",
              "  <style>\n",
              "    .colab-df-container {\n",
              "      display:flex;\n",
              "      flex-wrap:wrap;\n",
              "      gap: 12px;\n",
              "    }\n",
              "\n",
              "    .colab-df-convert {\n",
              "      background-color: #E8F0FE;\n",
              "      border: none;\n",
              "      border-radius: 50%;\n",
              "      cursor: pointer;\n",
              "      display: none;\n",
              "      fill: #1967D2;\n",
              "      height: 32px;\n",
              "      padding: 0 0 0 0;\n",
              "      width: 32px;\n",
              "    }\n",
              "\n",
              "    .colab-df-convert:hover {\n",
              "      background-color: #E2EBFA;\n",
              "      box-shadow: 0px 1px 2px rgba(60, 64, 67, 0.3), 0px 1px 3px 1px rgba(60, 64, 67, 0.15);\n",
              "      fill: #174EA6;\n",
              "    }\n",
              "\n",
              "    [theme=dark] .colab-df-convert {\n",
              "      background-color: #3B4455;\n",
              "      fill: #D2E3FC;\n",
              "    }\n",
              "\n",
              "    [theme=dark] .colab-df-convert:hover {\n",
              "      background-color: #434B5C;\n",
              "      box-shadow: 0px 1px 3px 1px rgba(0, 0, 0, 0.15);\n",
              "      filter: drop-shadow(0px 1px 2px rgba(0, 0, 0, 0.3));\n",
              "      fill: #FFFFFF;\n",
              "    }\n",
              "  </style>\n",
              "\n",
              "      <script>\n",
              "        const buttonEl =\n",
              "          document.querySelector('#df-e57d3dbb-7bc6-470d-ba59-01bf35093913 button.colab-df-convert');\n",
              "        buttonEl.style.display =\n",
              "          google.colab.kernel.accessAllowed ? 'block' : 'none';\n",
              "\n",
              "        async function convertToInteractive(key) {\n",
              "          const element = document.querySelector('#df-e57d3dbb-7bc6-470d-ba59-01bf35093913');\n",
              "          const dataTable =\n",
              "            await google.colab.kernel.invokeFunction('convertToInteractive',\n",
              "                                                     [key], {});\n",
              "          if (!dataTable) return;\n",
              "\n",
              "          const docLinkHtml = 'Like what you see? Visit the ' +\n",
              "            '<a target=\"_blank\" href=https://colab.research.google.com/notebooks/data_table.ipynb>data table notebook</a>'\n",
              "            + ' to learn more about interactive tables.';\n",
              "          element.innerHTML = '';\n",
              "          dataTable['output_type'] = 'display_data';\n",
              "          await google.colab.output.renderOutput(dataTable, element);\n",
              "          const docLink = document.createElement('div');\n",
              "          docLink.innerHTML = docLinkHtml;\n",
              "          element.appendChild(docLink);\n",
              "        }\n",
              "      </script>\n",
              "    </div>\n",
              "  </div>\n",
              "  "
            ]
          },
          "metadata": {},
          "execution_count": 45
        }
      ]
    },
    {
      "cell_type": "code",
      "source": [
        "df1['message'] = df1['message'].str.lower()"
      ],
      "metadata": {
        "id": "nXBQ6BIs769Y"
      },
      "execution_count": 46,
      "outputs": []
    },
    {
      "cell_type": "code",
      "source": [
        "df1.isnull().sum()"
      ],
      "metadata": {
        "colab": {
          "base_uri": "https://localhost:8080/"
        },
        "id": "LdxUw1lJ7_Gy",
        "outputId": "20eb07c4-218b-4791-963e-b2119f717aca"
      },
      "execution_count": 47,
      "outputs": [
        {
          "output_type": "execute_result",
          "data": {
            "text/plain": [
              "subject    2\n",
              "text       6\n",
              "label      0\n",
              "message    6\n",
              "dtype: int64"
            ]
          },
          "metadata": {},
          "execution_count": 47
        }
      ]
    },
    {
      "cell_type": "code",
      "source": [
        "df1.fillna(df1['subject'].mode().values[0],inplace=True)"
      ],
      "metadata": {
        "id": "E1K3YHfU8DKs"
      },
      "execution_count": 48,
      "outputs": []
    },
    {
      "cell_type": "code",
      "source": [
        "df1.isnull().sum()"
      ],
      "metadata": {
        "colab": {
          "base_uri": "https://localhost:8080/"
        },
        "id": "Tqt4_WKO8pQu",
        "outputId": "bf034fce-3ccf-49e8-f523-6bbed94fecb5"
      },
      "execution_count": 49,
      "outputs": [
        {
          "output_type": "execute_result",
          "data": {
            "text/plain": [
              "subject    0\n",
              "text       0\n",
              "label      0\n",
              "message    0\n",
              "dtype: int64"
            ]
          },
          "metadata": {},
          "execution_count": 49
        }
      ]
    },
    {
      "cell_type": "code",
      "source": [
        "df1['sub_mssg']=df1['subject']+df1['message']\n",
        "df1.head()"
      ],
      "metadata": {
        "colab": {
          "base_uri": "https://localhost:8080/",
          "height": 337
        },
        "id": "-6CjP_T_8t9d",
        "outputId": "4217c87a-c1aa-42b8-cae0-22b7312f7373"
      },
      "execution_count": 50,
      "outputs": [
        {
          "output_type": "execute_result",
          "data": {
            "text/plain": [
              "                                             subject  \\\n",
              "0  ADV: Professional Teeth Whitening At Home!    ...   \n",
              "1   Your Membership Community & Commentary, 08-03-01   \n",
              "2                               ore info/grant money   \n",
              "3                          Sometimes Less is More...   \n",
              "4                  adv: Put your resume back to work   \n",
              "\n",
              "                                                text  label  \\\n",
              "0  Whiter teeth and a brighter smile are just a c...      1   \n",
              "1  \\n--1465727098.996838841831.JavaMail.RovAdmin....      1   \n",
              "2  Below is the result of your feedback form.  It...      1   \n",
              "3   Maximizer Select\\t\\n Want to pay less for ter...      1   \n",
              "4  Dear Candidate,\\n\\nWe recently came across a p...      1   \n",
              "\n",
              "                                             message  \\\n",
              "0  whiter teeth and a brighter smile are just a c...   \n",
              "1  \\n--1465727098.996838841831.javamail.rovadmin....   \n",
              "2  below is the result of your feedback form.  it...   \n",
              "3   maximizer select\\t\\n want to pay less for ter...   \n",
              "4  dear candidate,\\n\\nwe recently came across a p...   \n",
              "\n",
              "                                            sub_mssg  \n",
              "0  ADV: Professional Teeth Whitening At Home!    ...  \n",
              "1  Your Membership Community & Commentary, 08-03-...  \n",
              "2  ore info/grant moneybelow is the result of you...  \n",
              "3  Sometimes Less is More... maximizer select\\t\\n...  \n",
              "4  adv: Put your resume back to workdear candidat...  "
            ],
            "text/html": [
              "\n",
              "  <div id=\"df-92e040ea-97b1-4ba7-b1b1-2e2cf6cfbc86\">\n",
              "    <div class=\"colab-df-container\">\n",
              "      <div>\n",
              "<style scoped>\n",
              "    .dataframe tbody tr th:only-of-type {\n",
              "        vertical-align: middle;\n",
              "    }\n",
              "\n",
              "    .dataframe tbody tr th {\n",
              "        vertical-align: top;\n",
              "    }\n",
              "\n",
              "    .dataframe thead th {\n",
              "        text-align: right;\n",
              "    }\n",
              "</style>\n",
              "<table border=\"1\" class=\"dataframe\">\n",
              "  <thead>\n",
              "    <tr style=\"text-align: right;\">\n",
              "      <th></th>\n",
              "      <th>subject</th>\n",
              "      <th>text</th>\n",
              "      <th>label</th>\n",
              "      <th>message</th>\n",
              "      <th>sub_mssg</th>\n",
              "    </tr>\n",
              "  </thead>\n",
              "  <tbody>\n",
              "    <tr>\n",
              "      <th>0</th>\n",
              "      <td>ADV: Professional Teeth Whitening At Home!    ...</td>\n",
              "      <td>Whiter teeth and a brighter smile are just a c...</td>\n",
              "      <td>1</td>\n",
              "      <td>whiter teeth and a brighter smile are just a c...</td>\n",
              "      <td>ADV: Professional Teeth Whitening At Home!    ...</td>\n",
              "    </tr>\n",
              "    <tr>\n",
              "      <th>1</th>\n",
              "      <td>Your Membership Community &amp; Commentary, 08-03-01</td>\n",
              "      <td>\\n--1465727098.996838841831.JavaMail.RovAdmin....</td>\n",
              "      <td>1</td>\n",
              "      <td>\\n--1465727098.996838841831.javamail.rovadmin....</td>\n",
              "      <td>Your Membership Community &amp; Commentary, 08-03-...</td>\n",
              "    </tr>\n",
              "    <tr>\n",
              "      <th>2</th>\n",
              "      <td>ore info/grant money</td>\n",
              "      <td>Below is the result of your feedback form.  It...</td>\n",
              "      <td>1</td>\n",
              "      <td>below is the result of your feedback form.  it...</td>\n",
              "      <td>ore info/grant moneybelow is the result of you...</td>\n",
              "    </tr>\n",
              "    <tr>\n",
              "      <th>3</th>\n",
              "      <td>Sometimes Less is More...</td>\n",
              "      <td>Maximizer Select\\t\\n Want to pay less for ter...</td>\n",
              "      <td>1</td>\n",
              "      <td>maximizer select\\t\\n want to pay less for ter...</td>\n",
              "      <td>Sometimes Less is More... maximizer select\\t\\n...</td>\n",
              "    </tr>\n",
              "    <tr>\n",
              "      <th>4</th>\n",
              "      <td>adv: Put your resume back to work</td>\n",
              "      <td>Dear Candidate,\\n\\nWe recently came across a p...</td>\n",
              "      <td>1</td>\n",
              "      <td>dear candidate,\\n\\nwe recently came across a p...</td>\n",
              "      <td>adv: Put your resume back to workdear candidat...</td>\n",
              "    </tr>\n",
              "  </tbody>\n",
              "</table>\n",
              "</div>\n",
              "      <button class=\"colab-df-convert\" onclick=\"convertToInteractive('df-92e040ea-97b1-4ba7-b1b1-2e2cf6cfbc86')\"\n",
              "              title=\"Convert this dataframe to an interactive table.\"\n",
              "              style=\"display:none;\">\n",
              "        \n",
              "  <svg xmlns=\"http://www.w3.org/2000/svg\" height=\"24px\"viewBox=\"0 0 24 24\"\n",
              "       width=\"24px\">\n",
              "    <path d=\"M0 0h24v24H0V0z\" fill=\"none\"/>\n",
              "    <path d=\"M18.56 5.44l.94 2.06.94-2.06 2.06-.94-2.06-.94-.94-2.06-.94 2.06-2.06.94zm-11 1L8.5 8.5l.94-2.06 2.06-.94-2.06-.94L8.5 2.5l-.94 2.06-2.06.94zm10 10l.94 2.06.94-2.06 2.06-.94-2.06-.94-.94-2.06-.94 2.06-2.06.94z\"/><path d=\"M17.41 7.96l-1.37-1.37c-.4-.4-.92-.59-1.43-.59-.52 0-1.04.2-1.43.59L10.3 9.45l-7.72 7.72c-.78.78-.78 2.05 0 2.83L4 21.41c.39.39.9.59 1.41.59.51 0 1.02-.2 1.41-.59l7.78-7.78 2.81-2.81c.8-.78.8-2.07 0-2.86zM5.41 20L4 18.59l7.72-7.72 1.47 1.35L5.41 20z\"/>\n",
              "  </svg>\n",
              "      </button>\n",
              "      \n",
              "  <style>\n",
              "    .colab-df-container {\n",
              "      display:flex;\n",
              "      flex-wrap:wrap;\n",
              "      gap: 12px;\n",
              "    }\n",
              "\n",
              "    .colab-df-convert {\n",
              "      background-color: #E8F0FE;\n",
              "      border: none;\n",
              "      border-radius: 50%;\n",
              "      cursor: pointer;\n",
              "      display: none;\n",
              "      fill: #1967D2;\n",
              "      height: 32px;\n",
              "      padding: 0 0 0 0;\n",
              "      width: 32px;\n",
              "    }\n",
              "\n",
              "    .colab-df-convert:hover {\n",
              "      background-color: #E2EBFA;\n",
              "      box-shadow: 0px 1px 2px rgba(60, 64, 67, 0.3), 0px 1px 3px 1px rgba(60, 64, 67, 0.15);\n",
              "      fill: #174EA6;\n",
              "    }\n",
              "\n",
              "    [theme=dark] .colab-df-convert {\n",
              "      background-color: #3B4455;\n",
              "      fill: #D2E3FC;\n",
              "    }\n",
              "\n",
              "    [theme=dark] .colab-df-convert:hover {\n",
              "      background-color: #434B5C;\n",
              "      box-shadow: 0px 1px 3px 1px rgba(0, 0, 0, 0.15);\n",
              "      filter: drop-shadow(0px 1px 2px rgba(0, 0, 0, 0.3));\n",
              "      fill: #FFFFFF;\n",
              "    }\n",
              "  </style>\n",
              "\n",
              "      <script>\n",
              "        const buttonEl =\n",
              "          document.querySelector('#df-92e040ea-97b1-4ba7-b1b1-2e2cf6cfbc86 button.colab-df-convert');\n",
              "        buttonEl.style.display =\n",
              "          google.colab.kernel.accessAllowed ? 'block' : 'none';\n",
              "\n",
              "        async function convertToInteractive(key) {\n",
              "          const element = document.querySelector('#df-92e040ea-97b1-4ba7-b1b1-2e2cf6cfbc86');\n",
              "          const dataTable =\n",
              "            await google.colab.kernel.invokeFunction('convertToInteractive',\n",
              "                                                     [key], {});\n",
              "          if (!dataTable) return;\n",
              "\n",
              "          const docLinkHtml = 'Like what you see? Visit the ' +\n",
              "            '<a target=\"_blank\" href=https://colab.research.google.com/notebooks/data_table.ipynb>data table notebook</a>'\n",
              "            + ' to learn more about interactive tables.';\n",
              "          element.innerHTML = '';\n",
              "          dataTable['output_type'] = 'display_data';\n",
              "          await google.colab.output.renderOutput(dataTable, element);\n",
              "          const docLink = document.createElement('div');\n",
              "          docLink.innerHTML = docLinkHtml;\n",
              "          element.appendChild(docLink);\n",
              "        }\n",
              "      </script>\n",
              "    </div>\n",
              "  </div>\n",
              "  "
            ]
          },
          "metadata": {},
          "execution_count": 50
        }
      ]
    },
    {
      "cell_type": "code",
      "source": [
        "df1['sub_mssg'].describe()"
      ],
      "metadata": {
        "colab": {
          "base_uri": "https://localhost:8080/"
        },
        "id": "J3dnkNJW81ua",
        "outputId": "897a538f-7fad-4a8c-df31-31626685fc77"
      },
      "execution_count": 51,
      "outputs": [
        {
          "output_type": "execute_result",
          "data": {
            "text/plain": [
              "count                                                  1014\n",
              "unique                                                  983\n",
              "top       Sourceforge sells outurl: http://www.askbjoern...\n",
              "freq                                                      3\n",
              "Name: sub_mssg, dtype: object"
            ]
          },
          "metadata": {},
          "execution_count": 51
        }
      ]
    },
    {
      "cell_type": "code",
      "source": [
        "df1['length']=df1['sub_mssg'].apply(len)\n",
        "df1.head()"
      ],
      "metadata": {
        "colab": {
          "base_uri": "https://localhost:8080/",
          "height": 337
        },
        "id": "PkQsmwzI86fE",
        "outputId": "8180fbf7-fa47-49e1-b979-dc13d32eff66"
      },
      "execution_count": 52,
      "outputs": [
        {
          "output_type": "execute_result",
          "data": {
            "text/plain": [
              "                                             subject  \\\n",
              "0  ADV: Professional Teeth Whitening At Home!    ...   \n",
              "1   Your Membership Community & Commentary, 08-03-01   \n",
              "2                               ore info/grant money   \n",
              "3                          Sometimes Less is More...   \n",
              "4                  adv: Put your resume back to work   \n",
              "\n",
              "                                                text  label  \\\n",
              "0  Whiter teeth and a brighter smile are just a c...      1   \n",
              "1  \\n--1465727098.996838841831.JavaMail.RovAdmin....      1   \n",
              "2  Below is the result of your feedback form.  It...      1   \n",
              "3   Maximizer Select\\t\\n Want to pay less for ter...      1   \n",
              "4  Dear Candidate,\\n\\nWe recently came across a p...      1   \n",
              "\n",
              "                                             message  \\\n",
              "0  whiter teeth and a brighter smile are just a c...   \n",
              "1  \\n--1465727098.996838841831.javamail.rovadmin....   \n",
              "2  below is the result of your feedback form.  it...   \n",
              "3   maximizer select\\t\\n want to pay less for ter...   \n",
              "4  dear candidate,\\n\\nwe recently came across a p...   \n",
              "\n",
              "                                            sub_mssg  length  \n",
              "0  ADV: Professional Teeth Whitening At Home!    ...     856  \n",
              "1  Your Membership Community & Commentary, 08-03-...   35024  \n",
              "2  ore info/grant moneybelow is the result of you...    1136  \n",
              "3  Sometimes Less is More... maximizer select\\t\\n...    1283  \n",
              "4  adv: Put your resume back to workdear candidat...    1468  "
            ],
            "text/html": [
              "\n",
              "  <div id=\"df-08281661-9b30-4c42-b738-dc7d7bbf3b04\">\n",
              "    <div class=\"colab-df-container\">\n",
              "      <div>\n",
              "<style scoped>\n",
              "    .dataframe tbody tr th:only-of-type {\n",
              "        vertical-align: middle;\n",
              "    }\n",
              "\n",
              "    .dataframe tbody tr th {\n",
              "        vertical-align: top;\n",
              "    }\n",
              "\n",
              "    .dataframe thead th {\n",
              "        text-align: right;\n",
              "    }\n",
              "</style>\n",
              "<table border=\"1\" class=\"dataframe\">\n",
              "  <thead>\n",
              "    <tr style=\"text-align: right;\">\n",
              "      <th></th>\n",
              "      <th>subject</th>\n",
              "      <th>text</th>\n",
              "      <th>label</th>\n",
              "      <th>message</th>\n",
              "      <th>sub_mssg</th>\n",
              "      <th>length</th>\n",
              "    </tr>\n",
              "  </thead>\n",
              "  <tbody>\n",
              "    <tr>\n",
              "      <th>0</th>\n",
              "      <td>ADV: Professional Teeth Whitening At Home!    ...</td>\n",
              "      <td>Whiter teeth and a brighter smile are just a c...</td>\n",
              "      <td>1</td>\n",
              "      <td>whiter teeth and a brighter smile are just a c...</td>\n",
              "      <td>ADV: Professional Teeth Whitening At Home!    ...</td>\n",
              "      <td>856</td>\n",
              "    </tr>\n",
              "    <tr>\n",
              "      <th>1</th>\n",
              "      <td>Your Membership Community &amp; Commentary, 08-03-01</td>\n",
              "      <td>\\n--1465727098.996838841831.JavaMail.RovAdmin....</td>\n",
              "      <td>1</td>\n",
              "      <td>\\n--1465727098.996838841831.javamail.rovadmin....</td>\n",
              "      <td>Your Membership Community &amp; Commentary, 08-03-...</td>\n",
              "      <td>35024</td>\n",
              "    </tr>\n",
              "    <tr>\n",
              "      <th>2</th>\n",
              "      <td>ore info/grant money</td>\n",
              "      <td>Below is the result of your feedback form.  It...</td>\n",
              "      <td>1</td>\n",
              "      <td>below is the result of your feedback form.  it...</td>\n",
              "      <td>ore info/grant moneybelow is the result of you...</td>\n",
              "      <td>1136</td>\n",
              "    </tr>\n",
              "    <tr>\n",
              "      <th>3</th>\n",
              "      <td>Sometimes Less is More...</td>\n",
              "      <td>Maximizer Select\\t\\n Want to pay less for ter...</td>\n",
              "      <td>1</td>\n",
              "      <td>maximizer select\\t\\n want to pay less for ter...</td>\n",
              "      <td>Sometimes Less is More... maximizer select\\t\\n...</td>\n",
              "      <td>1283</td>\n",
              "    </tr>\n",
              "    <tr>\n",
              "      <th>4</th>\n",
              "      <td>adv: Put your resume back to work</td>\n",
              "      <td>Dear Candidate,\\n\\nWe recently came across a p...</td>\n",
              "      <td>1</td>\n",
              "      <td>dear candidate,\\n\\nwe recently came across a p...</td>\n",
              "      <td>adv: Put your resume back to workdear candidat...</td>\n",
              "      <td>1468</td>\n",
              "    </tr>\n",
              "  </tbody>\n",
              "</table>\n",
              "</div>\n",
              "      <button class=\"colab-df-convert\" onclick=\"convertToInteractive('df-08281661-9b30-4c42-b738-dc7d7bbf3b04')\"\n",
              "              title=\"Convert this dataframe to an interactive table.\"\n",
              "              style=\"display:none;\">\n",
              "        \n",
              "  <svg xmlns=\"http://www.w3.org/2000/svg\" height=\"24px\"viewBox=\"0 0 24 24\"\n",
              "       width=\"24px\">\n",
              "    <path d=\"M0 0h24v24H0V0z\" fill=\"none\"/>\n",
              "    <path d=\"M18.56 5.44l.94 2.06.94-2.06 2.06-.94-2.06-.94-.94-2.06-.94 2.06-2.06.94zm-11 1L8.5 8.5l.94-2.06 2.06-.94-2.06-.94L8.5 2.5l-.94 2.06-2.06.94zm10 10l.94 2.06.94-2.06 2.06-.94-2.06-.94-.94-2.06-.94 2.06-2.06.94z\"/><path d=\"M17.41 7.96l-1.37-1.37c-.4-.4-.92-.59-1.43-.59-.52 0-1.04.2-1.43.59L10.3 9.45l-7.72 7.72c-.78.78-.78 2.05 0 2.83L4 21.41c.39.39.9.59 1.41.59.51 0 1.02-.2 1.41-.59l7.78-7.78 2.81-2.81c.8-.78.8-2.07 0-2.86zM5.41 20L4 18.59l7.72-7.72 1.47 1.35L5.41 20z\"/>\n",
              "  </svg>\n",
              "      </button>\n",
              "      \n",
              "  <style>\n",
              "    .colab-df-container {\n",
              "      display:flex;\n",
              "      flex-wrap:wrap;\n",
              "      gap: 12px;\n",
              "    }\n",
              "\n",
              "    .colab-df-convert {\n",
              "      background-color: #E8F0FE;\n",
              "      border: none;\n",
              "      border-radius: 50%;\n",
              "      cursor: pointer;\n",
              "      display: none;\n",
              "      fill: #1967D2;\n",
              "      height: 32px;\n",
              "      padding: 0 0 0 0;\n",
              "      width: 32px;\n",
              "    }\n",
              "\n",
              "    .colab-df-convert:hover {\n",
              "      background-color: #E2EBFA;\n",
              "      box-shadow: 0px 1px 2px rgba(60, 64, 67, 0.3), 0px 1px 3px 1px rgba(60, 64, 67, 0.15);\n",
              "      fill: #174EA6;\n",
              "    }\n",
              "\n",
              "    [theme=dark] .colab-df-convert {\n",
              "      background-color: #3B4455;\n",
              "      fill: #D2E3FC;\n",
              "    }\n",
              "\n",
              "    [theme=dark] .colab-df-convert:hover {\n",
              "      background-color: #434B5C;\n",
              "      box-shadow: 0px 1px 3px 1px rgba(0, 0, 0, 0.15);\n",
              "      filter: drop-shadow(0px 1px 2px rgba(0, 0, 0, 0.3));\n",
              "      fill: #FFFFFF;\n",
              "    }\n",
              "  </style>\n",
              "\n",
              "      <script>\n",
              "        const buttonEl =\n",
              "          document.querySelector('#df-08281661-9b30-4c42-b738-dc7d7bbf3b04 button.colab-df-convert');\n",
              "        buttonEl.style.display =\n",
              "          google.colab.kernel.accessAllowed ? 'block' : 'none';\n",
              "\n",
              "        async function convertToInteractive(key) {\n",
              "          const element = document.querySelector('#df-08281661-9b30-4c42-b738-dc7d7bbf3b04');\n",
              "          const dataTable =\n",
              "            await google.colab.kernel.invokeFunction('convertToInteractive',\n",
              "                                                     [key], {});\n",
              "          if (!dataTable) return;\n",
              "\n",
              "          const docLinkHtml = 'Like what you see? Visit the ' +\n",
              "            '<a target=\"_blank\" href=https://colab.research.google.com/notebooks/data_table.ipynb>data table notebook</a>'\n",
              "            + ' to learn more about interactive tables.';\n",
              "          element.innerHTML = '';\n",
              "          dataTable['output_type'] = 'display_data';\n",
              "          await google.colab.output.renderOutput(dataTable, element);\n",
              "          const docLink = document.createElement('div');\n",
              "          docLink.innerHTML = docLinkHtml;\n",
              "          element.appendChild(docLink);\n",
              "        }\n",
              "      </script>\n",
              "    </div>\n",
              "  </div>\n",
              "  "
            ]
          },
          "metadata": {},
          "execution_count": 52
        }
      ]
    },
    {
      "cell_type": "code",
      "source": [
        "df1.drop('subject',axis=1,inplace=True)"
      ],
      "metadata": {
        "id": "HzfpDlMn8_Sq"
      },
      "execution_count": 53,
      "outputs": []
    },
    {
      "cell_type": "code",
      "source": [
        "df1"
      ],
      "metadata": {
        "colab": {
          "base_uri": "https://localhost:8080/",
          "height": 468
        },
        "id": "OJ_RiiCh9Fzc",
        "outputId": "d0df7574-4c7d-4bd4-84ad-adc0356c1346"
      },
      "execution_count": 54,
      "outputs": [
        {
          "output_type": "execute_result",
          "data": {
            "text/plain": [
              "                                                   text  label  \\\n",
              "0     Whiter teeth and a brighter smile are just a c...      1   \n",
              "1     \\n--1465727098.996838841831.JavaMail.RovAdmin....      1   \n",
              "2     Below is the result of your feedback form.  It...      1   \n",
              "3      Maximizer Select\\t\\n Want to pay less for ter...      1   \n",
              "4     Dear Candidate,\\n\\nWe recently came across a p...      1   \n",
              "...                                                 ...    ...   \n",
              "1009  I dunno, BB.  Women who like to be thought of ...      0   \n",
              "1010  <snip>\\nMisc rants about finding jobs, java vs...      0   \n",
              "1011  On Sat, Oct 05, 2002 at 06:06:14PM +0100, Padr...      0   \n",
              "1012  On Mon, 7 Oct 2002, Thomas Vander Stichele wro...      0   \n",
              "1013  > \"the historical record\", by which you mean *...      0   \n",
              "\n",
              "                                                message  \\\n",
              "0     whiter teeth and a brighter smile are just a c...   \n",
              "1     \\n--1465727098.996838841831.javamail.rovadmin....   \n",
              "2     below is the result of your feedback form.  it...   \n",
              "3      maximizer select\\t\\n want to pay less for ter...   \n",
              "4     dear candidate,\\n\\nwe recently came across a p...   \n",
              "...                                                 ...   \n",
              "1009  i dunno, bb.  women who like to be thought of ...   \n",
              "1010  <snip>\\nmisc rants about finding jobs, java vs...   \n",
              "1011  on sat, oct 05, 2002 at 06:06:14pm +0100, padr...   \n",
              "1012  on mon, 7 oct 2002, thomas vander stichele wro...   \n",
              "1013  > \"the historical record\", by which you mean *...   \n",
              "\n",
              "                                               sub_mssg  length  \n",
              "0     ADV: Professional Teeth Whitening At Home!    ...     856  \n",
              "1     Your Membership Community & Commentary, 08-03-...   35024  \n",
              "2     ore info/grant moneybelow is the result of you...    1136  \n",
              "3     Sometimes Less is More... maximizer select\\t\\n...    1283  \n",
              "4     adv: Put your resume back to workdear candidat...    1468  \n",
              "...                                                 ...     ...  \n",
              "1009  Selling Wedded Bliss (was Re: Ouch...)i dunno,...    3419  \n",
              "1010  Java is for kiddies<snip>\\nmisc rants about fi...    3863  \n",
              "1011  [ILUG] rpm dependencieson sat, oct 05, 2002 at...    1138  \n",
              "1012  a problem with apt-geton mon, 7 oct 2002, thom...    1061  \n",
              "1013  Goodbye Global Warming> \"the historical record...    2474  \n",
              "\n",
              "[1014 rows x 5 columns]"
            ],
            "text/html": [
              "\n",
              "  <div id=\"df-9373fdf1-cf5a-4896-9512-ac20cc9d444b\">\n",
              "    <div class=\"colab-df-container\">\n",
              "      <div>\n",
              "<style scoped>\n",
              "    .dataframe tbody tr th:only-of-type {\n",
              "        vertical-align: middle;\n",
              "    }\n",
              "\n",
              "    .dataframe tbody tr th {\n",
              "        vertical-align: top;\n",
              "    }\n",
              "\n",
              "    .dataframe thead th {\n",
              "        text-align: right;\n",
              "    }\n",
              "</style>\n",
              "<table border=\"1\" class=\"dataframe\">\n",
              "  <thead>\n",
              "    <tr style=\"text-align: right;\">\n",
              "      <th></th>\n",
              "      <th>text</th>\n",
              "      <th>label</th>\n",
              "      <th>message</th>\n",
              "      <th>sub_mssg</th>\n",
              "      <th>length</th>\n",
              "    </tr>\n",
              "  </thead>\n",
              "  <tbody>\n",
              "    <tr>\n",
              "      <th>0</th>\n",
              "      <td>Whiter teeth and a brighter smile are just a c...</td>\n",
              "      <td>1</td>\n",
              "      <td>whiter teeth and a brighter smile are just a c...</td>\n",
              "      <td>ADV: Professional Teeth Whitening At Home!    ...</td>\n",
              "      <td>856</td>\n",
              "    </tr>\n",
              "    <tr>\n",
              "      <th>1</th>\n",
              "      <td>\\n--1465727098.996838841831.JavaMail.RovAdmin....</td>\n",
              "      <td>1</td>\n",
              "      <td>\\n--1465727098.996838841831.javamail.rovadmin....</td>\n",
              "      <td>Your Membership Community &amp; Commentary, 08-03-...</td>\n",
              "      <td>35024</td>\n",
              "    </tr>\n",
              "    <tr>\n",
              "      <th>2</th>\n",
              "      <td>Below is the result of your feedback form.  It...</td>\n",
              "      <td>1</td>\n",
              "      <td>below is the result of your feedback form.  it...</td>\n",
              "      <td>ore info/grant moneybelow is the result of you...</td>\n",
              "      <td>1136</td>\n",
              "    </tr>\n",
              "    <tr>\n",
              "      <th>3</th>\n",
              "      <td>Maximizer Select\\t\\n Want to pay less for ter...</td>\n",
              "      <td>1</td>\n",
              "      <td>maximizer select\\t\\n want to pay less for ter...</td>\n",
              "      <td>Sometimes Less is More... maximizer select\\t\\n...</td>\n",
              "      <td>1283</td>\n",
              "    </tr>\n",
              "    <tr>\n",
              "      <th>4</th>\n",
              "      <td>Dear Candidate,\\n\\nWe recently came across a p...</td>\n",
              "      <td>1</td>\n",
              "      <td>dear candidate,\\n\\nwe recently came across a p...</td>\n",
              "      <td>adv: Put your resume back to workdear candidat...</td>\n",
              "      <td>1468</td>\n",
              "    </tr>\n",
              "    <tr>\n",
              "      <th>...</th>\n",
              "      <td>...</td>\n",
              "      <td>...</td>\n",
              "      <td>...</td>\n",
              "      <td>...</td>\n",
              "      <td>...</td>\n",
              "    </tr>\n",
              "    <tr>\n",
              "      <th>1009</th>\n",
              "      <td>I dunno, BB.  Women who like to be thought of ...</td>\n",
              "      <td>0</td>\n",
              "      <td>i dunno, bb.  women who like to be thought of ...</td>\n",
              "      <td>Selling Wedded Bliss (was Re: Ouch...)i dunno,...</td>\n",
              "      <td>3419</td>\n",
              "    </tr>\n",
              "    <tr>\n",
              "      <th>1010</th>\n",
              "      <td>&lt;snip&gt;\\nMisc rants about finding jobs, java vs...</td>\n",
              "      <td>0</td>\n",
              "      <td>&lt;snip&gt;\\nmisc rants about finding jobs, java vs...</td>\n",
              "      <td>Java is for kiddies&lt;snip&gt;\\nmisc rants about fi...</td>\n",
              "      <td>3863</td>\n",
              "    </tr>\n",
              "    <tr>\n",
              "      <th>1011</th>\n",
              "      <td>On Sat, Oct 05, 2002 at 06:06:14PM +0100, Padr...</td>\n",
              "      <td>0</td>\n",
              "      <td>on sat, oct 05, 2002 at 06:06:14pm +0100, padr...</td>\n",
              "      <td>[ILUG] rpm dependencieson sat, oct 05, 2002 at...</td>\n",
              "      <td>1138</td>\n",
              "    </tr>\n",
              "    <tr>\n",
              "      <th>1012</th>\n",
              "      <td>On Mon, 7 Oct 2002, Thomas Vander Stichele wro...</td>\n",
              "      <td>0</td>\n",
              "      <td>on mon, 7 oct 2002, thomas vander stichele wro...</td>\n",
              "      <td>a problem with apt-geton mon, 7 oct 2002, thom...</td>\n",
              "      <td>1061</td>\n",
              "    </tr>\n",
              "    <tr>\n",
              "      <th>1013</th>\n",
              "      <td>&gt; \"the historical record\", by which you mean *...</td>\n",
              "      <td>0</td>\n",
              "      <td>&gt; \"the historical record\", by which you mean *...</td>\n",
              "      <td>Goodbye Global Warming&gt; \"the historical record...</td>\n",
              "      <td>2474</td>\n",
              "    </tr>\n",
              "  </tbody>\n",
              "</table>\n",
              "<p>1014 rows × 5 columns</p>\n",
              "</div>\n",
              "      <button class=\"colab-df-convert\" onclick=\"convertToInteractive('df-9373fdf1-cf5a-4896-9512-ac20cc9d444b')\"\n",
              "              title=\"Convert this dataframe to an interactive table.\"\n",
              "              style=\"display:none;\">\n",
              "        \n",
              "  <svg xmlns=\"http://www.w3.org/2000/svg\" height=\"24px\"viewBox=\"0 0 24 24\"\n",
              "       width=\"24px\">\n",
              "    <path d=\"M0 0h24v24H0V0z\" fill=\"none\"/>\n",
              "    <path d=\"M18.56 5.44l.94 2.06.94-2.06 2.06-.94-2.06-.94-.94-2.06-.94 2.06-2.06.94zm-11 1L8.5 8.5l.94-2.06 2.06-.94-2.06-.94L8.5 2.5l-.94 2.06-2.06.94zm10 10l.94 2.06.94-2.06 2.06-.94-2.06-.94-.94-2.06-.94 2.06-2.06.94z\"/><path d=\"M17.41 7.96l-1.37-1.37c-.4-.4-.92-.59-1.43-.59-.52 0-1.04.2-1.43.59L10.3 9.45l-7.72 7.72c-.78.78-.78 2.05 0 2.83L4 21.41c.39.39.9.59 1.41.59.51 0 1.02-.2 1.41-.59l7.78-7.78 2.81-2.81c.8-.78.8-2.07 0-2.86zM5.41 20L4 18.59l7.72-7.72 1.47 1.35L5.41 20z\"/>\n",
              "  </svg>\n",
              "      </button>\n",
              "      \n",
              "  <style>\n",
              "    .colab-df-container {\n",
              "      display:flex;\n",
              "      flex-wrap:wrap;\n",
              "      gap: 12px;\n",
              "    }\n",
              "\n",
              "    .colab-df-convert {\n",
              "      background-color: #E8F0FE;\n",
              "      border: none;\n",
              "      border-radius: 50%;\n",
              "      cursor: pointer;\n",
              "      display: none;\n",
              "      fill: #1967D2;\n",
              "      height: 32px;\n",
              "      padding: 0 0 0 0;\n",
              "      width: 32px;\n",
              "    }\n",
              "\n",
              "    .colab-df-convert:hover {\n",
              "      background-color: #E2EBFA;\n",
              "      box-shadow: 0px 1px 2px rgba(60, 64, 67, 0.3), 0px 1px 3px 1px rgba(60, 64, 67, 0.15);\n",
              "      fill: #174EA6;\n",
              "    }\n",
              "\n",
              "    [theme=dark] .colab-df-convert {\n",
              "      background-color: #3B4455;\n",
              "      fill: #D2E3FC;\n",
              "    }\n",
              "\n",
              "    [theme=dark] .colab-df-convert:hover {\n",
              "      background-color: #434B5C;\n",
              "      box-shadow: 0px 1px 3px 1px rgba(0, 0, 0, 0.15);\n",
              "      filter: drop-shadow(0px 1px 2px rgba(0, 0, 0, 0.3));\n",
              "      fill: #FFFFFF;\n",
              "    }\n",
              "  </style>\n",
              "\n",
              "      <script>\n",
              "        const buttonEl =\n",
              "          document.querySelector('#df-9373fdf1-cf5a-4896-9512-ac20cc9d444b button.colab-df-convert');\n",
              "        buttonEl.style.display =\n",
              "          google.colab.kernel.accessAllowed ? 'block' : 'none';\n",
              "\n",
              "        async function convertToInteractive(key) {\n",
              "          const element = document.querySelector('#df-9373fdf1-cf5a-4896-9512-ac20cc9d444b');\n",
              "          const dataTable =\n",
              "            await google.colab.kernel.invokeFunction('convertToInteractive',\n",
              "                                                     [key], {});\n",
              "          if (!dataTable) return;\n",
              "\n",
              "          const docLinkHtml = 'Like what you see? Visit the ' +\n",
              "            '<a target=\"_blank\" href=https://colab.research.google.com/notebooks/data_table.ipynb>data table notebook</a>'\n",
              "            + ' to learn more about interactive tables.';\n",
              "          element.innerHTML = '';\n",
              "          dataTable['output_type'] = 'display_data';\n",
              "          await google.colab.output.renderOutput(dataTable, element);\n",
              "          const docLink = document.createElement('div');\n",
              "          docLink.innerHTML = docLinkHtml;\n",
              "          element.appendChild(docLink);\n",
              "        }\n",
              "      </script>\n",
              "    </div>\n",
              "  </div>\n",
              "  "
            ]
          },
          "metadata": {},
          "execution_count": 54
        }
      ]
    },
    {
      "cell_type": "code",
      "source": [
        "df1['message'][0]"
      ],
      "metadata": {
        "colab": {
          "base_uri": "https://localhost:8080/",
          "height": 104
        },
        "id": "U-1picY39Laf",
        "outputId": "fb4658f1-82aa-4add-9f88-0f33233604a3"
      },
      "execution_count": 55,
      "outputs": [
        {
          "output_type": "execute_result",
          "data": {
            "text/plain": [
              "'whiter teeth and a brighter smile are just a click away! \\nhttp://www.newnamedns.com/dental/\\n\\nhave you considered professional teeth whitening? if so, you know it usually costs between $300 and $500 from your local dentist!\\n\\nvisit our site to learn how to professionally whiten your teeth, using the exact same whitening system your dentist uses, at a fraction of the cost!\\n\\nwe know our product is the best on the market, and we back it with a 30 day money back guarantee!\\n\\nclick here to find out more!\\nhttp://www.newnamedns.com/dental/\\n         \\n        \\n        \\n        \\n       \\n---------------------------------------\\nto easily remove your address from the list, go to: \\nhttp://www.newnamedns.com/stopthemailplease/\\nplease allow 48-72 hours for removal.\\n\\n'"
            ],
            "application/vnd.google.colaboratory.intrinsic+json": {
              "type": "string"
            }
          },
          "metadata": {},
          "execution_count": 55
        }
      ]
    },
    {
      "cell_type": "code",
      "source": [
        "mssg=decontact(df1['message'][70])\n",
        "mssg"
      ],
      "metadata": {
        "colab": {
          "base_uri": "https://localhost:8080/",
          "height": 139
        },
        "id": "knswtn1k9Nip",
        "outputId": "5e050066-ba28-4c3f-cfa8-ad626153bbb6"
      },
      "execution_count": 56,
      "outputs": [
        {
          "output_type": "execute_result",
          "data": {
            "text/plain": [
              "'we ship worldwide within 24 hours!\\n\\nno waiting rooms, drug stores, or embarrassing conversations. \\nour licensed pharmacists will have your order to you in 1 or 2 days!\\nclick this link to get started today!   \\nhttp://www.atlanticmeds.com/main2.php?rx=17692\\n   \\nviagra and many other prescription drugs available, including: \\n   \\nxenical and phentermine, weight loss medications used to help\\noverweight people lose weight and keep this weight off. \\n\\nvaltrex, treatement for herpes. \\n   \\npropecia, the first pill that effectively treats\\nmale pattern hair loss. \\nhttp://www.atlanticmeds.com/main2.php?rx=17692\\nzyban, zyban is the first nicotine-free pill that,\\nas part of a  comprehensive program from \\nyour health care  professional, can help you\\nstop smoking. \\nhttp://www.atlanticmeds.com/main2.php?rx=17692\\nclaritin, provides effective relief from the  symptoms \\nof seasonal allergies.  and much more... \\n\\ncilck this link to get started today!\\nhttp://www.atlanticmeds.com/main2.php?rx=17692\\n   \\n\\n   \\n \\nto be extracted from future contacts visit:\\nhttp://worldrxco.com/remove.php\\nflierguy49_2000\\nhttp://xent.com/mailman/listinfo/fork\\n\\n\\n'"
            ],
            "application/vnd.google.colaboratory.intrinsic+json": {
              "type": "string"
            }
          },
          "metadata": {},
          "execution_count": 56
        }
      ]
    },
    {
      "cell_type": "code",
      "source": [
        "df1['sub_mssg']=df1['sub_mssg'].str.replace(r'\\d+(\\.\\d+)?', 'numbers')\n",
        "df1['sub_mssg'][0]"
      ],
      "metadata": {
        "colab": {
          "base_uri": "https://localhost:8080/",
          "height": 122
        },
        "id": "p9Fje9v79YXx",
        "outputId": "4ae7593c-cc9f-4cf0-f670-b4c1befb4bea"
      },
      "execution_count": 57,
      "outputs": [
        {
          "output_type": "execute_result",
          "data": {
            "text/plain": [
              "'ADV: Professional Teeth Whitening At Home!                                                   ovcndwhiter teeth and a brighter smile are just a click away! \\nhttp://www.newnamedns.com/dental/\\n\\nhave you considered professional teeth whitening? if so, you know it usually costs between $numbers and $numbers from your local dentist!\\n\\nvisit our site to learn how to professionally whiten your teeth, using the exact same whitening system your dentist uses, at a fraction of the cost!\\n\\nwe know our product is the best on the market, and we back it with a numbers day money back guarantee!\\n\\nclick here to find out more!\\nhttp://www.newnamedns.com/dental/\\n         \\n        \\n        \\n        \\n       \\n---------------------------------------\\nto easily remove your address from the list, go to: \\nhttp://www.newnamedns.com/stopthemailplease/\\nplease allow numbers-numbers hours for removal.\\n\\n'"
            ],
            "application/vnd.google.colaboratory.intrinsic+json": {
              "type": "string"
            }
          },
          "metadata": {},
          "execution_count": 57
        }
      ]
    },
    {
      "cell_type": "code",
      "source": [
        "#CONVRTING EVERYTHING TO LOWERCASE\n",
        "df1['sub_mssg']=df1['sub_mssg'].str.lower()\n",
        "#REPLACING NEXT LINES BY 'WHITE SPACE'\n",
        "df1['sub_mssg']=df1['sub_mssg'].str.replace(r'\\n',\" \") \n",
        "# REPLACING EMAIL IDs BY 'MAILID'\n",
        "df1['sub_mssg']=df1['sub_mssg'].str.replace(r'^.+@[^\\.].*\\.[a-z]{2,}$','MailID')\n",
        "# REPLACING URLs  BY 'Links'\n",
        "df1['sub_mssg']=df1['sub_mssg'].str.replace(r'^http\\://[a-zA-Z0-9\\-\\.]+\\.[a-zA-Z]{2,3}(/\\S*)?$','Links')\n",
        "# REPLACING CURRENCY SIGNS BY 'MONEY'\n",
        "df1['sub_mssg']=df1['sub_mssg'].str.replace(r'£|\\$', 'Money')\n",
        "# REPLACING LARGE WHITE SPACE BY SINGLE WHITE SPACE\n",
        "df1['sub_mssg']=df1['sub_mssg'].str.replace(r'\\s+', ' ')\n",
        "\n",
        "# REPLACING LEADING AND TRAILING WHITE SPACE BY SINGLE WHITE SPACE\n",
        "df1['sub_mssg']=df1['sub_mssg'].str.replace(r'^\\s+|\\s+?$', '')\n",
        "#REPLACING CONTACT NUMBERS\n",
        "df1['sub_mssg']=df1['sub_mssg'].str.replace(r'^\\(?[\\d]{3}\\)?[\\s-]?[\\d]{3}[\\s-]?[\\d]{4}$','contact number')\n",
        "#REPLACING SPECIAL CHARACTERS  BY WHITE SPACE \n",
        "df1['sub_mssg']=df1['sub_mssg'].str.replace(r\"[^a-zA-Z0-9]+\", \" \")"
      ],
      "metadata": {
        "id": "NVJxvQ9j9etJ"
      },
      "execution_count": 58,
      "outputs": []
    },
    {
      "cell_type": "code",
      "source": [
        "#CONVRTING EVERYTHING TO LOWERCASE\n",
        "df1['message']=df1['message'].str.lower()\n",
        "#REPLACING NEXT LINES BY 'WHITE SPACE'\n",
        "df1['message']=df1['message'].str.replace(r'\\n',\" \") \n",
        "# REPLACING EMAIL IDs BY 'MAILID'\n",
        "df1['message']=df1['message'].str.replace(r'^.+@[^\\.].*\\.[a-z]{2,}$','MailID')\n",
        "# REPLACING URLs  BY 'Links'\n",
        "df1['message']=df1['message'].str.replace(r'^http\\://[a-zA-Z0-9\\-\\.]+\\.[a-zA-Z]{2,3}(/\\S*)?$','Links')\n",
        "# REPLACING CURRENCY SIGNS BY 'MONEY'\n",
        "df1['message']=df1['message'].str.replace(r'£|\\$', 'Money')\n",
        "# REPLACING LARGE WHITE SPACE BY SINGLE WHITE SPACE\n",
        "df1['message']=df1['message'].str.replace(r'\\s+', ' ')\n",
        "\n",
        "# REPLACING LEADING AND TRAILING WHITE SPACE BY SINGLE WHITE SPACE\n",
        "df1['message']=df1['message'].str.replace(r'^\\s+|\\s+?$', '')\n",
        "#REPLACING CONTACT NUMBERS\n",
        "df1['message']=df1['message'].str.replace(r'^\\(?[\\d]{3}\\)?[\\s-]?[\\d]{3}[\\s-]?[\\d]{4}$','contact number')\n",
        "#REPLACING SPECIAL CHARACTERS  BY WHITE SPACE \n",
        "df1['message']=df1['message'].str.replace(r\"[^a-zA-Z0-9]+\", \" \")"
      ],
      "metadata": {
        "id": "TiEtTJu-9vWV"
      },
      "execution_count": 59,
      "outputs": []
    },
    {
      "cell_type": "code",
      "source": [
        "from tqdm import tqdm\n",
        "from nltk.corpus import stopwords\n",
        "from nltk.tokenize import word_tokenize, sent_tokenize\n",
        "# removing stopwords \n",
        "stop = stopwords.words('english')\n",
        "df1['Cleaned_Text'] = df1['sub_mssg'].apply(lambda x: ' '.join([word for word in x.split() if word not in (stop)]))"
      ],
      "metadata": {
        "id": "GsRJtemE-Aw_"
      },
      "execution_count": 60,
      "outputs": []
    },
    {
      "cell_type": "code",
      "source": [
        "df.head()"
      ],
      "metadata": {
        "colab": {
          "base_uri": "https://localhost:8080/",
          "height": 206
        },
        "id": "BchchFbS-H2y",
        "outputId": "b0d4dc95-1e2d-4c3c-c74a-650c7c63cf2e"
      },
      "execution_count": 61,
      "outputs": [
        {
          "output_type": "execute_result",
          "data": {
            "text/plain": [
              "   label  length                                       Cleaned_Text  \\\n",
              "0      0    1678  new sequences window date wed numbers aug numb...   \n",
              "1      0     949  zzzzteana alexandermartin posted tassos papado...   \n",
              "2      0    1813  zzzzteana moscow bomberman threatens explosion...   \n",
              "3      0    1195  irr klez virus dieklez virus die already proli...   \n",
              "4      0    1356  insert signatureon wed aug numbers numbers num...   \n",
              "\n",
              "   lgth_clean  \n",
              "0        1359  \n",
              "1         620  \n",
              "2        1279  \n",
              "3         846  \n",
              "4         849  "
            ],
            "text/html": [
              "\n",
              "  <div id=\"df-31a75d5c-6db6-46d3-b82f-7861a950327a\">\n",
              "    <div class=\"colab-df-container\">\n",
              "      <div>\n",
              "<style scoped>\n",
              "    .dataframe tbody tr th:only-of-type {\n",
              "        vertical-align: middle;\n",
              "    }\n",
              "\n",
              "    .dataframe tbody tr th {\n",
              "        vertical-align: top;\n",
              "    }\n",
              "\n",
              "    .dataframe thead th {\n",
              "        text-align: right;\n",
              "    }\n",
              "</style>\n",
              "<table border=\"1\" class=\"dataframe\">\n",
              "  <thead>\n",
              "    <tr style=\"text-align: right;\">\n",
              "      <th></th>\n",
              "      <th>label</th>\n",
              "      <th>length</th>\n",
              "      <th>Cleaned_Text</th>\n",
              "      <th>lgth_clean</th>\n",
              "    </tr>\n",
              "  </thead>\n",
              "  <tbody>\n",
              "    <tr>\n",
              "      <th>0</th>\n",
              "      <td>0</td>\n",
              "      <td>1678</td>\n",
              "      <td>new sequences window date wed numbers aug numb...</td>\n",
              "      <td>1359</td>\n",
              "    </tr>\n",
              "    <tr>\n",
              "      <th>1</th>\n",
              "      <td>0</td>\n",
              "      <td>949</td>\n",
              "      <td>zzzzteana alexandermartin posted tassos papado...</td>\n",
              "      <td>620</td>\n",
              "    </tr>\n",
              "    <tr>\n",
              "      <th>2</th>\n",
              "      <td>0</td>\n",
              "      <td>1813</td>\n",
              "      <td>zzzzteana moscow bomberman threatens explosion...</td>\n",
              "      <td>1279</td>\n",
              "    </tr>\n",
              "    <tr>\n",
              "      <th>3</th>\n",
              "      <td>0</td>\n",
              "      <td>1195</td>\n",
              "      <td>irr klez virus dieklez virus die already proli...</td>\n",
              "      <td>846</td>\n",
              "    </tr>\n",
              "    <tr>\n",
              "      <th>4</th>\n",
              "      <td>0</td>\n",
              "      <td>1356</td>\n",
              "      <td>insert signatureon wed aug numbers numbers num...</td>\n",
              "      <td>849</td>\n",
              "    </tr>\n",
              "  </tbody>\n",
              "</table>\n",
              "</div>\n",
              "      <button class=\"colab-df-convert\" onclick=\"convertToInteractive('df-31a75d5c-6db6-46d3-b82f-7861a950327a')\"\n",
              "              title=\"Convert this dataframe to an interactive table.\"\n",
              "              style=\"display:none;\">\n",
              "        \n",
              "  <svg xmlns=\"http://www.w3.org/2000/svg\" height=\"24px\"viewBox=\"0 0 24 24\"\n",
              "       width=\"24px\">\n",
              "    <path d=\"M0 0h24v24H0V0z\" fill=\"none\"/>\n",
              "    <path d=\"M18.56 5.44l.94 2.06.94-2.06 2.06-.94-2.06-.94-.94-2.06-.94 2.06-2.06.94zm-11 1L8.5 8.5l.94-2.06 2.06-.94-2.06-.94L8.5 2.5l-.94 2.06-2.06.94zm10 10l.94 2.06.94-2.06 2.06-.94-2.06-.94-.94-2.06-.94 2.06-2.06.94z\"/><path d=\"M17.41 7.96l-1.37-1.37c-.4-.4-.92-.59-1.43-.59-.52 0-1.04.2-1.43.59L10.3 9.45l-7.72 7.72c-.78.78-.78 2.05 0 2.83L4 21.41c.39.39.9.59 1.41.59.51 0 1.02-.2 1.41-.59l7.78-7.78 2.81-2.81c.8-.78.8-2.07 0-2.86zM5.41 20L4 18.59l7.72-7.72 1.47 1.35L5.41 20z\"/>\n",
              "  </svg>\n",
              "      </button>\n",
              "      \n",
              "  <style>\n",
              "    .colab-df-container {\n",
              "      display:flex;\n",
              "      flex-wrap:wrap;\n",
              "      gap: 12px;\n",
              "    }\n",
              "\n",
              "    .colab-df-convert {\n",
              "      background-color: #E8F0FE;\n",
              "      border: none;\n",
              "      border-radius: 50%;\n",
              "      cursor: pointer;\n",
              "      display: none;\n",
              "      fill: #1967D2;\n",
              "      height: 32px;\n",
              "      padding: 0 0 0 0;\n",
              "      width: 32px;\n",
              "    }\n",
              "\n",
              "    .colab-df-convert:hover {\n",
              "      background-color: #E2EBFA;\n",
              "      box-shadow: 0px 1px 2px rgba(60, 64, 67, 0.3), 0px 1px 3px 1px rgba(60, 64, 67, 0.15);\n",
              "      fill: #174EA6;\n",
              "    }\n",
              "\n",
              "    [theme=dark] .colab-df-convert {\n",
              "      background-color: #3B4455;\n",
              "      fill: #D2E3FC;\n",
              "    }\n",
              "\n",
              "    [theme=dark] .colab-df-convert:hover {\n",
              "      background-color: #434B5C;\n",
              "      box-shadow: 0px 1px 3px 1px rgba(0, 0, 0, 0.15);\n",
              "      filter: drop-shadow(0px 1px 2px rgba(0, 0, 0, 0.3));\n",
              "      fill: #FFFFFF;\n",
              "    }\n",
              "  </style>\n",
              "\n",
              "      <script>\n",
              "        const buttonEl =\n",
              "          document.querySelector('#df-31a75d5c-6db6-46d3-b82f-7861a950327a button.colab-df-convert');\n",
              "        buttonEl.style.display =\n",
              "          google.colab.kernel.accessAllowed ? 'block' : 'none';\n",
              "\n",
              "        async function convertToInteractive(key) {\n",
              "          const element = document.querySelector('#df-31a75d5c-6db6-46d3-b82f-7861a950327a');\n",
              "          const dataTable =\n",
              "            await google.colab.kernel.invokeFunction('convertToInteractive',\n",
              "                                                     [key], {});\n",
              "          if (!dataTable) return;\n",
              "\n",
              "          const docLinkHtml = 'Like what you see? Visit the ' +\n",
              "            '<a target=\"_blank\" href=https://colab.research.google.com/notebooks/data_table.ipynb>data table notebook</a>'\n",
              "            + ' to learn more about interactive tables.';\n",
              "          element.innerHTML = '';\n",
              "          dataTable['output_type'] = 'display_data';\n",
              "          await google.colab.output.renderOutput(dataTable, element);\n",
              "          const docLink = document.createElement('div');\n",
              "          docLink.innerHTML = docLinkHtml;\n",
              "          element.appendChild(docLink);\n",
              "        }\n",
              "      </script>\n",
              "    </div>\n",
              "  </div>\n",
              "  "
            ]
          },
          "metadata": {},
          "execution_count": 61
        }
      ]
    },
    {
      "cell_type": "code",
      "source": [
        "df1.drop('message',axis=1,inplace=True)"
      ],
      "metadata": {
        "id": "x6yRpD0G-RpA"
      },
      "execution_count": 62,
      "outputs": []
    },
    {
      "cell_type": "code",
      "source": [
        "df1.drop('sub_mssg',axis=1,inplace=True)"
      ],
      "metadata": {
        "id": "s1ZxFigp-iUO"
      },
      "execution_count": 63,
      "outputs": []
    },
    {
      "cell_type": "code",
      "source": [
        "df1['lgth_clean']=df1['Cleaned_Text'].apply(len)\n",
        "df1.head()"
      ],
      "metadata": {
        "colab": {
          "base_uri": "https://localhost:8080/",
          "height": 206
        },
        "id": "UCnlwyNj-l3V",
        "outputId": "27616962-ecac-44cc-c843-103a95167c04"
      },
      "execution_count": 64,
      "outputs": [
        {
          "output_type": "execute_result",
          "data": {
            "text/plain": [
              "                                                text  label  length  \\\n",
              "0  Whiter teeth and a brighter smile are just a c...      1     856   \n",
              "1  \\n--1465727098.996838841831.JavaMail.RovAdmin....      1   35024   \n",
              "2  Below is the result of your feedback form.  It...      1    1136   \n",
              "3   Maximizer Select\\t\\n Want to pay less for ter...      1    1283   \n",
              "4  Dear Candidate,\\n\\nWe recently came across a p...      1    1468   \n",
              "\n",
              "                                        Cleaned_Text  lgth_clean  \n",
              "0  adv professional teeth whitening home ovcndwhi...         532  \n",
              "1  membership community commentary numbers number...       24786  \n",
              "2  ore info grant moneybelow result feedback form...         705  \n",
              "3  sometimes less maximizer select want pay less ...         930  \n",
              "4  adv put resume back workdear candidate recentl...         974  "
            ],
            "text/html": [
              "\n",
              "  <div id=\"df-ba5ebc5e-3be0-473c-9a0f-71413b323477\">\n",
              "    <div class=\"colab-df-container\">\n",
              "      <div>\n",
              "<style scoped>\n",
              "    .dataframe tbody tr th:only-of-type {\n",
              "        vertical-align: middle;\n",
              "    }\n",
              "\n",
              "    .dataframe tbody tr th {\n",
              "        vertical-align: top;\n",
              "    }\n",
              "\n",
              "    .dataframe thead th {\n",
              "        text-align: right;\n",
              "    }\n",
              "</style>\n",
              "<table border=\"1\" class=\"dataframe\">\n",
              "  <thead>\n",
              "    <tr style=\"text-align: right;\">\n",
              "      <th></th>\n",
              "      <th>text</th>\n",
              "      <th>label</th>\n",
              "      <th>length</th>\n",
              "      <th>Cleaned_Text</th>\n",
              "      <th>lgth_clean</th>\n",
              "    </tr>\n",
              "  </thead>\n",
              "  <tbody>\n",
              "    <tr>\n",
              "      <th>0</th>\n",
              "      <td>Whiter teeth and a brighter smile are just a c...</td>\n",
              "      <td>1</td>\n",
              "      <td>856</td>\n",
              "      <td>adv professional teeth whitening home ovcndwhi...</td>\n",
              "      <td>532</td>\n",
              "    </tr>\n",
              "    <tr>\n",
              "      <th>1</th>\n",
              "      <td>\\n--1465727098.996838841831.JavaMail.RovAdmin....</td>\n",
              "      <td>1</td>\n",
              "      <td>35024</td>\n",
              "      <td>membership community commentary numbers number...</td>\n",
              "      <td>24786</td>\n",
              "    </tr>\n",
              "    <tr>\n",
              "      <th>2</th>\n",
              "      <td>Below is the result of your feedback form.  It...</td>\n",
              "      <td>1</td>\n",
              "      <td>1136</td>\n",
              "      <td>ore info grant moneybelow result feedback form...</td>\n",
              "      <td>705</td>\n",
              "    </tr>\n",
              "    <tr>\n",
              "      <th>3</th>\n",
              "      <td>Maximizer Select\\t\\n Want to pay less for ter...</td>\n",
              "      <td>1</td>\n",
              "      <td>1283</td>\n",
              "      <td>sometimes less maximizer select want pay less ...</td>\n",
              "      <td>930</td>\n",
              "    </tr>\n",
              "    <tr>\n",
              "      <th>4</th>\n",
              "      <td>Dear Candidate,\\n\\nWe recently came across a p...</td>\n",
              "      <td>1</td>\n",
              "      <td>1468</td>\n",
              "      <td>adv put resume back workdear candidate recentl...</td>\n",
              "      <td>974</td>\n",
              "    </tr>\n",
              "  </tbody>\n",
              "</table>\n",
              "</div>\n",
              "      <button class=\"colab-df-convert\" onclick=\"convertToInteractive('df-ba5ebc5e-3be0-473c-9a0f-71413b323477')\"\n",
              "              title=\"Convert this dataframe to an interactive table.\"\n",
              "              style=\"display:none;\">\n",
              "        \n",
              "  <svg xmlns=\"http://www.w3.org/2000/svg\" height=\"24px\"viewBox=\"0 0 24 24\"\n",
              "       width=\"24px\">\n",
              "    <path d=\"M0 0h24v24H0V0z\" fill=\"none\"/>\n",
              "    <path d=\"M18.56 5.44l.94 2.06.94-2.06 2.06-.94-2.06-.94-.94-2.06-.94 2.06-2.06.94zm-11 1L8.5 8.5l.94-2.06 2.06-.94-2.06-.94L8.5 2.5l-.94 2.06-2.06.94zm10 10l.94 2.06.94-2.06 2.06-.94-2.06-.94-.94-2.06-.94 2.06-2.06.94z\"/><path d=\"M17.41 7.96l-1.37-1.37c-.4-.4-.92-.59-1.43-.59-.52 0-1.04.2-1.43.59L10.3 9.45l-7.72 7.72c-.78.78-.78 2.05 0 2.83L4 21.41c.39.39.9.59 1.41.59.51 0 1.02-.2 1.41-.59l7.78-7.78 2.81-2.81c.8-.78.8-2.07 0-2.86zM5.41 20L4 18.59l7.72-7.72 1.47 1.35L5.41 20z\"/>\n",
              "  </svg>\n",
              "      </button>\n",
              "      \n",
              "  <style>\n",
              "    .colab-df-container {\n",
              "      display:flex;\n",
              "      flex-wrap:wrap;\n",
              "      gap: 12px;\n",
              "    }\n",
              "\n",
              "    .colab-df-convert {\n",
              "      background-color: #E8F0FE;\n",
              "      border: none;\n",
              "      border-radius: 50%;\n",
              "      cursor: pointer;\n",
              "      display: none;\n",
              "      fill: #1967D2;\n",
              "      height: 32px;\n",
              "      padding: 0 0 0 0;\n",
              "      width: 32px;\n",
              "    }\n",
              "\n",
              "    .colab-df-convert:hover {\n",
              "      background-color: #E2EBFA;\n",
              "      box-shadow: 0px 1px 2px rgba(60, 64, 67, 0.3), 0px 1px 3px 1px rgba(60, 64, 67, 0.15);\n",
              "      fill: #174EA6;\n",
              "    }\n",
              "\n",
              "    [theme=dark] .colab-df-convert {\n",
              "      background-color: #3B4455;\n",
              "      fill: #D2E3FC;\n",
              "    }\n",
              "\n",
              "    [theme=dark] .colab-df-convert:hover {\n",
              "      background-color: #434B5C;\n",
              "      box-shadow: 0px 1px 3px 1px rgba(0, 0, 0, 0.15);\n",
              "      filter: drop-shadow(0px 1px 2px rgba(0, 0, 0, 0.3));\n",
              "      fill: #FFFFFF;\n",
              "    }\n",
              "  </style>\n",
              "\n",
              "      <script>\n",
              "        const buttonEl =\n",
              "          document.querySelector('#df-ba5ebc5e-3be0-473c-9a0f-71413b323477 button.colab-df-convert');\n",
              "        buttonEl.style.display =\n",
              "          google.colab.kernel.accessAllowed ? 'block' : 'none';\n",
              "\n",
              "        async function convertToInteractive(key) {\n",
              "          const element = document.querySelector('#df-ba5ebc5e-3be0-473c-9a0f-71413b323477');\n",
              "          const dataTable =\n",
              "            await google.colab.kernel.invokeFunction('convertToInteractive',\n",
              "                                                     [key], {});\n",
              "          if (!dataTable) return;\n",
              "\n",
              "          const docLinkHtml = 'Like what you see? Visit the ' +\n",
              "            '<a target=\"_blank\" href=https://colab.research.google.com/notebooks/data_table.ipynb>data table notebook</a>'\n",
              "            + ' to learn more about interactive tables.';\n",
              "          element.innerHTML = '';\n",
              "          dataTable['output_type'] = 'display_data';\n",
              "          await google.colab.output.renderOutput(dataTable, element);\n",
              "          const docLink = document.createElement('div');\n",
              "          docLink.innerHTML = docLinkHtml;\n",
              "          element.appendChild(docLink);\n",
              "        }\n",
              "      </script>\n",
              "    </div>\n",
              "  </div>\n",
              "  "
            ]
          },
          "metadata": {},
          "execution_count": 64
        }
      ]
    },
    {
      "cell_type": "code",
      "source": [
        "testX = df1.Cleaned_Text\n",
        "tesY = df1.label"
      ],
      "metadata": {
        "id": "PBQVloZ8-tff"
      },
      "execution_count": 65,
      "outputs": []
    },
    {
      "cell_type": "code",
      "source": [
        "testX"
      ],
      "metadata": {
        "colab": {
          "base_uri": "https://localhost:8080/"
        },
        "id": "D1Ki4cm5_1Rs",
        "outputId": "0076ff72-1000-4991-c8bb-f464826f3be8"
      },
      "execution_count": 66,
      "outputs": [
        {
          "output_type": "execute_result",
          "data": {
            "text/plain": [
              "0       adv professional teeth whitening home ovcndwhi...\n",
              "1       membership community commentary numbers number...\n",
              "2       ore info grant moneybelow result feedback form...\n",
              "3       sometimes less maximizer select want pay less ...\n",
              "4       adv put resume back workdear candidate recentl...\n",
              "                              ...                        \n",
              "1009    selling wedded bliss ouch dunno bb women like ...\n",
              "1010    java kiddies snip misc rants finding jobs java...\n",
              "1011    ilug rpm dependencieson sat oct numbers number...\n",
              "1012    problem apt geton mon numbers oct numbers thom...\n",
              "1013    goodbye global warming historical record mean ...\n",
              "Name: Cleaned_Text, Length: 1014, dtype: object"
            ]
          },
          "metadata": {},
          "execution_count": 66
        }
      ]
    },
    {
      "cell_type": "code",
      "source": [
        "tesY"
      ],
      "metadata": {
        "colab": {
          "base_uri": "https://localhost:8080/"
        },
        "id": "kixV-BWQ_4hR",
        "outputId": "6af5fa6d-9d5b-4534-f752-b925fbbd172a"
      },
      "execution_count": 67,
      "outputs": [
        {
          "output_type": "execute_result",
          "data": {
            "text/plain": [
              "0       1\n",
              "1       1\n",
              "2       1\n",
              "3       1\n",
              "4       1\n",
              "       ..\n",
              "1009    0\n",
              "1010    0\n",
              "1011    0\n",
              "1012    0\n",
              "1013    0\n",
              "Name: label, Length: 1014, dtype: int64"
            ]
          },
          "metadata": {},
          "execution_count": 67
        }
      ]
    },
    {
      "cell_type": "code",
      "source": [
        "y_pred1 = model_7.predict(testX)"
      ],
      "metadata": {
        "id": "91Zb6ZJ8--d_"
      },
      "execution_count": 68,
      "outputs": []
    },
    {
      "cell_type": "markdown",
      "source": [
        "**Метрики**"
      ],
      "metadata": {
        "id": "B3Mtpg0vjtE8"
      }
    },
    {
      "cell_type": "code",
      "source": [
        "print(\"Accuracy : \", accuracy_score(y_pred1,tesY))"
      ],
      "metadata": {
        "colab": {
          "base_uri": "https://localhost:8080/"
        },
        "id": "nbl-vUJl_Hn4",
        "outputId": "144c0c63-3408-4f0f-94d6-ac7b62b980d9"
      },
      "execution_count": 69,
      "outputs": [
        {
          "output_type": "stream",
          "name": "stdout",
          "text": [
            "Accuracy :  0.928007889546351\n"
          ]
        }
      ]
    },
    {
      "cell_type": "code",
      "source": [
        "print(\"Precision : \", precision_score(y_pred1,tesY, average = 'weighted'))\n",
        "print(\"Recall : \", recall_score(y_pred1,tesY, average = 'weighted'))"
      ],
      "metadata": {
        "colab": {
          "base_uri": "https://localhost:8080/"
        },
        "id": "yQ3emQdmV_2H",
        "outputId": "afd6b45c-e403-483e-cbf5-c67f85409a8e"
      },
      "execution_count": 70,
      "outputs": [
        {
          "output_type": "stream",
          "name": "stdout",
          "text": [
            "Precision :  0.9392543043037622\n",
            "Recall :  0.928007889546351\n"
          ]
        }
      ]
    },
    {
      "cell_type": "code",
      "source": [
        "conf_matrix = confusion_matrix(y_true=tesY, y_pred=y_pred1)\n",
        "fig, ax = plt.subplots(figsize=(7.5, 7.5))\n",
        "ax.matshow(conf_matrix, cmap=plt.cm.Blues, alpha=0.3)\n",
        "for i in range(conf_matrix.shape[0]):\n",
        "    for j in range(conf_matrix.shape[1]):\n",
        "        ax.text(x=j, y=i,s=conf_matrix[i, j], va='center', ha='center', size='xx-large')\n",
        "\n",
        "plt.xlabel('Predictions', fontsize=18)\n",
        "plt.ylabel('Actuals', fontsize=18)\n",
        "plt.title('Confusion Matrix', fontsize=18)\n",
        "plt.show()"
      ],
      "metadata": {
        "colab": {
          "base_uri": "https://localhost:8080/",
          "height": 501
        },
        "id": "D9AaZVTyq7Yu",
        "outputId": "27923ba9-db64-41f8-c0cb-6cbb7b0c127d"
      },
      "execution_count": 71,
      "outputs": [
        {
          "output_type": "display_data",
          "data": {
            "text/plain": [
              "<Figure size 540x540 with 1 Axes>"
            ],
            "image/png": "[encoded data removed]"
          },
          "metadata": {
            "needs_background": "light"
          }
        }
      ]
    },
    {
      "cell_type": "markdown",
      "source": [
        "# Тестирование моделей"
      ],
      "metadata": {
        "id": "cUeOQdg1gLkJ"
      }
    },
    {
      "cell_type": "markdown",
      "source": [
        "**Logistic Regression**"
      ],
      "metadata": {
        "id": "ePSQlXYhgRDH"
      }
    },
    {
      "cell_type": "code",
      "source": [
        "tvec = TfidfVectorizer()\n",
        "lr = LogisticRegression(solver = \"lbfgs\")"
      ],
      "metadata": {
        "id": "qre9RNQpf0HR"
      },
      "execution_count": 72,
      "outputs": []
    },
    {
      "cell_type": "code",
      "source": [
        "X = df.Cleaned_Text\n",
        "Y = df.label\n",
        "X_train, X_test, Y_train, Y_test = train_test_split(X, Y, test_size = 0.1, random_state = 225,stratify=Y)"
      ],
      "metadata": {
        "id": "TQ3cwwu9j2Ux"
      },
      "execution_count": 73,
      "outputs": []
    },
    {
      "cell_type": "code",
      "source": [
        "model = Pipeline([('vectorizer',tvec),('classifier',lr)])\n",
        "model.fit(X_train,Y_train)\n",
        "from sklearn.metrics import confusion_matrix\n",
        "y_pred = model.predict(X_test)\n",
        "confusion_matrix(y_pred,Y_test)"
      ],
      "metadata": {
        "colab": {
          "base_uri": "https://localhost:8080/"
        },
        "id": "Z25WN6Dzj3hn",
        "outputId": "ea0b6f35-419e-4666-e713-e3a8e30e896f"
      },
      "execution_count": 74,
      "outputs": [
        {
          "output_type": "execute_result",
          "data": {
            "text/plain": [
              "array([[279,  14],\n",
              "       [  1, 126]])"
            ]
          },
          "metadata": {},
          "execution_count": 74
        }
      ]
    },
    {
      "cell_type": "code",
      "source": [
        "print(\"Accuracy : \", accuracy_score(y_pred,Y_test))\n",
        "print(\"Precision : \", precision_score(y_pred,Y_test, average = 'weighted'))\n",
        "print(\"Recall : \", recall_score(y_pred,Y_test, average = 'weighted'))"
      ],
      "metadata": {
        "colab": {
          "base_uri": "https://localhost:8080/"
        },
        "id": "7kcfSf8jj5aT",
        "outputId": "b99e88cf-b0b8-4f23-f0cd-019791ec283e"
      },
      "execution_count": 75,
      "outputs": [
        {
          "output_type": "stream",
          "name": "stdout",
          "text": [
            "Accuracy :  0.9642857142857143\n",
            "Precision :  0.9672704081632654\n",
            "Recall :  0.9642857142857143\n"
          ]
        }
      ]
    },
    {
      "cell_type": "markdown",
      "source": [
        "**LR - на тестовых**"
      ],
      "metadata": {
        "id": "hE30_nhmkvbh"
      }
    },
    {
      "cell_type": "code",
      "source": [
        "y_pred2 = model.predict(testX)"
      ],
      "metadata": {
        "id": "Lqn6Zemkj-vi"
      },
      "execution_count": 76,
      "outputs": []
    },
    {
      "cell_type": "code",
      "source": [
        "print(\"Accuracy : \", accuracy_score(y_pred2,tesY))\n",
        "print(\"Precision : \", precision_score(y_pred2,tesY, average = 'weighted'))\n",
        "print(\"Recall : \", recall_score(y_pred2,tesY, average = 'weighted'))"
      ],
      "metadata": {
        "colab": {
          "base_uri": "https://localhost:8080/"
        },
        "id": "HXk6GPwTkik2",
        "outputId": "0ffa3879-0fa7-4326-f5ad-753a970b1a7a"
      },
      "execution_count": 77,
      "outputs": [
        {
          "output_type": "stream",
          "name": "stdout",
          "text": [
            "Accuracy :  0.9043392504930966\n",
            "Precision :  0.9247259258967817\n",
            "Recall :  0.9043392504930966\n"
          ]
        }
      ]
    },
    {
      "cell_type": "code",
      "source": [
        "conf_matrix = confusion_matrix(y_true=tesY, y_pred=y_pred2)\n",
        "fig, ax = plt.subplots(figsize=(7.5, 7.5))\n",
        "ax.matshow(conf_matrix, cmap=plt.cm.Blues, alpha=0.3)\n",
        "for i in range(conf_matrix.shape[0]):\n",
        "    for j in range(conf_matrix.shape[1]):\n",
        "        ax.text(x=j, y=i,s=conf_matrix[i, j], va='center', ha='center', size='xx-large')\n",
        "\n",
        "plt.xlabel('Predictions', fontsize=18)\n",
        "plt.ylabel('Actuals', fontsize=18)\n",
        "plt.title('Confusion Matrix', fontsize=18)\n",
        "plt.show()"
      ],
      "metadata": {
        "colab": {
          "base_uri": "https://localhost:8080/",
          "height": 501
        },
        "id": "usTw0XQmqzgk",
        "outputId": "0881f7cf-22ac-454f-b426-eb9c0e0d4a02"
      },
      "execution_count": 78,
      "outputs": [
        {
          "output_type": "display_data",
          "data": {
            "text/plain": [
              "<Figure size 540x540 with 1 Axes>"
            ],
            "image/png": "[encoded data removed]"
          },
          "metadata": {
            "needs_background": "light"
          }
        }
      ]
    },
    {
      "cell_type": "markdown",
      "source": [
        "# KNeighbors Classifier"
      ],
      "metadata": {
        "id": "cWIIiIjmlIS_"
      }
    },
    {
      "cell_type": "code",
      "source": [
        "knc = KNeighborsClassifier()\n",
        "model_1 = Pipeline([('vectorizer',tvec),('classifier',knc)])\n",
        "model_1.fit(X_train,Y_train)\n",
        "y_pred = model_1.predict(X_test)\n",
        "print(confusion_matrix(y_pred,Y_test))\n",
        "print(\"Accuracy : \", accuracy_score(y_pred,Y_test))\n",
        "print(\"Precision : \", precision_score(y_pred,Y_test, average = 'weighted'))\n",
        "print(\"Recall : \", recall_score(y_pred,Y_test, average = 'weighted'))"
      ],
      "metadata": {
        "colab": {
          "base_uri": "https://localhost:8080/"
        },
        "id": "tvtQ5D-Wk2C-",
        "outputId": "bfd0c6d4-4142-4319-f946-64b355d705dd"
      },
      "execution_count": 79,
      "outputs": [
        {
          "output_type": "stream",
          "name": "stdout",
          "text": [
            "[[236   9]\n",
            " [ 44 131]]\n",
            "Accuracy :  0.8738095238095238\n",
            "Precision :  0.881547619047619\n",
            "Recall :  0.8738095238095238\n"
          ]
        }
      ]
    },
    {
      "cell_type": "markdown",
      "source": [
        "**На тестовых данных**"
      ],
      "metadata": {
        "id": "mpXCMFoulQ22"
      }
    },
    {
      "cell_type": "code",
      "source": [
        "y_pred3 = model_1.predict(testX)"
      ],
      "metadata": {
        "id": "sDP_gW71lQc7"
      },
      "execution_count": 80,
      "outputs": []
    },
    {
      "cell_type": "code",
      "source": [
        "print(\"Accuracy : \", accuracy_score(y_pred3,tesY))\n",
        "print(\"Precision : \", precision_score(y_pred3,tesY, average = 'weighted'))\n",
        "print(\"Recall : \", recall_score(y_pred3,tesY, average = 'weighted'))"
      ],
      "metadata": {
        "colab": {
          "base_uri": "https://localhost:8080/"
        },
        "id": "Y_Gv6tzylOd7",
        "outputId": "727e77e5-e0e5-410c-9e03-272edbbf8005"
      },
      "execution_count": 81,
      "outputs": [
        {
          "output_type": "stream",
          "name": "stdout",
          "text": [
            "Accuracy :  0.8520710059171598\n",
            "Precision :  0.852653637094441\n",
            "Recall :  0.8520710059171598\n"
          ]
        }
      ]
    },
    {
      "cell_type": "code",
      "source": [
        "conf_matrix = confusion_matrix(y_true=tesY, y_pred=y_pred3)\n",
        "fig, ax = plt.subplots(figsize=(7.5, 7.5))\n",
        "ax.matshow(conf_matrix, cmap=plt.cm.Blues, alpha=0.3)\n",
        "for i in range(conf_matrix.shape[0]):\n",
        "    for j in range(conf_matrix.shape[1]):\n",
        "        ax.text(x=j, y=i,s=conf_matrix[i, j], va='center', ha='center', size='xx-large')\n",
        "\n",
        "plt.xlabel('Predictions', fontsize=18)\n",
        "plt.ylabel('Actuals', fontsize=18)\n",
        "plt.title('Confusion Matrix', fontsize=18)\n",
        "plt.show()"
      ],
      "metadata": {
        "colab": {
          "base_uri": "https://localhost:8080/",
          "height": 501
        },
        "id": "Iie2g5KHqrhS",
        "outputId": "50474fd8-b65c-45f0-f6fe-ad378feee07f"
      },
      "execution_count": 82,
      "outputs": [
        {
          "output_type": "display_data",
          "data": {
            "text/plain": [
              "<Figure size 540x540 with 1 Axes>"
            ],
            "image/png": "[encoded data removed]"
          },
          "metadata": {
            "needs_background": "light"
          }
        }
      ]
    },
    {
      "cell_type": "markdown",
      "source": [
        "**Ada Boost Classifier**"
      ],
      "metadata": {
        "id": "8pOrlc5Bl9Aa"
      }
    },
    {
      "cell_type": "code",
      "source": [
        "abc = AdaBoostClassifier()\n",
        "model_3 = Pipeline([('vectorizer',tvec),('classifier',abc)])\n",
        "model_3.fit(X_train,Y_train)\n",
        "y_pred = model_3.predict(X_test)\n",
        "print(confusion_matrix(y_pred,Y_test))\n",
        "print(\"Accuracy : \", accuracy_score(y_pred,Y_test))\n",
        "print(\"Precision : \", precision_score(y_pred,Y_test, average = 'weighted'))\n",
        "print(\"Recall : \", recall_score(y_pred,Y_test, average = 'weighted'))"
      ],
      "metadata": {
        "colab": {
          "base_uri": "https://localhost:8080/"
        },
        "id": "SuDjFExyl8hK",
        "outputId": "d38e237f-5f53-420c-e1af-74bf971465ac"
      },
      "execution_count": 83,
      "outputs": [
        {
          "output_type": "stream",
          "name": "stdout",
          "text": [
            "[[274   9]\n",
            " [  6 131]]\n",
            "Accuracy :  0.9642857142857143\n",
            "Precision :  0.9645918367346937\n",
            "Recall :  0.9642857142857143\n"
          ]
        }
      ]
    },
    {
      "cell_type": "markdown",
      "source": [
        "**На тестовых данных**"
      ],
      "metadata": {
        "id": "LHbj_jsJmWFF"
      }
    },
    {
      "cell_type": "code",
      "source": [
        "y_pred4 = model_3.predict(testX)"
      ],
      "metadata": {
        "id": "__HiTmH2lrQP"
      },
      "execution_count": 84,
      "outputs": []
    },
    {
      "cell_type": "code",
      "source": [
        "print(\"Accuracy : \", accuracy_score(y_pred4,tesY))\n",
        "print(\"Precision : \", precision_score(y_pred4,tesY, average = 'weighted'))\n",
        "print(\"Recall : \", recall_score(y_pred4,tesY, average = 'weighted'))"
      ],
      "metadata": {
        "colab": {
          "base_uri": "https://localhost:8080/"
        },
        "id": "Q1w16-9blfbB",
        "outputId": "fd30540a-bec5-46b7-e035-e6f44ee2cdc8"
      },
      "execution_count": 85,
      "outputs": [
        {
          "output_type": "stream",
          "name": "stdout",
          "text": [
            "Accuracy :  0.9201183431952663\n",
            "Precision :  0.9309524934218162\n",
            "Recall :  0.9201183431952663\n"
          ]
        }
      ]
    },
    {
      "cell_type": "code",
      "source": [
        "conf_matrix = confusion_matrix(y_true=tesY, y_pred=y_pred4)\n",
        "fig, ax = plt.subplots(figsize=(7.5, 7.5))\n",
        "ax.matshow(conf_matrix, cmap=plt.cm.Blues, alpha=0.3)\n",
        "for i in range(conf_matrix.shape[0]):\n",
        "    for j in range(conf_matrix.shape[1]):\n",
        "        ax.text(x=j, y=i,s=conf_matrix[i, j], va='center', ha='center', size='xx-large')\n",
        "\n",
        "plt.xlabel('Predictions', fontsize=18)\n",
        "plt.ylabel('Actuals', fontsize=18)\n",
        "plt.title('Confusion Matrix', fontsize=18)\n",
        "plt.show()"
      ],
      "metadata": {
        "colab": {
          "base_uri": "https://localhost:8080/",
          "height": 501
        },
        "id": "XFGKVzeuqkm2",
        "outputId": "79ee1b4f-b8b5-4525-b55d-e45af00d7c01"
      },
      "execution_count": 86,
      "outputs": [
        {
          "output_type": "display_data",
          "data": {
            "text/plain": [
              "<Figure size 540x540 with 1 Axes>"
            ],
            "image/png": "[encoded data removed]"
          },
          "metadata": {
            "needs_background": "light"
          }
        }
      ]
    },
    {
      "cell_type": "markdown",
      "source": [
        "**Naive Bayes**"
      ],
      "metadata": {
        "id": "X9vltmPsmguc"
      }
    },
    {
      "cell_type": "code",
      "source": [
        "mnb = MultinomialNB()\n",
        "model_5 = Pipeline([('vectorizer',tvec),('classifier',mnb)])\n",
        "model_5.fit(X_train,Y_train)\n",
        "y_pred = model_5.predict(X_test)\n",
        "print(confusion_matrix(y_pred,Y_test))\n",
        "print(\"Accuracy : \", accuracy_score(y_pred,Y_test))\n",
        "print(\"Precision : \", precision_score(y_pred,Y_test, average = 'weighted'))\n",
        "print(\"Recall : \", recall_score(y_pred,Y_test, average = 'weighted'))"
      ],
      "metadata": {
        "colab": {
          "base_uri": "https://localhost:8080/"
        },
        "id": "fg7bwAtvmU8s",
        "outputId": "8d8fa504-8108-4e3c-f91a-f3dddd1703d5"
      },
      "execution_count": 87,
      "outputs": [
        {
          "output_type": "stream",
          "name": "stdout",
          "text": [
            "[[278  30]\n",
            " [  2 110]]\n",
            "Accuracy :  0.9238095238095239\n",
            "Precision :  0.9376190476190477\n",
            "Recall :  0.9238095238095239\n"
          ]
        }
      ]
    },
    {
      "cell_type": "markdown",
      "source": [
        "**На тестовых данных**"
      ],
      "metadata": {
        "id": "jY8AXdDQm0io"
      }
    },
    {
      "cell_type": "code",
      "source": [
        "y_pred5 = model_5.predict(testX)"
      ],
      "metadata": {
        "id": "ePbehFzcmk8s"
      },
      "execution_count": 88,
      "outputs": []
    },
    {
      "cell_type": "code",
      "source": [
        "print(\"Accuracy : \", accuracy_score(y_pred5,tesY))\n",
        "print(\"Precision : \", precision_score(y_pred5,tesY, average = 'weighted'))\n",
        "print(\"Recall : \", recall_score(y_pred5,tesY, average = 'weighted'))"
      ],
      "metadata": {
        "colab": {
          "base_uri": "https://localhost:8080/"
        },
        "id": "TjODm9tmmsxw",
        "outputId": "d2143ff9-4b81-40f9-86be-9fae20ae0e24"
      },
      "execution_count": 89,
      "outputs": [
        {
          "output_type": "stream",
          "name": "stdout",
          "text": [
            "Accuracy :  0.8392504930966469\n",
            "Precision :  0.9000798749690212\n",
            "Recall :  0.8392504930966469\n"
          ]
        }
      ]
    },
    {
      "cell_type": "code",
      "source": [
        "conf_matrix = confusion_matrix(y_true=tesY, y_pred=y_pred5)\n",
        "fig, ax = plt.subplots(figsize=(7.5, 7.5))\n",
        "ax.matshow(conf_matrix, cmap=plt.cm.Blues, alpha=0.3)\n",
        "for i in range(conf_matrix.shape[0]):\n",
        "    for j in range(conf_matrix.shape[1]):\n",
        "        ax.text(x=j, y=i,s=conf_matrix[i, j], va='center', ha='center', size='xx-large')\n",
        "\n",
        "plt.xlabel('Predictions', fontsize=18)\n",
        "plt.ylabel('Actuals', fontsize=18)\n",
        "plt.title('Confusion Matrix', fontsize=18)\n",
        "plt.show()"
      ],
      "metadata": {
        "colab": {
          "base_uri": "https://localhost:8080/",
          "height": 501
        },
        "id": "ZO1yrrCjqO26",
        "outputId": "6a43cbf5-3565-4399-e533-9ae2d47267a2"
      },
      "execution_count": 90,
      "outputs": [
        {
          "output_type": "display_data",
          "data": {
            "text/plain": [
              "<Figure size 540x540 with 1 Axes>"
            ],
            "image/png": "[encoded data removed]"
          },
          "metadata": {
            "needs_background": "light"
          }
        }
      ]
    },
    {
      "cell_type": "markdown",
      "source": [
        "**Gradient Boosting Classifier**"
      ],
      "metadata": {
        "id": "7-Lsqs-cnDoB"
      }
    },
    {
      "cell_type": "code",
      "source": [
        "gbc = GradientBoostingClassifier()\n",
        "model_6= Pipeline([('vectorizer',tvec),('classifier',gbc)])\n",
        "model_6.fit(X_train,Y_train)\n",
        "y_pred = model_6.predict(X_test)\n",
        "print(confusion_matrix(y_pred,Y_test))\n",
        "print(\"Accuracy : \", accuracy_score(y_pred,Y_test))\n",
        "print(\"Precision : \", precision_score(y_pred,Y_test, average = 'weighted'))\n",
        "print(\"Recall : \", recall_score(y_pred,Y_test, average = 'weighted'))"
      ],
      "metadata": {
        "colab": {
          "base_uri": "https://localhost:8080/"
        },
        "id": "hkSE5eG8m4NL",
        "outputId": "4281f6de-4630-416d-eec8-ac097b5fc30f"
      },
      "execution_count": 91,
      "outputs": [
        {
          "output_type": "stream",
          "name": "stdout",
          "text": [
            "[[277  15]\n",
            " [  3 125]]\n",
            "Accuracy :  0.9571428571428572\n",
            "Precision :  0.9598979591836735\n",
            "Recall :  0.9571428571428572\n"
          ]
        }
      ]
    },
    {
      "cell_type": "markdown",
      "source": [
        "**Тестовые данные**"
      ],
      "metadata": {
        "id": "Lc12BAWGqJWy"
      }
    },
    {
      "cell_type": "code",
      "source": [
        "y_pred6 = model_6.predict(testX)"
      ],
      "metadata": {
        "id": "08fK65sZnMJv"
      },
      "execution_count": 92,
      "outputs": []
    },
    {
      "cell_type": "code",
      "source": [
        "print(\"Accuracy : \", accuracy_score(y_pred6,tesY))\n",
        "print(\"Precision : \", precision_score(y_pred6,tesY, average = 'weighted'))\n",
        "print(\"Recall : \", recall_score(y_pred6,tesY, average = 'weighted'))"
      ],
      "metadata": {
        "colab": {
          "base_uri": "https://localhost:8080/"
        },
        "id": "i6sBeOrCnO7U",
        "outputId": "869f2914-a7ce-4b9e-d24d-d95bf85ad822"
      },
      "execution_count": 93,
      "outputs": [
        {
          "output_type": "stream",
          "name": "stdout",
          "text": [
            "Accuracy :  0.8974358974358975\n",
            "Precision :  0.9227723978317802\n",
            "Recall :  0.8974358974358975\n"
          ]
        }
      ]
    },
    {
      "cell_type": "code",
      "source": [
        "conf_matrix = confusion_matrix(y_true=tesY, y_pred=y_pred6)\n",
        "fig, ax = plt.subplots(figsize=(7.5, 7.5))\n",
        "ax.matshow(conf_matrix, cmap=plt.cm.Blues, alpha=0.3)\n",
        "for i in range(conf_matrix.shape[0]):\n",
        "    for j in range(conf_matrix.shape[1]):\n",
        "        ax.text(x=j, y=i,s=conf_matrix[i, j], va='center', ha='center', size='xx-large')\n",
        "\n",
        "plt.xlabel('Predictions', fontsize=18)\n",
        "plt.ylabel('Actuals', fontsize=18)\n",
        "plt.title('Confusion Matrix', fontsize=18)\n",
        "plt.show()"
      ],
      "metadata": {
        "colab": {
          "base_uri": "https://localhost:8080/",
          "height": 501
        },
        "id": "ALdL64iuqCY9",
        "outputId": "ac8faef2-c2ec-4633-964c-92aa8b6ded57"
      },
      "execution_count": 94,
      "outputs": [
        {
          "output_type": "display_data",
          "data": {
            "text/plain": [
              "<Figure size 540x540 with 1 Axes>"
            ],
            "image/png": "[encoded data removed]"
          },
          "metadata": {
            "needs_background": "light"
          }
        }
      ]
    },
    {
      "cell_type": "markdown",
      "source": [
        "**Вывод:**"
      ],
      "metadata": {
        "id": "dhY32yAanbdr"
      }
    },
    {
      "cell_type": "markdown",
      "source": [
        "У модели Random Forest Classifier самые большие показатели метрик"
      ],
      "metadata": {
        "id": "_NNZZE-rnfP8"
      }
    },
    {
      "cell_type": "markdown",
      "source": [
        "# Random Forest Classifier"
      ],
      "metadata": {
        "id": "sD1T5xz8tXjO"
      }
    },
    {
      "cell_type": "code",
      "source": [
        "iterators = [0.1,0.2,0.3,0.4,0.5,0.6,0.7,0.8,0.9]"
      ],
      "metadata": {
        "id": "Hl_oVDtet5nf"
      },
      "execution_count": 95,
      "outputs": []
    },
    {
      "cell_type": "code",
      "source": [
        "from sklearn.ensemble import RandomForestClassifier as RFC\n",
        "for i in iterators:\n",
        "  X_train, X_test, Y_train, Y_test = train_test_split(X, Y, test_size = i, random_state = 225,stratify=Y)\n",
        "  rfc = RFC(random_state=42)\n",
        "  model_7 = Pipeline([('vectorizer',tvec),('classifier',rfc)])\n",
        "  model_7.fit(X_train,Y_train)\n",
        "  y_pred = model_7.predict(X_test)\n",
        "  print(\"------------------------\")\n",
        "  print(\"test-size = \", i)\n",
        "  print(\"Accuracy : \", accuracy_score(y_pred,Y_test))\n",
        "  print(\"Precision : \", precision_score(y_pred,Y_test, average = 'weighted'))\n",
        "  print(\"Recall : \", recall_score(y_pred,Y_test, average = 'weighted'))\n",
        "  print(\"------------------------\")\n",
        "  print(\"На тестовом наборе\")\n",
        "  y_pred1 = model_7.predict(testX)\n",
        "  print(\"Accuracy : \", accuracy_score(y_pred1,tesY))\n",
        "  print(\"Precision : \", precision_score(y_pred1,tesY, average = 'weighted'))\n",
        "  print(\"Recall : \", recall_score(y_pred1,tesY, average = 'weighted'))\n",
        "  print(\"------------------------\")\n",
        "  "
      ],
      "metadata": {
        "colab": {
          "base_uri": "https://localhost:8080/"
        },
        "id": "iajUk3-Dsjd5",
        "outputId": "91c1f293-acc6-45a4-b5b6-0ef5956727a7"
      },
      "execution_count": 97,
      "outputs": [
        {
          "output_type": "stream",
          "name": "stdout",
          "text": [
            "------------------------\n",
            "test-size =  0.1\n",
            "Accuracy :  0.9714285714285714\n",
            "Precision :  0.9718367346938775\n",
            "Recall :  0.9714285714285714\n",
            "------------------------\n",
            "На тестовом наборе\n",
            "Accuracy :  0.928007889546351\n",
            "Precision :  0.9392543043037622\n",
            "Recall :  0.928007889546351\n",
            "------------------------\n",
            "------------------------\n",
            "test-size =  0.2\n",
            "Accuracy :  0.9714285714285714\n",
            "Precision :  0.9724150331360957\n",
            "Recall :  0.9714285714285714\n",
            "------------------------\n",
            "На тестовом наборе\n",
            "Accuracy :  0.9240631163708086\n",
            "Precision :  0.9360163899603102\n",
            "Recall :  0.9240631163708086\n",
            "------------------------\n",
            "------------------------\n",
            "test-size =  0.3\n",
            "Accuracy :  0.9745830023828436\n",
            "Precision :  0.9751899021668378\n",
            "Recall :  0.9745830023828436\n",
            "------------------------\n",
            "На тестовом наборе\n",
            "Accuracy :  0.9240631163708086\n",
            "Precision :  0.9360163899603102\n",
            "Recall :  0.9240631163708086\n",
            "------------------------\n",
            "------------------------\n",
            "test-size =  0.4\n",
            "Accuracy :  0.9743895175699822\n",
            "Precision :  0.974741319424097\n",
            "Recall :  0.9743895175699822\n",
            "------------------------\n",
            "На тестовом наборе\n",
            "Accuracy :  0.9220907297830375\n",
            "Precision :  0.9353692194983599\n",
            "Recall :  0.9220907297830375\n",
            "------------------------\n",
            "------------------------\n",
            "test-size =  0.5\n",
            "Accuracy :  0.9742612011439467\n",
            "Precision :  0.9748474601271234\n",
            "Recall :  0.9742612011439467\n",
            "------------------------\n",
            "На тестовом наборе\n",
            "Accuracy :  0.9240631163708086\n",
            "Precision :  0.9360163899603102\n",
            "Recall :  0.9240631163708086\n",
            "------------------------\n",
            "------------------------\n",
            "test-size =  0.6\n",
            "Accuracy :  0.971803018268467\n",
            "Precision :  0.9722357899134866\n",
            "Recall :  0.971803018268467\n",
            "------------------------\n",
            "На тестовом наборе\n",
            "Accuracy :  0.9211045364891519\n",
            "Precision :  0.933443746152401\n",
            "Recall :  0.9211045364891519\n",
            "------------------------\n",
            "------------------------\n",
            "test-size =  0.7\n",
            "Accuracy :  0.9703880190605855\n",
            "Precision :  0.9704775968675342\n",
            "Recall :  0.9703880190605855\n",
            "------------------------\n",
            "На тестовом наборе\n",
            "Accuracy :  0.9240631163708086\n",
            "Precision :  0.931560248228091\n",
            "Recall :  0.9240631163708086\n",
            "------------------------\n",
            "------------------------\n",
            "test-size =  0.8\n",
            "Accuracy :  0.9556151325588322\n",
            "Precision :  0.9571795433312977\n",
            "Recall :  0.9556151325588322\n",
            "------------------------\n",
            "На тестовом наборе\n",
            "Accuracy :  0.8974358974358975\n",
            "Precision :  0.9168382124645418\n",
            "Recall :  0.8974358974358975\n",
            "------------------------\n",
            "------------------------\n",
            "test-size =  0.9\n",
            "Accuracy :  0.926131850675139\n",
            "Precision :  0.9362665794823947\n",
            "Recall :  0.926131850675139\n",
            "------------------------\n",
            "На тестовом наборе\n",
            "Accuracy :  0.8708086785009862\n",
            "Precision :  0.9098779006641889\n",
            "Recall :  0.8708086785009862\n",
            "------------------------\n"
          ]
        }
      ]
    },
    {
      "cell_type": "markdown",
      "source": [
        "# Эксперименты"
      ],
      "metadata": {
        "id": "QPt9p0cl-Yho"
      }
    },
    {
      "cell_type": "code",
      "source": [
        "from sklearn.ensemble import RandomForestClassifier as RFC\n",
        "X_train, X_test, Y_train, Y_test = train_test_split(X, Y, test_size = 0.1, random_state = 225,stratify=Y)\n",
        "rfc = RFC(random_state=42)\n",
        "model_7 = Pipeline([('vectorizer',tvec),('classifier',rfc)])\n",
        "model_7.fit(X_train,Y_train)\n",
        "scores = cross_val_score(model_7,X_train, Y_train, cv = 10, scoring='accuracy')"
      ],
      "metadata": {
        "id": "iZ9LxIYWtox0"
      },
      "execution_count": 159,
      "outputs": []
    },
    {
      "cell_type": "code",
      "source": [
        "from sklearn import datasets\n",
        "from sklearn.model_selection import cross_val_score\n",
        "from sklearn.linear_model import LinearRegression"
      ],
      "metadata": {
        "id": "--kQysh4GIm3"
      },
      "execution_count": 156,
      "outputs": []
    },
    {
      "cell_type": "code",
      "source": [
        "print(scores)"
      ],
      "metadata": {
        "colab": {
          "base_uri": "https://localhost:8080/"
        },
        "id": "bRaQJ0sB0lFN",
        "outputId": "cbd9ee00-dcdf-4a8b-915a-8b454d8c9906"
      },
      "execution_count": 160,
      "outputs": [
        {
          "output_type": "stream",
          "name": "stdout",
          "text": [
            "[0.96560847 0.96296296 0.97354497 0.97354497 0.98677249 0.97089947\n",
            " 0.96816976 0.97612732 0.97877984 0.98408488]\n"
          ]
        }
      ]
    },
    {
      "cell_type": "code",
      "source": [
        "print(\"Mean score of %0.2f with a standard deviation of %0.2f\" % (scores.mean(), scores.std()))"
      ],
      "metadata": {
        "colab": {
          "base_uri": "https://localhost:8080/"
        },
        "id": "ZTwhA_Fv-Vod",
        "outputId": "49486b3d-fa16-46ec-f660-22209256f0ad"
      },
      "execution_count": 161,
      "outputs": [
        {
          "output_type": "stream",
          "name": "stdout",
          "text": [
            "Mean score of 0.97 with a standard deviation of 0.01\n"
          ]
        }
      ]
    },
    {
      "cell_type": "code",
      "source": [
        "from sklearn.ensemble import RandomForestClassifier as RFC\n",
        "rfc = RFC(random_state=42)\n"
      ],
      "metadata": {
        "id": "fslqTjbS1KNZ"
      },
      "execution_count": 112,
      "outputs": []
    },
    {
      "cell_type": "code",
      "source": [
        "from sklearn.model_selection import StratifiedKFold"
      ],
      "metadata": {
        "id": "fa8KX29i7jBQ"
      },
      "execution_count": 114,
      "outputs": []
    },
    {
      "cell_type": "code",
      "source": [
        " from sklearn.metrics import roc_auc_score"
      ],
      "metadata": {
        "id": "KfmbWlCu8K8N"
      },
      "execution_count": 118,
      "outputs": []
    },
    {
      "cell_type": "code",
      "source": [
        "import pandas as pd\n",
        "import numpy as np\n",
        "import matplotlib.pyplot as plt\n",
        "import matplotlib\n",
        "from sklearn.ensemble import RandomForestClassifier\n",
        "from sklearn.model_selection import StratifiedKFold\n",
        "from sklearn.metrics import roc_curve, auc\n",
        "%matplotlib inline\n",
        "matplotlib.rcParams.update({'font.size': 20})"
      ],
      "metadata": {
        "id": "y06mrkjD8rKw"
      },
      "execution_count": 121,
      "outputs": []
    },
    {
      "cell_type": "code",
      "source": [
        "def plot_roc_curve(fprs, tprs):\n",
        "    \"\"\"Plot the Receiver Operating Characteristic from a list\n",
        "    of true positive rates and false positive rates.\"\"\"\n",
        "    \n",
        "    # Initialize useful lists + the plot axes.\n",
        "    tprs_interp = []\n",
        "    aucs = []\n",
        "    mean_fpr = np.linspace(0, 1, 100)\n",
        "    f, ax = plt.subplots(figsize=(14,10))\n",
        "    \n",
        "    # Plot ROC for each K-Fold + compute AUC scores.\n",
        "    for i, (fpr, tpr) in enumerate(zip(fprs, tprs)):\n",
        "        tprs_interp.append(np.interp(mean_fpr, fpr, tpr))\n",
        "        tprs_interp[-1][0] = 0.0\n",
        "        roc_auc = auc(fpr, tpr)\n",
        "        aucs.append(roc_auc)\n",
        "        ax.plot(fpr, tpr, lw=1, alpha=0.3,\n",
        "                 label='ROC fold %d (AUC = %0.2f)' % (i, roc_auc))\n",
        "        \n",
        "    # Plot the luck line.\n",
        "    plt.plot([0, 1], [0, 1], linestyle='--', lw=2, color='r',\n",
        "             label='Luck', alpha=.8)\n",
        "    \n",
        "    # Plot the mean ROC.\n",
        "    mean_tpr = np.mean(tprs_interp, axis=0)\n",
        "    mean_tpr[-1] = 1.0\n",
        "    mean_auc = auc(mean_fpr, mean_tpr)\n",
        "    std_auc = np.std(aucs)\n",
        "    ax.plot(mean_fpr, mean_tpr, color='b',\n",
        "             label=r'Mean ROC (AUC = %0.2f $\\pm$ %0.2f)' % (mean_auc, std_auc),\n",
        "             lw=2, alpha=.8)\n",
        "    \n",
        "    # Plot the standard deviation around the mean ROC.\n",
        "    std_tpr = np.std(tprs_interp, axis=0)\n",
        "    tprs_upper = np.minimum(mean_tpr + std_tpr, 1)\n",
        "    tprs_lower = np.maximum(mean_tpr - std_tpr, 0)\n",
        "    ax.fill_between(mean_fpr, tprs_lower, tprs_upper, color='grey', alpha=.2,\n",
        "                     label=r'$\\pm$ 1 std. dev.')\n",
        "    \n",
        "    # Fine tune and show the plot.\n",
        "    ax.set_xlim([-0.05, 1.05])\n",
        "    ax.set_ylim([-0.05, 1.05])\n",
        "    ax.set_xlabel('False Positive Rate')\n",
        "    ax.set_ylabel('True Positive Rate')\n",
        "    ax.set_title('Receiver operating characteristic')\n",
        "    ax.legend(loc=\"lower right\")\n",
        "    plt.show()\n",
        "    return (f, ax)\n",
        "\n",
        "def compute_roc_auc(index):\n",
        "    y_predict = model_7.predict_proba(X.iloc[index])[:,1]\n",
        "    fpr, tpr, thresholds = roc_curve(Y.iloc[index], y_predict)\n",
        "    auc_score = auc(fpr, tpr)\n",
        "    return fpr, tpr, auc_score"
      ],
      "metadata": {
        "id": "YRhJFBPa88gm"
      },
      "execution_count": 127,
      "outputs": []
    },
    {
      "cell_type": "code",
      "source": [
        "cv = StratifiedKFold(n_splits=5, random_state=42, shuffle=True)\n",
        "results = pd.DataFrame(columns=['training_score', 'test_score'])\n",
        "fprs, tprs, scores = [], [], []\n",
        "    \n",
        "for (train, test), i in zip(cv.split(X, Y), range(5)):\n",
        "    model_7 = Pipeline([('vectorizer',tvec),('classifier',rfc)])\n",
        "    model_7.fit(X.iloc[train], Y.iloc[train])\n",
        "    _, _, auc_score_train = compute_roc_auc(train)\n",
        "    fpr, tpr, auc_score = compute_roc_auc(test)\n",
        "    scores.append((auc_score_train, auc_score))\n",
        "    fprs.append(fpr)\n",
        "    tprs.append(tpr)\n",
        "\n",
        "plot_roc_curve(fprs, tprs);\n",
        "pd.DataFrame(scores, columns=['AUC Train', 'AUC Test'])"
      ],
      "metadata": {
        "colab": {
          "base_uri": "https://localhost:8080/",
          "height": 837
        },
        "id": "ZrrSZyZi7MkX",
        "outputId": "2bb06d2d-f1d9-48c8-abdf-ad29df8bc4b1"
      },
      "execution_count": 128,
      "outputs": [
        {
          "output_type": "display_data",
          "data": {
            "text/plain": [
              "<Figure size 1008x720 with 1 Axes>"
            ],
            "image/png": "[encoded data removed]"
          },
          "metadata": {
            "needs_background": "light"
          }
        },
        {
          "output_type": "execute_result",
          "data": {
            "text/plain": [
              "   AUC Train  AUC Test\n",
              "0        1.0  0.996636\n",
              "1        1.0  0.996547\n",
              "2        1.0  0.996128\n",
              "3        1.0  0.996829\n",
              "4        1.0  0.996509"
            ],
            "text/html": [
              "\n",
              "  <div id=\"df-1388dadf-a00f-4bae-8778-65b92dfa724a\">\n",
              "    <div class=\"colab-df-container\">\n",
              "      <div>\n",
              "<style scoped>\n",
              "    .dataframe tbody tr th:only-of-type {\n",
              "        vertical-align: middle;\n",
              "    }\n",
              "\n",
              "    .dataframe tbody tr th {\n",
              "        vertical-align: top;\n",
              "    }\n",
              "\n",
              "    .dataframe thead th {\n",
              "        text-align: right;\n",
              "    }\n",
              "</style>\n",
              "<table border=\"1\" class=\"dataframe\">\n",
              "  <thead>\n",
              "    <tr style=\"text-align: right;\">\n",
              "      <th></th>\n",
              "      <th>AUC Train</th>\n",
              "      <th>AUC Test</th>\n",
              "    </tr>\n",
              "  </thead>\n",
              "  <tbody>\n",
              "    <tr>\n",
              "      <th>0</th>\n",
              "      <td>1.0</td>\n",
              "      <td>0.996636</td>\n",
              "    </tr>\n",
              "    <tr>\n",
              "      <th>1</th>\n",
              "      <td>1.0</td>\n",
              "      <td>0.996547</td>\n",
              "    </tr>\n",
              "    <tr>\n",
              "      <th>2</th>\n",
              "      <td>1.0</td>\n",
              "      <td>0.996128</td>\n",
              "    </tr>\n",
              "    <tr>\n",
              "      <th>3</th>\n",
              "      <td>1.0</td>\n",
              "      <td>0.996829</td>\n",
              "    </tr>\n",
              "    <tr>\n",
              "      <th>4</th>\n",
              "      <td>1.0</td>\n",
              "      <td>0.996509</td>\n",
              "    </tr>\n",
              "  </tbody>\n",
              "</table>\n",
              "</div>\n",
              "      <button class=\"colab-df-convert\" onclick=\"convertToInteractive('df-1388dadf-a00f-4bae-8778-65b92dfa724a')\"\n",
              "              title=\"Convert this dataframe to an interactive table.\"\n",
              "              style=\"display:none;\">\n",
              "        \n",
              "  <svg xmlns=\"http://www.w3.org/2000/svg\" height=\"24px\"viewBox=\"0 0 24 24\"\n",
              "       width=\"24px\">\n",
              "    <path d=\"M0 0h24v24H0V0z\" fill=\"none\"/>\n",
              "    <path d=\"M18.56 5.44l.94 2.06.94-2.06 2.06-.94-2.06-.94-.94-2.06-.94 2.06-2.06.94zm-11 1L8.5 8.5l.94-2.06 2.06-.94-2.06-.94L8.5 2.5l-.94 2.06-2.06.94zm10 10l.94 2.06.94-2.06 2.06-.94-2.06-.94-.94-2.06-.94 2.06-2.06.94z\"/><path d=\"M17.41 7.96l-1.37-1.37c-.4-.4-.92-.59-1.43-.59-.52 0-1.04.2-1.43.59L10.3 9.45l-7.72 7.72c-.78.78-.78 2.05 0 2.83L4 21.41c.39.39.9.59 1.41.59.51 0 1.02-.2 1.41-.59l7.78-7.78 2.81-2.81c.8-.78.8-2.07 0-2.86zM5.41 20L4 18.59l7.72-7.72 1.47 1.35L5.41 20z\"/>\n",
              "  </svg>\n",
              "      </button>\n",
              "      \n",
              "  <style>\n",
              "    .colab-df-container {\n",
              "      display:flex;\n",
              "      flex-wrap:wrap;\n",
              "      gap: 12px;\n",
              "    }\n",
              "\n",
              "    .colab-df-convert {\n",
              "      background-color: #E8F0FE;\n",
              "      border: none;\n",
              "      border-radius: 50%;\n",
              "      cursor: pointer;\n",
              "      display: none;\n",
              "      fill: #1967D2;\n",
              "      height: 32px;\n",
              "      padding: 0 0 0 0;\n",
              "      width: 32px;\n",
              "    }\n",
              "\n",
              "    .colab-df-convert:hover {\n",
              "      background-color: #E2EBFA;\n",
              "      box-shadow: 0px 1px 2px rgba(60, 64, 67, 0.3), 0px 1px 3px 1px rgba(60, 64, 67, 0.15);\n",
              "      fill: #174EA6;\n",
              "    }\n",
              "\n",
              "    [theme=dark] .colab-df-convert {\n",
              "      background-color: #3B4455;\n",
              "      fill: #D2E3FC;\n",
              "    }\n",
              "\n",
              "    [theme=dark] .colab-df-convert:hover {\n",
              "      background-color: #434B5C;\n",
              "      box-shadow: 0px 1px 3px 1px rgba(0, 0, 0, 0.15);\n",
              "      filter: drop-shadow(0px 1px 2px rgba(0, 0, 0, 0.3));\n",
              "      fill: #FFFFFF;\n",
              "    }\n",
              "  </style>\n",
              "\n",
              "      <script>\n",
              "        const buttonEl =\n",
              "          document.querySelector('#df-1388dadf-a00f-4bae-8778-65b92dfa724a button.colab-df-convert');\n",
              "        buttonEl.style.display =\n",
              "          google.colab.kernel.accessAllowed ? 'block' : 'none';\n",
              "\n",
              "        async function convertToInteractive(key) {\n",
              "          const element = document.querySelector('#df-1388dadf-a00f-4bae-8778-65b92dfa724a');\n",
              "          const dataTable =\n",
              "            await google.colab.kernel.invokeFunction('convertToInteractive',\n",
              "                                                     [key], {});\n",
              "          if (!dataTable) return;\n",
              "\n",
              "          const docLinkHtml = 'Like what you see? Visit the ' +\n",
              "            '<a target=\"_blank\" href=https://colab.research.google.com/notebooks/data_table.ipynb>data table notebook</a>'\n",
              "            + ' to learn more about interactive tables.';\n",
              "          element.innerHTML = '';\n",
              "          dataTable['output_type'] = 'display_data';\n",
              "          await google.colab.output.renderOutput(dataTable, element);\n",
              "          const docLink = document.createElement('div');\n",
              "          docLink.innerHTML = docLinkHtml;\n",
              "          element.appendChild(docLink);\n",
              "        }\n",
              "      </script>\n",
              "    </div>\n",
              "  </div>\n",
              "  "
            ]
          },
          "metadata": {},
          "execution_count": 128
        }
      ]
    },
    {
      "cell_type": "code",
      "source": [
        "y_pred10 = model_7.predict(X_test)"
      ],
      "metadata": {
        "id": "waDiNCHg-jg2"
      },
      "execution_count": 144,
      "outputs": []
    },
    {
      "cell_type": "code",
      "source": [
        "len(y_pred10)"
      ],
      "metadata": {
        "colab": {
          "base_uri": "https://localhost:8080/"
        },
        "id": "1m9GREj3-wdV",
        "outputId": "aaf0aeec-1413-4aad-e738-bc71c96b5e3d"
      },
      "execution_count": 145,
      "outputs": [
        {
          "output_type": "execute_result",
          "data": {
            "text/plain": [
              "420"
            ]
          },
          "metadata": {},
          "execution_count": 145
        }
      ]
    },
    {
      "cell_type": "code",
      "source": [
        "print(\"Accuracy : \", accuracy_score(y_pred10,Y_test))"
      ],
      "metadata": {
        "colab": {
          "base_uri": "https://localhost:8080/"
        },
        "id": "34bPrGwY-oq9",
        "outputId": "c94c5462-8eed-4228-90d9-3ba1b7292e1a"
      },
      "execution_count": 146,
      "outputs": [
        {
          "output_type": "stream",
          "name": "stdout",
          "text": [
            "Accuracy :  0.9928571428571429\n"
          ]
        }
      ]
    },
    {
      "cell_type": "code",
      "source": [
        "y_pred11 = model_7.predict(testX)"
      ],
      "metadata": {
        "id": "Kv0wgsFE-_ON"
      },
      "execution_count": 147,
      "outputs": []
    },
    {
      "cell_type": "code",
      "source": [
        "len(y_pred11)"
      ],
      "metadata": {
        "colab": {
          "base_uri": "https://localhost:8080/"
        },
        "id": "m6sgkF-w_JWs",
        "outputId": "01380d7e-6687-4d06-c103-196d5a3fa9e3"
      },
      "execution_count": 148,
      "outputs": [
        {
          "output_type": "execute_result",
          "data": {
            "text/plain": [
              "1014"
            ]
          },
          "metadata": {},
          "execution_count": 148
        }
      ]
    },
    {
      "cell_type": "code",
      "source": [
        "len(tesY)"
      ],
      "metadata": {
        "colab": {
          "base_uri": "https://localhost:8080/"
        },
        "id": "Fx32aHk__Shb",
        "outputId": "c5b80f1b-0272-4e80-9d9c-5d02e6f7b9bc"
      },
      "execution_count": 149,
      "outputs": [
        {
          "output_type": "execute_result",
          "data": {
            "text/plain": [
              "1014"
            ]
          },
          "metadata": {},
          "execution_count": 149
        }
      ]
    },
    {
      "cell_type": "code",
      "source": [
        "print(\"Accuracy : \", accuracy_score(y_pred11,tesY))"
      ],
      "metadata": {
        "colab": {
          "base_uri": "https://localhost:8080/"
        },
        "id": "mN3AfRhI_ByU",
        "outputId": "5c82686b-2229-49b6-ae63-6c83b02e50b8"
      },
      "execution_count": 150,
      "outputs": [
        {
          "output_type": "stream",
          "name": "stdout",
          "text": [
            "Accuracy :  0.9289940828402367\n"
          ]
        }
      ]
    }
  ]
}